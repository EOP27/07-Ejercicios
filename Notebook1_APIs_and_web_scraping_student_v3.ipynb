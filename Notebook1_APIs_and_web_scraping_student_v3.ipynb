{
 "cells": [
  {
   "cell_type": "markdown",
   "metadata": {},
   "source": [
    "# NOTEBOOK 1: APIs and Web Scraping"
   ]
  },
  {
   "cell_type": "markdown",
   "metadata": {},
   "source": [
    "# MODULE 1: Introduction to Web Scraping"
   ]
  },
  {
   "cell_type": "markdown",
   "metadata": {},
   "source": [
    "## 1. Easy Scraping with Pandas"
   ]
  },
  {
   "cell_type": "markdown",
   "metadata": {},
   "source": [
    "Web scraping is used for extracting data from websites. The term typically refers to automated processes implemented using a bot or web crawler. It usually involves two steps: fetching or downloading the website and extracting the relevant information.\n",
    "\n",
    "The simplest way of web scraping is doing it manualy using copy-paste. For example, let's explore this site:\n",
    "https://en.wikipedia.org/wiki/List_of_accidents_and_disasters_by_death_toll\n",
    "\n",
    "\n",
    "When the data we want is already formatted as a HTML table, we can do it easily using `pandas.read_html` built-in function.\n",
    "\n",
    "You may need to install lxml using `pip install xlml`."
   ]
  },
  {
   "cell_type": "code",
   "execution_count": null,
   "metadata": {},
   "outputs": [],
   "source": [
    "import pandas as pd\n",
    "import numpy as np\n",
    "\n",
    "accidents= pd.read_html('https://en.wikipedia.org/wiki/List_of_accidents_and_disasters_by_death_toll')\n",
    "accidents"
   ]
  },
  {
   "cell_type": "markdown",
   "metadata": {},
   "source": [
    "It returns a list containing all the tables of the site converted into DataFrames."
   ]
  },
  {
   "cell_type": "code",
   "execution_count": null,
   "metadata": {},
   "outputs": [],
   "source": [
    "print(type(accidents))\n",
    "print(type(accidents[0]))"
   ]
  },
  {
   "cell_type": "code",
   "execution_count": null,
   "metadata": {},
   "outputs": [],
   "source": [
    "accidents[1].head()    #Devuelve lista de Dataframe para cada tabla que hay en la web"
   ]
  },
  {
   "cell_type": "markdown",
   "metadata": {},
   "source": [
    "We are goingt to extract the date of the worst aviation disaster from the list:"
   ]
  },
  {
   "cell_type": "code",
   "execution_count": null,
   "metadata": {},
   "outputs": [],
   "source": [
    "accidents[1].loc[0,'Date']"
   ]
  },
  {
   "cell_type": "markdown",
   "metadata": {},
   "source": [
    "#### Exercise \n",
    "\n",
    "Assuming the list is exhaustive, calculate how many people died in accidental explosions per decade in the XX century. Plot it.\n",
    "\n",
    "Data: \n",
    "https://en.wikipedia.org/wiki/List_of_accidents_and_disasters_by_death_toll"
   ]
  },
  {
   "cell_type": "code",
   "execution_count": null,
   "metadata": {},
   "outputs": [],
   "source": [
    "accidents[4].head()    #Nos quedamos con la tabla de explosiones"
   ]
  },
  {
   "cell_type": "code",
   "execution_count": null,
   "metadata": {},
   "outputs": [],
   "source": [
    "explosion=accidents[4].copy()    #Me hago una copia de la tabla original en explosion para no modificar la original\n",
    "explosion"
   ]
  },
  {
   "cell_type": "code",
   "execution_count": null,
   "metadata": {},
   "outputs": [],
   "source": [
    "explosion['Deaths'].str.split('–').apply(lambda x: x[0]).str.replace('?','')  #Quito \"-\" y me quedo con el primer valor"
   ]
  },
  {
   "cell_type": "code",
   "execution_count": null,
   "metadata": {},
   "outputs": [],
   "source": [
    "explosion['Deaths'] = explosion['Deaths'].str.split('–')\\\n",
    "                                        .apply(lambda x: x[0])\\\n",
    "                                        .str.replace('[^0-9]','', regex=True)\\\n",
    "                                        .astype('int')"
   ]
  },
  {
   "cell_type": "code",
   "execution_count": null,
   "metadata": {},
   "outputs": [],
   "source": [
    "explosion['Date'] = explosion['Date'].str.replace('[^0-9]','', regex=True).apply(lambda x: x[-4:]).astype('int')"
   ]
  },
  {
   "cell_type": "code",
   "execution_count": null,
   "metadata": {},
   "outputs": [],
   "source": [
    "explosion = explosion[explosion['Date'] < 2000]\n",
    "explosion = explosion[explosion['Date'] >= 1900]\n",
    "explosion"
   ]
  },
  {
   "cell_type": "code",
   "execution_count": null,
   "metadata": {},
   "outputs": [],
   "source": [
    "explosion['Decada'] = explosion['Date'].astype('str').apply(lambda x: x[:3] + '0s')  #Nos quedamos con las décadas"
   ]
  },
  {
   "cell_type": "code",
   "execution_count": null,
   "metadata": {},
   "outputs": [],
   "source": [
    "explosion"
   ]
  },
  {
   "cell_type": "code",
   "execution_count": null,
   "metadata": {},
   "outputs": [],
   "source": [
    "explosion.groupby('Decada')['Deaths'].count().plot()"
   ]
  },
  {
   "cell_type": "code",
   "execution_count": null,
   "metadata": {},
   "outputs": [],
   "source": [
    "explosion.groupby('Decada')['Deaths'].sum().plot()"
   ]
  },
  {
   "cell_type": "code",
   "execution_count": null,
   "metadata": {},
   "outputs": [],
   "source": [
    "legenda = explosion['Decada'].sort_values().unique()"
   ]
  },
  {
   "cell_type": "code",
   "execution_count": null,
   "metadata": {},
   "outputs": [],
   "source": [
    "import seaborn as sns\n",
    "sns.barplot(data = explosion, x='Decada', y='Deaths', order=legenda, ci=None, color='orange')"
   ]
  },
  {
   "cell_type": "markdown",
   "metadata": {},
   "source": [
    "Regular expressions or Regex are not python specific and its implementation can slightly vary from one programming language to another.\n",
    "\n",
    "- Python has an specific library to deal with Regex:\n",
    "\n",
    "https://docs.python.org/3/library/re.html\n",
    "\n",
    "- Regex Tutorial:\n",
    "\n",
    "https://regexone.com/\n",
    "\n",
    "- Test Regex online:\n",
    "\n",
    "https://regex101.com/"
   ]
  },
  {
   "cell_type": "markdown",
   "metadata": {
    "collapsed": true
   },
   "source": [
    "## 2. Fetching a website using Requests"
   ]
  },
  {
   "cell_type": "markdown",
   "metadata": {},
   "source": [
    "To download the html content of a website we will use the requests library.\n",
    "\n",
    "**Spoiler**: This library will become more important when we study web APIs in the next module."
   ]
  },
  {
   "cell_type": "code",
   "execution_count": null,
   "metadata": {},
   "outputs": [],
   "source": [
    "import requests\n",
    "\n",
    "resp = requests.get('https://www.json.org/json-en.html')\n",
    "resp.content[:500]"
   ]
  },
  {
   "cell_type": "code",
   "execution_count": null,
   "metadata": {},
   "outputs": [],
   "source": [
    "resp.content"
   ]
  },
  {
   "cell_type": "code",
   "execution_count": null,
   "metadata": {},
   "outputs": [],
   "source": [
    "print(type(resp))\n",
    "print(type(resp.content))"
   ]
  },
  {
   "cell_type": "markdown",
   "metadata": {},
   "source": [
    "We get back a bytes object. Let's see what is inside the object:"
   ]
  },
  {
   "cell_type": "code",
   "execution_count": null,
   "metadata": {},
   "outputs": [],
   "source": [
    "resp.text[:1000]"
   ]
  },
  {
   "cell_type": "code",
   "execution_count": null,
   "metadata": {},
   "outputs": [],
   "source": [
    "type(resp.text)"
   ]
  },
  {
   "cell_type": "code",
   "execution_count": null,
   "metadata": {},
   "outputs": [],
   "source": [
    "print(resp.text)"
   ]
  },
  {
   "cell_type": "markdown",
   "metadata": {},
   "source": [
    "This is HTML code. When we interact with a site using the get method of the requests library we get the same response as when we use our browser: https://www.json.org/json-en.html. Obviously, we are not interpreting the HTML code, so we get this ugly response.\n",
    "\n",
    "Let's try with another URL:"
   ]
  },
  {
   "cell_type": "code",
   "execution_count": null,
   "metadata": {},
   "outputs": [],
   "source": [
    "r = requests.get('https://www.json.org/img/object.png')   #No tiene sentid hacer un rquest de una imagen\n",
    "r.content[:500]"
   ]
  },
  {
   "cell_type": "markdown",
   "metadata": {},
   "source": [
    "https://www.json.org/img/object.png\n",
    "\n",
    "This time it is an image and we are looking at the bytes of an image."
   ]
  },
  {
   "cell_type": "code",
   "execution_count": null,
   "metadata": {},
   "outputs": [],
   "source": [
    "from IPython.display import Image, display\n",
    "\n",
    "display(Image(r.content))"
   ]
  },
  {
   "cell_type": "markdown",
   "metadata": {
    "collapsed": true
   },
   "source": [
    "## 3. Introduction to HTML"
   ]
  },
  {
   "cell_type": "markdown",
   "metadata": {},
   "source": [
    "### Web page primary elements\n",
    "\n",
    "Web pages are mainly composed of these elements:\n",
    "\n",
    "- **HTML**: Main content\n",
    "- **CSS**: Style\n",
    "- **JavaScript**: Intereactiviy\n",
    "\n",
    "When we are scraping a website we are usually interested in it's main content. Most of the times we focus on the HTML content and we can forget about the other stuff that is going on that it can be overwhelming if you are not a web developer."
   ]
  },
  {
   "cell_type": "markdown",
   "metadata": {},
   "source": [
    "### HTML content"
   ]
  },
  {
   "cell_type": "markdown",
   "metadata": {},
   "source": [
    "#### Tags\n",
    "\n",
    "HTML elements are defined with tags. Some are markup elements with a starting and ending tag lik `<body>` `<\\body>` and others are empty tags like `<br>`. The first and last tags of a html core are `<html>` and `<\\html>`, this tells the web browser that everything inside of it is HTML.\n",
    "\n",
    "Inside the file we usually find two tags: `<head>` and `<body>`. The `<head>` tag contains informationa about the page like title, style etc. The `<body>` tag is where we can find the content and data of the website. It is where we will focus for web scraping.\n",
    "\n",
    "These are the most common and useful tags that we will find inside de `<body>` tag:\n",
    "\n",
    "- `<h1>`, `<h2>`, `<h3>`, `<h4>`, `<h5>` represents text header\n",
    "- `<p>` represents text paragraph\n",
    "- `<div>` represents a block of content\n",
    "- `<a>` represents link\n",
    "- `<img>` represents image\n",
    "- `<table>` represents a table. `<tbody>`, `<tr>`, `<th>`, `<td>` represent different parts of a table: body, row, header - cell and cell.  \n",
    "- `<ol>` represents ordered list. `<li>` represents a list item.\n",
    "- `<ul>` represents unordered list. `<li>` represents a list item.\n",
    "\n",
    "Lets see an example:\n",
    "\n",
    "```html\n",
    "<!DOCTYPE html>\n",
    "<html>\n",
    "    <head>\n",
    "        <title>Title of our site</title>\n",
    "    </head>\n",
    "    <body>\n",
    "        <h1>Title</h1>\n",
    "        <p>Lorem ipsum dolor sit amet, consectetur adipiscing elit. Duis mauris metus, egestas non lectus vitae, efficitur semper nisi. Phasellus et ligula sit amet ipsum hendrerit volutpat. Aenean id blandit quam, ac mollis justo. Sed mattis ornare quam eu gravida. Quisque pellentesque sem in molestie aliquam.</p>\n",
    "        <p>Praesent non leo convallis, malesuada sem non, sagittis tellus. Aliquam erat volutpat. Proin eget tellus tincidunt, condimentum lectus eu, cursus ex. Morbi ac ipsum id tellus hendrerit convallis. Morbi egestas erat porta urna porta euismod. Etiam convallis sed mi sed efficitur.</p>\n",
    "        <ol>\n",
    "            <li>First element</li>\n",
    "            <li>Second element</li>\n",
    "            <li>Third element</li>\n",
    "        </ol>\n",
    "    </body>\n",
    "<\\html>\n",
    "```"
   ]
  },
  {
   "cell_type": "markdown",
   "metadata": {},
   "source": [
    "#### Attributes\n",
    "\n",
    "HTML tags can also have attributes:\n",
    "\n",
    "<img src=\"data:image/png;base64,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\">\n",
    "\n",
    "These attributes, particularly de `class` attribute can be very useful to filter the code."
   ]
  },
  {
   "cell_type": "markdown",
   "metadata": {},
   "source": [
    "#### Exercise\n",
    "\n",
    "Write a HTML page that contains at least a text header, a paragraph, a link and an image."
   ]
  },
  {
   "cell_type": "code",
   "execution_count": null,
   "metadata": {},
   "outputs": [],
   "source": []
  },
  {
   "cell_type": "markdown",
   "metadata": {},
   "source": [
    "### HTML code in Jupyter Notebooks"
   ]
  },
  {
   "cell_type": "markdown",
   "metadata": {},
   "source": [
    "Your can insert HTML code into Jupyter Notebook's markdown cells. Note that it will use Jupyter's style defined in its CSS:\n",
    "\n",
    "\n",
    "**HTML code:**      \n",
    "##############################################################################################################\n",
    "```html\n",
    "<h3>Timeline</h3>\n",
    "<p>The combined timelines for HTML5.0, HTML5.1 and HTML5.2:\n",
    "</p>\n",
    "<table>\n",
    "<tbody><tr>\n",
    "<th>Version</th><th>First draft</th><th>Candidate recommendation</th><th>Recommendation</th></tr>\n",
    "<tr><td>HTML5.0</td><td>2007</td><td>2012</td><td>2014</td></tr>\n",
    "<tr><td>HTML5.1</td>\n",
    "<td>2012</td><td>2015</td><td>2016</td></tr>\n",
    "<tr><td>HTML5.2</td><td>2015</td><td>2017</td><td>2017\n",
    "</td></tr><tr><td>HTML5.3</td><td>2017</td><td>N/A</td><td>N/A\n",
    "</td></tr></tbody></table>\n",
    "```\n",
    "##############################################################################################################\n",
    "\n",
    "**Same code rendered:**\n",
    "##############################################################################################################\n",
    "<h3>Timeline</h3>\n",
    "<p>The combined timelines for HTML5.0, HTML5.1 and HTML5.2:\n",
    "</p>\n",
    "<table>\n",
    "<tbody><tr>\n",
    "<th>Version</th><th>First draft</th><th>Candidate recommendation</th><th>Recommendation</th></tr>\n",
    "<tr><td>HTML5.0</td><td>2007</td><td>2012</td><td>2014</td></tr>\n",
    "<tr><td>HTML5.1</td>\n",
    "<td>2012</td><td>2015</td><td>2016</td></tr>\n",
    "<tr><td>HTML5.2</td><td>2015</td><td>2017</td><td>2017\n",
    "</td></tr><tr><td>HTML5.3</td><td>2017</td><td>N/A</td><td>N/A\n",
    "</td></tr></tbody></table>\n",
    "##############################################################################################################"
   ]
  },
  {
   "cell_type": "markdown",
   "metadata": {},
   "source": [
    "#### Exercise\n",
    "\n",
    "Write the HTML code of the previous exercise in a markdown cell.\n",
    "\n",
    "Note that, since you are writing into a markdown cell and not in an empty page you won't need to include the `<html>` and `<body>` tags."
   ]
  },
  {
   "cell_type": "markdown",
   "metadata": {},
   "source": []
  },
  {
   "cell_type": "markdown",
   "metadata": {},
   "source": [
    "### Render a website inside a notebook\n",
    "\n",
    "We can embed a rendered website into your notebook using IFrame library:"
   ]
  },
  {
   "cell_type": "code",
   "execution_count": null,
   "metadata": {},
   "outputs": [],
   "source": [
    "from IPython.display import IFrame\n",
    "\n",
    "IFrame('https://en.wikipedia.org/wiki/HTML_element', 800, 600)"
   ]
  },
  {
   "cell_type": "markdown",
   "metadata": {},
   "source": [
    "## 4. Extracting information with BeautifulSoup"
   ]
  },
  {
   "cell_type": "markdown",
   "metadata": {},
   "source": [
    "Let's get the content of https://kschool.com/profesores/ using requests:"
   ]
  },
  {
   "cell_type": "code",
   "execution_count": null,
   "metadata": {},
   "outputs": [],
   "source": [
    "from bs4 import BeautifulSoup\n",
    "r = requests.get('https://www.json.org/json-en.html')\n",
    "r"
   ]
  },
  {
   "cell_type": "code",
   "execution_count": null,
   "metadata": {
    "scrolled": true
   },
   "outputs": [],
   "source": [
    "page = r.content\n",
    "page"
   ]
  },
  {
   "cell_type": "markdown",
   "metadata": {},
   "source": [
    "This is very difficult to manage. We can use BeautifulSoup pull data out of it. We would create a BeautifulSoup object out of the content and use `prettify` to get a more readable version of it:\n",
    "\n",
    "You may need to install `html5lib` using pip."
   ]
  },
  {
   "cell_type": "code",
   "execution_count": null,
   "metadata": {
    "scrolled": true
   },
   "outputs": [],
   "source": [
    "soup = BeautifulSoup(page, 'html5lib')\n",
    "soup.prettify()"
   ]
  },
  {
   "cell_type": "markdown",
   "metadata": {},
   "source": [
    "It does not improve a lot, but we see that there are some new lines `\\n` in the string. Let's print it:"
   ]
  },
  {
   "cell_type": "code",
   "execution_count": null,
   "metadata": {
    "scrolled": true
   },
   "outputs": [],
   "source": [
    "print(soup.prettify())"
   ]
  },
  {
   "cell_type": "markdown",
   "metadata": {},
   "source": [
    "We can use find to get backelements of a given type:"
   ]
  },
  {
   "cell_type": "code",
   "execution_count": null,
   "metadata": {},
   "outputs": [],
   "source": [
    "a_link= soup.find('a')\n",
    "a_link"
   ]
  },
  {
   "cell_type": "markdown",
   "metadata": {},
   "source": [
    "We can use `find_all` to get back **all** the elements of a given type:"
   ]
  },
  {
   "cell_type": "code",
   "execution_count": null,
   "metadata": {},
   "outputs": [],
   "source": [
    "all_links = soup.find_all('a')\n",
    "print(len(all_links))\n",
    "type(all_links)"
   ]
  },
  {
   "cell_type": "code",
   "execution_count": null,
   "metadata": {},
   "outputs": [],
   "source": [
    "all_links[0]"
   ]
  },
  {
   "cell_type": "code",
   "execution_count": null,
   "metadata": {},
   "outputs": [],
   "source": [
    "all_links[1]"
   ]
  },
  {
   "cell_type": "markdown",
   "metadata": {},
   "source": [
    "We can also find the ones that have a given attribute"
   ]
  },
  {
   "cell_type": "code",
   "execution_count": null,
   "metadata": {},
   "outputs": [],
   "source": [
    "rule_p = soup.find_all('p', attrs={\"class\" : \"rule\"})\n",
    "print(len(rule_p))\n",
    "rule_p[0]"
   ]
  },
  {
   "cell_type": "code",
   "execution_count": null,
   "metadata": {},
   "outputs": [],
   "source": [
    "rule_p[0].get_text()"
   ]
  },
  {
   "cell_type": "markdown",
   "metadata": {},
   "source": [
    "#### Exercise\n",
    "\n",
    "Make a function that returns a list of the **complete urls** of all images shown in a given a site's url. You need to find out how to extract an attribute from an `bs4.element.Tag` objetc."
   ]
  },
  {
   "cell_type": "code",
   "execution_count": null,
   "metadata": {},
   "outputs": [],
   "source": [
    "url= 'https://www.json.org/json-en.html'\n",
    "\n",
    "    r = requests.get(url)\n",
    "    page = r.content\n",
    "    page\n",
    "\n",
    "    soup = BeautifulSoup(page, 'html5lib')\n",
    "\n",
    "    soup.find_all('img')\n",
    "\n",
    "    soup.find_all('img')[0]['src']\n"
   ]
  },
  {
   "cell_type": "code",
   "execution_count": null,
   "metadata": {},
   "outputs": [],
   "source": [
    "def get_image_urls(url):\n",
    "    r = requests.get(url)\n",
    "    page = r.content\n",
    "    soup = BeautifulSoup(page, 'html5lib')\n",
    "    return [element['src'] for element in soup.find_all('img')]\n"
   ]
  },
  {
   "cell_type": "code",
   "execution_count": null,
   "metadata": {},
   "outputs": [],
   "source": [
    "get_image_urls('https://kartcrg.com/products/?lang=en#1550497919510-884a7e8b-4f53') #Funcion para sacar todas las foto"
   ]
  },
  {
   "cell_type": "markdown",
   "metadata": {
    "heading_collapsed": true
   },
   "source": [
    "# GROUP ACTIVITY 1"
   ]
  },
  {
   "cell_type": "markdown",
   "metadata": {
    "hidden": true
   },
   "source": [
    "Let's extract the information of KSchool teacher's website (https://kschool.com/profesores/) into a pandas DataFrame:\n",
    "1. Explore de HTML code of the website\n",
    "2. Use requests to save the HTML code into a Python object.\n",
    "3. Create a function that returns a list of dictionaries conatining: name, description and if it is or not a KSchool ex-student. **Hint**: Use BeautifulSoup.\n",
    "3. Create a pandas DataFrame using the function you just created."
   ]
  },
  {
   "cell_type": "code",
   "execution_count": 4,
   "metadata": {},
   "outputs": [
    {
     "data": {
      "text/html": [
       "<div>\n",
       "<style scoped>\n",
       "    .dataframe tbody tr th:only-of-type {\n",
       "        vertical-align: middle;\n",
       "    }\n",
       "\n",
       "    .dataframe tbody tr th {\n",
       "        vertical-align: top;\n",
       "    }\n",
       "\n",
       "    .dataframe thead th {\n",
       "        text-align: right;\n",
       "    }\n",
       "</style>\n",
       "<table border=\"1\" class=\"dataframe\">\n",
       "  <thead>\n",
       "    <tr style=\"text-align: right;\">\n",
       "      <th></th>\n",
       "      <th>KSchool</th>\n",
       "      <th>Nombre</th>\n",
       "      <th>Cargo</th>\n",
       "    </tr>\n",
       "  </thead>\n",
       "  <tbody>\n",
       "    <tr>\n",
       "      <th>2</th>\n",
       "      <td>SI</td>\n",
       "      <td>Adrián Fernández</td>\n",
       "      <td>Senior Big Data Engineer en Accenture y exalum...</td>\n",
       "    </tr>\n",
       "    <tr>\n",
       "      <th>8</th>\n",
       "      <td>SI</td>\n",
       "      <td>Alba Torres</td>\n",
       "      <td>Responsable de Proyectos &amp; Analista Digital en...</td>\n",
       "    </tr>\n",
       "    <tr>\n",
       "      <th>19</th>\n",
       "      <td>SI</td>\n",
       "      <td>Alejandro Doncel</td>\n",
       "      <td>CEO en KSchool</td>\n",
       "    </tr>\n",
       "    <tr>\n",
       "      <th>25</th>\n",
       "      <td>SI</td>\n",
       "      <td>Álex Urcola</td>\n",
       "      <td>Data Analytics Consultant en Google y exalumno...</td>\n",
       "    </tr>\n",
       "    <tr>\n",
       "      <th>33</th>\n",
       "      <td>SI</td>\n",
       "      <td>Álvaro Asenjo</td>\n",
       "      <td>Consultor y responsable de I+D en Kolokium y e...</td>\n",
       "    </tr>\n",
       "    <tr>\n",
       "      <th>...</th>\n",
       "      <td>...</td>\n",
       "      <td>...</td>\n",
       "      <td>...</td>\n",
       "    </tr>\n",
       "    <tr>\n",
       "      <th>537</th>\n",
       "      <td>SI</td>\n",
       "      <td>Rubén Merino</td>\n",
       "      <td>SEO Consultant en The Cocktail y Exalumno KSchool</td>\n",
       "    </tr>\n",
       "    <tr>\n",
       "      <th>549</th>\n",
       "      <td>SI</td>\n",
       "      <td>Sebastian Pérez</td>\n",
       "      <td>Travel Intelligence Data Scientist en AMADEUS ...</td>\n",
       "    </tr>\n",
       "    <tr>\n",
       "      <th>562</th>\n",
       "      <td>SI</td>\n",
       "      <td>Toño Guerrero</td>\n",
       "      <td>Líder de equipo de Freelancers, Senior UI &amp; Ix...</td>\n",
       "    </tr>\n",
       "    <tr>\n",
       "      <th>564</th>\n",
       "      <td>SI</td>\n",
       "      <td>Txema Fernandez Fiaño</td>\n",
       "      <td>Big Data &amp; Data Engineer en El Arte de Medir y...</td>\n",
       "    </tr>\n",
       "    <tr>\n",
       "      <th>573</th>\n",
       "      <td>SI</td>\n",
       "      <td>Víctor Orizaola</td>\n",
       "      <td>Gestor de proyectos SEO / PPC / Analítica Web ...</td>\n",
       "    </tr>\n",
       "  </tbody>\n",
       "</table>\n",
       "<p>71 rows × 3 columns</p>\n",
       "</div>"
      ],
      "text/plain": [
       "    KSchool                 Nombre  \\\n",
       "2        SI       Adrián Fernández   \n",
       "8        SI            Alba Torres   \n",
       "19       SI       Alejandro Doncel   \n",
       "25       SI            Álex Urcola   \n",
       "33       SI          Álvaro Asenjo   \n",
       "..      ...                    ...   \n",
       "537      SI           Rubén Merino   \n",
       "549      SI        Sebastian Pérez   \n",
       "562      SI          Toño Guerrero   \n",
       "564      SI  Txema Fernandez Fiaño   \n",
       "573      SI        Víctor Orizaola   \n",
       "\n",
       "                                                 Cargo  \n",
       "2    Senior Big Data Engineer en Accenture y exalum...  \n",
       "8    Responsable de Proyectos & Analista Digital en...  \n",
       "19                                      CEO en KSchool  \n",
       "25   Data Analytics Consultant en Google y exalumno...  \n",
       "33   Consultor y responsable de I+D en Kolokium y e...  \n",
       "..                                                 ...  \n",
       "537  SEO Consultant en The Cocktail y Exalumno KSchool  \n",
       "549  Travel Intelligence Data Scientist en AMADEUS ...  \n",
       "562  Líder de equipo de Freelancers, Senior UI & Ix...  \n",
       "564  Big Data & Data Engineer en El Arte de Medir y...  \n",
       "573  Gestor de proyectos SEO / PPC / Analítica Web ...  \n",
       "\n",
       "[71 rows x 3 columns]"
      ]
     },
     "execution_count": 4,
     "metadata": {},
     "output_type": "execute_result"
    }
   ],
   "source": [
    "import pandas as pd\n",
    "import numpy as np\n",
    "import requests\n",
    "from bs4 import BeautifulSoup\n",
    "\n",
    "\n",
    "url = 'https://kschool.com/profesores/'\n",
    "\n",
    "ks = requests.get(url)\n",
    "\n",
    "webpage = ks.content   #Lo transformo a bytes\n",
    "\n",
    "soup=BeautifulSoup(webpage, 'html5lib')\n",
    "\n",
    "\n",
    "rule_p = soup.find_all('div', attrs={\"class\" : \"name\"})\n",
    "\n",
    "df=pd.DataFrame(np.zeros((len(rule_p),3)),columns={'Nombre','Cargo','KSchool'})\n",
    "\n",
    "for i in range(len(rule_p)):\n",
    "    df['Nombre'].iloc[i]=(rule_p[i].find('h5').get_text())\n",
    "    if (rule_p[i].find('span'))==None:    #Chequeamos si no exíste el cargo para rellenarlo\n",
    "        df['Cargo'].iloc[i]='Sin Cargo'\n",
    "        df['KSchool'].iloc[i]='NO'\n",
    "    else:\n",
    "        df['Cargo'].iloc[i]=(rule_p[i].find('span').get_text())\n",
    "        if (df['Cargo'].str.lower().str.contains('kschool').iloc[i])==True:\n",
    "            df['KSchool'].iloc[i]='SI'\n",
    "        else:\n",
    "            df['KSchool'].iloc[i]='NO'\n",
    "\n",
    "            \n",
    "\n",
    "lista=df[df['KSchool']=='SI']\n",
    "\n",
    "lista\n"
   ]
  },
  {
   "cell_type": "code",
   "execution_count": 56,
   "metadata": {},
   "outputs": [
    {
     "data": {
      "text/html": [
       "<div>\n",
       "<style scoped>\n",
       "    .dataframe tbody tr th:only-of-type {\n",
       "        vertical-align: middle;\n",
       "    }\n",
       "\n",
       "    .dataframe tbody tr th {\n",
       "        vertical-align: top;\n",
       "    }\n",
       "\n",
       "    .dataframe thead th {\n",
       "        text-align: right;\n",
       "    }\n",
       "</style>\n",
       "<table border=\"1\" class=\"dataframe\">\n",
       "  <thead>\n",
       "    <tr style=\"text-align: right;\">\n",
       "      <th></th>\n",
       "      <th>Cargo</th>\n",
       "      <th>KSchool</th>\n",
       "      <th>Nombre</th>\n",
       "    </tr>\n",
       "  </thead>\n",
       "  <tbody>\n",
       "    <tr>\n",
       "      <th>510</th>\n",
       "      <td>Abogado. Socio Director Departamento de Derech...</td>\n",
       "      <td>NO</td>\n",
       "      <td>Rafael García del Poyo</td>\n",
       "    </tr>\n",
       "    <tr>\n",
       "      <th>511</th>\n",
       "      <td>Data Science Manager en BBVA Data &amp; Analytics</td>\n",
       "      <td>NO</td>\n",
       "      <td>Rafael Hernández</td>\n",
       "    </tr>\n",
       "    <tr>\n",
       "      <th>512</th>\n",
       "      <td>Experimentation Program Manager en Mphasis - H...</td>\n",
       "      <td>NO</td>\n",
       "      <td>Rafael Manera</td>\n",
       "    </tr>\n",
       "    <tr>\n",
       "      <th>513</th>\n",
       "      <td>Business Director en Reskyt Online SL</td>\n",
       "      <td>NO</td>\n",
       "      <td>Rafael Martínez</td>\n",
       "    </tr>\n",
       "  </tbody>\n",
       "</table>\n",
       "</div>"
      ],
      "text/plain": [
       "                                                 Cargo KSchool  \\\n",
       "510  Abogado. Socio Director Departamento de Derech...      NO   \n",
       "511      Data Science Manager en BBVA Data & Analytics      NO   \n",
       "512  Experimentation Program Manager en Mphasis - H...      NO   \n",
       "513             Business Director en Reskyt Online SL       NO   \n",
       "\n",
       "                     Nombre  \n",
       "510  Rafael García del Poyo  \n",
       "511        Rafael Hernández  \n",
       "512           Rafael Manera  \n",
       "513         Rafael Martínez  "
      ]
     },
     "execution_count": 56,
     "metadata": {},
     "output_type": "execute_result"
    }
   ],
   "source": [
    "df[(df['Nombre'].str.lower().str.contains('rafael'))]"
   ]
  },
  {
   "cell_type": "code",
   "execution_count": null,
   "metadata": {},
   "outputs": [],
   "source": [
    "# Programa con Diccionarios"
   ]
  },
  {
   "cell_type": "code",
   "execution_count": 36,
   "metadata": {},
   "outputs": [
    {
     "data": {
      "text/plain": [
       "{'Aarón Feliu': 'Director de Arte en Player',\n",
       " 'Adrià Vidal': 'Digital Marketing Analyst en Banco Sabadell',\n",
       " 'Adrián Fernández': 'Senior Big Data Engineer en Accenture y exalumno de KSchool',\n",
       " 'Agustín Calderón': 'Big Data Architect en Accenture',\n",
       " 'Aida Méndez': 'Head of Innovation en Webedia España',\n",
       " 'Ainara Huarte': 'Growth Lead en Lingokids',\n",
       " 'Ainara Simón de las Heras': 'CDO en Bobochoses',\n",
       " 'Aitor Ruano': 'CEO & Founder UpToBe Marketing',\n",
       " 'Alba Torres': 'Responsable de Proyectos & Analista Digital en El Arte de Medir y Exalumna de KSchool',\n",
       " 'Alberto Alcaráz Moreno': 'Cofundador y CEO TribeScale',\n",
       " 'Alberto Cuesta Noriega': 'Systems and Big Data Manager en Telecoming',\n",
       " 'Alberto Fernández Sánchez': 'Director General en Annie Bonnie ',\n",
       " 'Alberto Gómez Toribio': 'Innovation & Blockchain en Bankia',\n",
       " 'Alberto Grande': 'Software Architect en Paradigma Digital',\n",
       " 'Alberto Granero': 'Expert Data Engineer en IoT & Big Data Telefonica Data Unit',\n",
       " 'Alberto Pedrosa': 'CEO en NubIT Consulting ',\n",
       " 'Alberto Rubio': 'Senior Data Scientist en SCRM para LIDL',\n",
       " 'Alberto Sánchez': 'Customer Analytics & DMP en Endesa',\n",
       " 'Albi Rodríguez': 'Co-Founder en LegalBlock',\n",
       " 'Alejandro Doncel': 'CEO en KSchool',\n",
       " 'Alejandro Jódar': 'AdTech Product Owner en Wallapop',\n",
       " 'Alejandro Orviz': 'Fundador y Hombre Orquesta en Blucó',\n",
       " 'Alejandro Vidal': 'Data Scientists & Designer en BBVA Data Analytics',\n",
       " 'Alessia Rullo': 'UX Team Lead at Hewlett-Packard Barcelona',\n",
       " 'Alex Furquet': 'Consultor Marketing Digital',\n",
       " 'Álex Urcola': 'Data Analytics Consultant en Google y exalumno de KSchool',\n",
       " 'Alexandra Quevedo': 'UX / UI Expert: User Research, Interaction Design, Visual',\n",
       " 'Alfonso Morcuende': 'Design Director en Sngular',\n",
       " 'Alfonso Moure': 'SEO, PPC/SEM & Web Analytics Consultant',\n",
       " 'Alfonso Soriano': 'CEO y Experience Designer en Innoarea Projects SL',\n",
       " 'Alfredo Merelo': 'UX Manager & Digital Art en Audaxstudio',\n",
       " 'Alma Alonso': 'Web Analyst & CRO en Tendam Global Fashion Retail Group',\n",
       " 'Almudena Maneiro': 'Director, Partner Marketing EMEA en Salesforce',\n",
       " 'Álvaro Asenjo': 'Consultor y responsable de I+D en Kolokium y exalumno KSchool',\n",
       " 'Álvaro Carrasco': 'Business Designer & UX Lead en Tribal Worldwide Spain',\n",
       " 'Álvaro Gómez': 'Happiness Engineer at Automattic',\n",
       " 'Álvaro Gutiérrez de Cabiedes': 'Project manager - Digital Sales & Marketing en BBVA y Exalumno de KSchool',\n",
       " 'Álvaro Marín': 'Responsable de Behavioral Science en The Cocktail Analysis ',\n",
       " 'Álvaro Orts': 'Director en Orts Consultores',\n",
       " 'Álvaro Peña': 'CEO y Director de SEO en iSocialweb Marketing S.L. ',\n",
       " 'Álvaro Poyales': 'Socio Mr. Milú',\n",
       " 'Álvaro Sánchez': 'Fundador y CEO en Azzgency',\n",
       " 'Álvaro Varona': 'Manager corporativo de UX en Grupo SM',\n",
       " 'Amaia Sagardoy': 'Product designer and UX Consultant en The Cocktail',\n",
       " 'Amanda Garci': 'Data Scientist en BBVA Data & Analytics - Exalumna KSchool',\n",
       " 'Amanda Pitillas': 'Product Design Manager en Cabify',\n",
       " 'Amparo Camacho': 'Senior Service Designer & UX Researcher en Garaje de Ideas S.L.',\n",
       " 'Amparo Sánchez-Rey Rambla': 'Digital Analyst en El Arte de Medir y Exalumna de KSchool',\n",
       " 'Ana Arias': 'Data Scientist en MAPFRE',\n",
       " 'Ana Asuero': 'CPO y CMO en Aplazame',\n",
       " 'Ana Cruzat': 'Coordinadora de fin de semana en Hola.com',\n",
       " 'Ana Duato': 'CTO & Head analytics engineer at El Arte de Medir y Exalumno de KSchool',\n",
       " 'Ana Escuris': 'Senior Project Management en ELOGIA',\n",
       " 'Ana Lastra': 'UX Content Strategist en Telefónica',\n",
       " 'Ana Santos': 'COO en El Arte de Medir',\n",
       " 'Ana Soplón': 'Analista Digital en Banco Santander y exalumna de KSchool',\n",
       " 'Anahí Martín': 'Data Scientist en El Arte de Medir y Exalumna de KSchool',\n",
       " 'Andrés Duque Fernández': 'Profesor Ayudante en la UNED',\n",
       " 'Andrés Gómez Ferrer': 'Big Data Infrastructure Developer en Telefónica',\n",
       " 'Andrés San Martín': 'Senior software engineer en Aubay',\n",
       " 'Andrés Torrubia': 'CEO en FIXR',\n",
       " 'Ángel Barbero': 'Director de Estrategia e Innovación en NATEEVO',\n",
       " 'Ángel Rey': 'Big Data architect, Java & Scala Developer',\n",
       " 'Anita Álvarez Cufari': 'Directora Creativa / Copywriter en Anitaideas',\n",
       " 'Anna Renau': 'Data Scientist en SCRM',\n",
       " 'Antoni Saurina': 'SEO/SEM Manager en WAM We Are Marketing y exalumno de KSchool',\n",
       " 'Antonio Almagro': 'Data Engineer en Amadeus IT',\n",
       " 'Antonio Fagundo': 'CEO en Masaltos.com',\n",
       " 'Antonio Mas': 'Manager en Rehably.es',\n",
       " 'Antonio Parra': 'Product Manager Data Insights',\n",
       " 'Antonio Pita Lozano': 'Global Head of AI & Analytics en Telefónica IoT & Big Data Tech',\n",
       " 'Antonio Sánchez': 'Project Manager en Telefónica',\n",
       " 'Antonio Tena': 'Director Quantic Solutions en Mediapost',\n",
       " 'Ariadna Collazos': 'Head of Social en Ogilvy & Mather',\n",
       " 'Arturo Marimón': 'Consultor SEO/CRO en Barcelona - ArturoMarimon.com',\n",
       " 'Atahualpa Badillo': 'Diseñador estratégico en The Cocktail',\n",
       " 'Axel Brando': 'Data Scientist Industrial PhD student en BBVA Data & Analytics - Universitat de Barcelona',\n",
       " 'Bárbara Martínez': 'Directora de Diseño UX-UI, Analítica Digital y CRO en Openbank',\n",
       " 'Bartek Skorulski': 'Senior Data Scientist at Research Team en Alpha',\n",
       " 'Belén Valiente': 'Digital Consultant',\n",
       " 'Beñat San Sebastian': 'Data Scientist en Mapfre y exalumno de KSchool',\n",
       " 'Bernardo Cabaleiro': 'Senior Data Scientist en Intelligence Partner',\n",
       " 'Bernat Farrero': 'Fundador y CEO de Camaloon',\n",
       " 'Bersio Henrich': 'CX Manager en Desigual',\n",
       " 'Betlem Cardona': 'SEO Manager en Flat 101 y Exalumna de KSchool',\n",
       " 'Bnomio': 'Director Creativo Digital en Accenture Interactive',\n",
       " 'Borja Carril': 'Chief Growth Officer en The Cocktail',\n",
       " 'Borja de la Mota': 'Jefe de Estrategia y Operaciones en Unidad Editorial / BeStory',\n",
       " 'Borja Gómez': 'Business Development Manager for Cloud Innovation en Oracle',\n",
       " 'Carles Ferrer': 'CMO en Glam Software',\n",
       " 'Carles Grau': 'Gestor DCX en CaixaBank Digital Business',\n",
       " 'Carlos Antón': 'Senior UX/SD en BBVA Next Technologies',\n",
       " 'Carlos Beneyto': 'Product Manager en Passporter',\n",
       " 'Carlos de las Heras': 'Lead Data Scientist en JUMP - Data-Driven Video',\n",
       " 'Carlos Gámez Kindelán': 'Miembro de la Interaction Design Foundation',\n",
       " 'Carlos Gil Bellosta': 'Propietario de DATANALYTICS.COM',\n",
       " 'Carlos Iglesias': 'Co-fundador & Consultor de Negocio Online en Runroom',\n",
       " 'Carlos Ignacio Rojas': 'DMP EALA Lead & Digital Analytics Manager en Accenture Interactive',\n",
       " 'Carlos Martín': 'Director Marketing Digital en Deloitte',\n",
       " 'Carlos Molina': 'CEO de Tidart y Managing Partner del Grupo Kimia',\n",
       " 'Carlos Muñoz-Romero': 'CEO en Monoceros',\n",
       " 'Carlos Rodríguez': 'Senior Data Scientist en Telefónica',\n",
       " 'Carlos Sahuquillo': 'IT Security Consultant en GMV',\n",
       " 'Carlos Valbuena': 'Responsable de Innovación en Verti',\n",
       " 'Carlos Zarzuela': 'Diseñador y Researcher en Flat 101',\n",
       " 'Carlos Zubialde': 'Consultor transporte y logística 4.0 en Lis Data Solutions s.l. ',\n",
       " 'Carmen Hevia': 'Senior User Experience Designer en King',\n",
       " 'Carolina Reverón': 'Digital Analytics and CRO Lead en The Cocktail',\n",
       " 'César Aparicio': 'Fundador de Cráneo Previlegiado S.L.',\n",
       " 'César Astudillo': 'Strategic Design and Innovation Advisor',\n",
       " 'César de Pablo': 'Senior Data Scientist at BBVA Data & Analytics',\n",
       " 'Chema Martínez-Priego': 'Socio fundador KSchool',\n",
       " 'Chiara Castellani': 'Head of Ecommerce en Brownie Spain',\n",
       " 'Christian Rodríguez': 'CEO & FOUNDER BYHOURS',\n",
       " 'Christian Toruella': 'Lead UX-UI Designer en Glovo',\n",
       " 'Christopher Grant': 'Global User Experience Director en King',\n",
       " 'Clara Ávila': 'Marketing manager en GoDaddy',\n",
       " 'Clara Montesinos': 'Cofundadora y DirCom en Influencity',\n",
       " 'Clara Soler': 'CEO en Sumeru cima S.L.',\n",
       " 'Cornelia Brezing': 'Cofounder de Grok Visual Thinking ',\n",
       " 'Coro Saldaña': 'Fashion Practice Lead en Accenture',\n",
       " 'Covadonga Fernández': 'Directora de blokchainmedia.es',\n",
       " 'Cris Busquets': 'Lead Product Designer en Holaluz',\n",
       " 'Cristian Romero': 'Senior Programmatic Trader en Havas Media Group',\n",
       " 'Cristina Bustillo': 'Strategic Design en Designit',\n",
       " 'Cristina Galindo': 'Coach Executive y Psicóloga en lideratalento.com',\n",
       " 'Cristina Jover': 'Fundadora Sentido Comunicación ',\n",
       " 'Cristina Pimentel': 'Tech Arch Associate Manager en Accenture España y exalumna de KSchool',\n",
       " 'Cristina Real': 'Directora Creativa en Player Ads',\n",
       " 'Dana Camps': 'Directora de Cuentas en InboundCycle',\n",
       " 'Dania Hernández': 'Responsable Digital en Gloval',\n",
       " 'Daniel Armengol': 'Consultor de arquitectura de información',\n",
       " 'Daniel Burrueco': 'Business Intelligence & Machine Learning Consultant',\n",
       " 'Daniel Catalán': 'Solution Architect at Adidas',\n",
       " 'Daniel García La Torre': 'Business Development Manager en Flat 101',\n",
       " 'Daniel Jurado': 'CEO en Impulsoh.com',\n",
       " 'Daniel Mateos': 'Data Scientist and Bioinformatician',\n",
       " 'Daniel Muñoz': 'Chief Strategy Officer en El Español',\n",
       " 'Daniel Peris': 'CEO de Shutapp Projects S.L. (PICKASO) ',\n",
       " 'Daniel Pinillos': 'SEO consultant & cofunder at funnelpunk.com',\n",
       " 'Daniel Plaza Enebral': 'Desarrollo Tecnológico en Vidibond S.L.',\n",
       " 'Daniel Quiles': 'Managing Partner en Digital Menta',\n",
       " 'Daniel Reina': 'Co-founder en Tappx - Promote your app for free',\n",
       " 'Daniel Riera': 'UX Manager en We Are Marketing',\n",
       " 'Daniel Rodríguez': 'Consultor Blockchain/DLT en Blockchaintorii.com',\n",
       " 'Daniel Sierra': 'Advanced Cyber Defence Cyberintelligence Manager en Banc Sabadell',\n",
       " 'Daniel Torres-Burriel': 'Director de Experiencia de usuario en Torresburriel Estudio',\n",
       " 'Danny Saltaren': 'CEO en Mendesaltaren ',\n",
       " 'Darío Méndez': 'Sales Director Spain en ElTenedor',\n",
       " 'Dave Medina': 'Estrategia y Desarrollo de Negocio en Internet',\n",
       " 'David Barrios': 'Director de diseño en BrandFor',\n",
       " 'David de Prado': 'Head of Service Design en BBVA',\n",
       " 'David Díez': 'Technology Strategist, Technical Manager en everis',\n",
       " 'David Esteve': 'Responsable de Desarrollo de Audiencias y SEO en El Confidencial',\n",
       " 'David Fernel': 'Gerente de Negocio en Mutua Madrileña Automovilística',\n",
       " 'David Gesto': 'Big data Architect en Openbank',\n",
       " 'David Martínez Calduch': 'Desarrollo de Negocio en Cuentas Estratégicas y Corporativas Consultor en Social Selling y Estratega en Marketing Digital en SolucionaFacil.es',\n",
       " 'David Moreno del Cerro': 'Head of Technology en Tendam Retail',\n",
       " 'David Piris': 'Senior Data Engineer en EA',\n",
       " 'David Ramos': 'Product Owner en La Vanguardia',\n",
       " 'David Rodríguez': 'Data Scientist en Telefónica',\n",
       " 'David Sanz': 'Analytics Engineer en El Arte de Medir',\n",
       " 'David Tomás': 'General Manager at Cyberclick Agent',\n",
       " 'David Vaquerizo': 'Marketplace Manager en Marsan Industrial',\n",
       " 'Delphine Boghos': 'Artista y facilitadora visual - Freelance',\n",
       " 'Diana F. Vélez': 'Information & Data Visualization Designer en Barcelona Supercomputing Center ',\n",
       " 'Diego Alejandro Higuera': 'Analista Digital en El Arte de Medir y exalumno de KSchool',\n",
       " 'Diego Criado': 'Cofundador en ITB y exalumno de KSchool',\n",
       " 'Diego Iturriet': 'Senior User Researcher en Cabify',\n",
       " 'Diego Marquínez': 'Entrepreneur, digital/web analytics & data integration ambassador.',\n",
       " 'Diego Pérez': 'Lider Técnico & Arquitecto en UST Global',\n",
       " 'Diego Valero': 'CEO Behavioral Pensions ',\n",
       " 'Dori López': 'CEO en Innova Digital Export',\n",
       " 'Eduardo Fernández': 'Data Science en Stratio BD',\n",
       " 'Eduardo Garolera': 'CEO en Digital Growth',\n",
       " 'Eduardo Plasencia': 'Digital Project Manager en DBi - Havas Media y Exalumno de KSchool',\n",
       " 'Eduardo Saavedra': 'Responsable de Inbound Marketing en Deloitte',\n",
       " 'Eduardo Sánchez Rojo': 'Senior Analyst & Project Manager en El Arte de Medir y Exalumno de KSchool',\n",
       " 'Efrén Serrano': 'Project Manager / Product Owner en BBVA Data & Analytics y Exalumno de KSchool',\n",
       " 'Ekaitz Barrenetxea': 'Manager de Customer Intelligence en Verisure Securitas Direct',\n",
       " 'Elena Costa': 'Research Advisor en Tobii Pro',\n",
       " 'Elena del Olmo': 'Profesora Asociada en la UCM | Lingüista computacional',\n",
       " 'Elena Fernández': 'Product Director & Account Director en The Cocktail',\n",
       " 'Elena Grande': 'Responsable del Canal Online en Brother Iberia',\n",
       " 'Elena Ponce': 'Digital Analyst en El Arte de Medir y Exalumna de KSchool',\n",
       " 'Elisabet Matoses': 'Directora Experiencia de cliente e innovación en RocaSalvatella',\n",
       " 'Elisabet Sabaté': 'Directora Creativa & Executive Partner en Be Agency',\n",
       " 'Elisenda Williams': 'Digital Marketing Consultant & Social Media Manager | Freelance',\n",
       " 'Elizaveta Kushnareva': 'Analista Digital en Nateevo y Exalumna de KSchool',\n",
       " 'Eloy García': 'Neuropsicólogo en HedonicBrain',\n",
       " 'Eloy Urarte': 'Head of UX & CRO en Grupo Planeta',\n",
       " 'Enrique Hidalgo': 'Technical SEO | Freelance',\n",
       " 'Enrique Martínez': 'Product Designer en Mr Jeff',\n",
       " 'Enrique Ricart': 'Diseño estratégico en Soulsight',\n",
       " 'Enrique Viejo': 'Director creativo en NOW Havas',\n",
       " 'Ernesto Correa': 'Consultant-Engineer, I+D en ALTRAN',\n",
       " 'Ernesto Fernández': 'Técnico de Ciberseguridad en INCIBE',\n",
       " 'Estela Franco': 'SEO Specialist en Holaluz.com',\n",
       " 'Esteve Castells': 'Global SEO Manager en Adevinta',\n",
       " 'Esther Achaerandio': 'Lead en Designit',\n",
       " 'Esther Azcano': 'Head of SEO en Habitant y Exalumna de KSchool',\n",
       " 'Esther González': 'CEO & Founder en UpToBe Marketing Digital y exalumna de KSchool',\n",
       " 'Eusebio Castro': 'Supervisor de Marketing y Marca en Deloitte',\n",
       " 'Eva Manrique': 'Expert Researcher en Telefónica',\n",
       " 'Eva Marí': 'Head Of Marketing & CRO en Lucera Energía y exalumna de KSchool',\n",
       " 'Eva Snijders': 'StoryCoach',\n",
       " 'Fabián de Castro': 'Business Manager en Zenith Valencia',\n",
       " 'Fani Sánchez': 'SEO & CRO Consultant en mendesaltaren',\n",
       " 'Fátima Sánchez': 'Responsable Unidad de Bioinformática en el Centro Nacional de Investigaciones Cardiovascular',\n",
       " 'Felipe A. García Ochando': 'SEO Specialist en We Are Marketing',\n",
       " 'Felipe Gómez-Pallete': 'Head of e-commerce and digital. Shopify Expert',\n",
       " 'Fernanda Lugmaña': 'Lider de Proyecto Investigación en Universidad de Granada',\n",
       " 'Fernando Abadía': 'Facilitador Visual & Responsable Unidad de Innovación Instituto Aragonés de Ciencias de la Salud',\n",
       " 'Fernando Aparicio': 'Digital Services Director at Amvos',\n",
       " 'Fernando de Córdoba': 'Estratega de marca, contenidos y narrativa',\n",
       " 'Fernando Maciá': 'Socio fundador y director de Human Level Communications',\n",
       " 'Fernando Muñoz': 'Head of Demand Generation & Corporate Marketing en Anfix',\n",
       " 'Fernando Rabanal': 'Senior Data Scientist en Vodafone Group',\n",
       " 'Flor Juin': 'CEO en Floritech Digital Consulting S.L',\n",
       " 'Francisco Carrero': 'Program Manager at Zara.com',\n",
       " 'Francisco de Campos': 'Guionista en DIAGONAL TV y exalumno de KSchool',\n",
       " 'Francisco Fernández': 'Software Engineer at DataStax',\n",
       " 'Francisco Gallego': 'Head of Digital Analytics en Unidad Editorial y Exalumno de KSchool',\n",
       " 'Francisco García': 'CISO en Palladium Hotel Group',\n",
       " 'Francisco Gómez': 'Project Manager en NubIT Consulting',\n",
       " 'Francisco Javier Martínez': 'Senior Developer & Marketing Cloud Consultant en We Are Marketing',\n",
       " 'Francisco José Sánchez': 'Data & Analytics Responsible en Heineken España, S.A.',\n",
       " 'Francisco López': 'Chief Operating Officer at PickASO',\n",
       " 'Francisco Maturana': 'Director at BBVA Data Strategy',\n",
       " 'Francisco Morales': 'Analyst & SEO en El Periódico / Sport',\n",
       " 'Franco Albareti': 'Data Scientist & Software Developer BME Inntech',\n",
       " 'Gabriel Gallego': 'Data Analyst en Orange y Exalumno de KSchool',\n",
       " 'Gema Mora': 'Responsable de Analítica Digital en Iberia y Exalumna de KSchool',\n",
       " 'Gemma Muñoz': 'Founder & Chief Data Officer de El Arte de Medir',\n",
       " 'Gianluca Fiorelli': 'Director de Marketing en Abansys & Hostytec',\n",
       " 'Gina Gulberti': 'VP Digital Marketing en Launchmetrics',\n",
       " 'Gisele Murias': 'Customer analytics & Product designer en Acens y Exalumna KSchool',\n",
       " 'Gonzalo Iruzubieta': 'Senior Sales Manager en comScore',\n",
       " 'Gregorio Castaño': 'Marketing, Ecommerce and Direct Sales Director y Exalumno de KSchool',\n",
       " 'Guillem Mateu': 'Programado Senior en Actio',\n",
       " 'Guillermo Barco Muñoz': 'Investigador Blockchain en Banco Santander',\n",
       " 'Guillermo Castellanos': 'Head of Analytics en EL PAÍS',\n",
       " 'Guillermo Domínguez': 'UX Designer en The Cocktail y Exalumno de KSchool',\n",
       " 'Guillermo Hernández': 'UX and Product Strategy Lead en The Cocktail',\n",
       " 'Guillermo Navarro': 'Director de Estrategia y Socio Fundador de La Mujer del Presidente',\n",
       " 'Guillermo Ortiz': 'Big Data Architect en Orange',\n",
       " 'Guillermo Peciña': 'CMO de Hawk X y Exalumno de KSchool',\n",
       " 'Guillermo Ribeiro': 'Senior Data Scientist en Cepsa',\n",
       " 'Héctor Ferrer': 'Senior Digital Analyst en HIKE y Exalumno de KSchool',\n",
       " 'Héctor Mainar': 'Director digital en Fútbol Emotion',\n",
       " 'Héctor Merodio': 'Cofundador y Director de OHDigital',\n",
       " 'Helena Sierra': 'Líder Local de Interaction Design Foundation',\n",
       " 'Henar Vega': 'Senior UX Designer at Secuoyas',\n",
       " 'Henry Anaya-Sánchez': 'NLP/NLU Technical Lead (chief Data Science) en Lang.ai',\n",
       " 'Henry Daniel Navarro': 'Lead Data Scientist en Altran',\n",
       " 'Ibán López': 'SEO freelance y en particular, consultor SEO en Valencia.',\n",
       " 'Idaira González': 'Service Designer & Senior Innovation Consultant. Design Thinking Coach en IBM',\n",
       " 'Ignacio de la Iglesia': 'Quantitative Lead y responsable CrossMedia en The Cocktail Analysis',\n",
       " 'Ignacio López': 'Strategy & RegTech en Paradigma Digital',\n",
       " 'Ignacio Pérez': 'Arquitecto Big Data en Accenture ',\n",
       " 'Ignasi Boza': 'Freelance UX Designer',\n",
       " 'Igor Arambasic': 'Head of Data Science en Amadeus',\n",
       " 'Iker Cano': 'UX Lead en The Cocktail',\n",
       " 'Imanol Morata': 'Data Science Team Lead en The Hotels Network ',\n",
       " 'Iñaki Bermejo': 'Director general vdSHOP',\n",
       " 'Iñaki Huerta': 'Director y Consultor en IKAUE',\n",
       " 'Inés Maruri': 'Digital Consultant en Accenture Interactive',\n",
       " 'Irene Ferrer': 'Design Lead en Everis',\n",
       " 'Irene Torres': 'Analista de Inteligencia de Clientes en Reale Compañía de Seguros S.A.',\n",
       " 'Isabel Freyre': 'Strategic Design Manager en The Cocktail',\n",
       " 'Ismael Blazquez': 'Head of Sales en Adsmurai',\n",
       " 'Ismael García': 'Client Executive en Kantar',\n",
       " 'Ismael Yuste': 'Strategic Cloud Engineer en Google',\n",
       " 'Israel García': 'Director de Estrategia Digital en Real Madrid C.F.',\n",
       " 'Israel Herraiz': 'Strategic Cloud Engineer en Google',\n",
       " 'Itziar Pobes': 'Service Designer & Project Brain en We Question Our Project',\n",
       " 'Iván Campos': 'B2B Marketing & Lead Generation Consultant ',\n",
       " 'Iván Fernández Perea': 'Responsable Estrategia Tecnológica en BBVA Next Technologies',\n",
       " 'Iván Leal': 'Diseñador de productos digitales, experto en narrativa de producto | Director en Tuelfworks',\n",
       " 'Iván López Mazón': 'Ecommerce Manager en Gioseppo',\n",
       " 'Iván Ruiz Sevilla': 'CoFounder & CEO SEOCOM.es',\n",
       " 'Iván Serrano': 'Creative Designer at Televisió de Catalunya',\n",
       " 'Jaime González Rodríguez': 'Senior Technical Expert en Telefónica I+D',\n",
       " 'Jaime Salas': 'Senior Security Analyst at Deloitte CyberSoc',\n",
       " 'Jaime Serrano': 'COO y Founder en Cloud District',\n",
       " 'Jairo Moreno': 'Product Manager en Bag on Board y Exalumno de KSchool',\n",
       " 'Jaume Gomá': 'CEO at ulabox.com',\n",
       " 'Jaume Pérez': 'Consultor Freelance y Formador - Data Visualization, Business Analytics, Digital Analytics',\n",
       " 'Javier Agudo': 'CTO y SEO Manager en Clubrural',\n",
       " 'Javier Alonso Bataller': 'Customer Experiende Officer (CxO) en Connectif Artificial Intelligence ',\n",
       " 'Javier Arenillas': 'Growth Manager en The Cocktail ',\n",
       " 'Javier Cañadillas': 'Enterprise Customer Engineer en Google',\n",
       " 'Javier Casares': 'WordPress Hosting & Security',\n",
       " 'Javier Concha': 'Cofundador y Director de Marketing en SANTACONCHA - Exalumno KSchool',\n",
       " 'Javier Cuello': 'UX Designer',\n",
       " 'Javier Fernández': 'Technical Account Manager en SMART',\n",
       " 'Javier Ferraz': 'Business Manager en Funidelia ',\n",
       " 'Javier López': 'Head of SEO en Diario AS y Exalumno de KSchool',\n",
       " 'Javier Matallana': 'Head of Sales Vertical en Client Partner en Amazon',\n",
       " 'Javier Ortíz': 'Digital Sales / Digital Presence Director en Sanitas',\n",
       " 'Javier Riestra': 'Digital Analytics Senior Manager EMEA en The Walt Disney Company y Exalumno de KSchool',\n",
       " 'Javier Rivera': 'COO en Shapers Co',\n",
       " 'Javier Timón': 'Digital Analytics Manager en Banco Santander y Exalumno de KSchool',\n",
       " 'Javier Usobiaga': 'Front-End Developer, UX Designer & Speaker y Cofundador de SWWWEET',\n",
       " 'Javier Viñas': 'Digital Strategist | Data Analyst y Exalumno de KSchool',\n",
       " 'Jesús Alcalde': 'Responsable DevSecOps e I+D en Zerolynx S.L.',\n",
       " 'Jesús Arias': 'SEO Manager en Ofertia.com',\n",
       " 'Jesús Aspra': ' Managing Director en Weborama España y Latam',\n",
       " 'Jesús Gallent': 'Director de diseño en Soluble Studio',\n",
       " 'Jesús González': 'Gerente en Retail ON Distribución y Venta SL',\n",
       " 'Jesús Martín': 'Diseñador de producto y consultor de voz en Jesusmartin.eu y Exalumno KSchool',\n",
       " 'Jesús Virseda': 'Data Scientist en SCRM Lidl International Hub',\n",
       " 'Joan Gorrita': 'Senior Digital Marketing Consultant & SEM Specialist GlobalWords.net',\n",
       " 'Joaquín Melgarejo': 'Technical Delivery Team Manager AI & Analytics en Telefónica',\n",
       " 'Joaquín Pais': 'CEO en ShowerThinking',\n",
       " 'Joaquín Ruiz': 'CTO en Flat 101',\n",
       " 'Jordi Andrés Solsona': 'UX Research & Design en CaixaBank Digital Business',\n",
       " 'Jordi Bueno': 'Senior Frontend Developer en Beroomers',\n",
       " 'Jordi Galobart': 'Tech Product Manager en Marfeel',\n",
       " 'Jordi Ordóñez': 'Consultor de eCommerce y Formador',\n",
       " 'Jordi Rosell': 'CTO & Digital Analytics en The DIAR',\n",
       " 'Jorge Alejandro García': 'Product Manager en Docomo digital y Exalumno de KSchool',\n",
       " 'Jorge Ayuso Rejas': 'Data Scientist en Telefónica España',\n",
       " 'Jorge Barriobero': 'Co-fundador y Director de diseño en Tiempo relativo',\n",
       " 'Jorge García Gómez': 'CEO - Cofundador en Marketing Paradise ',\n",
       " 'Jorge García Peinador': 'B2B IT Transformation Manager en MÁSMÓVIL',\n",
       " 'Jorge González Marcos': 'Country Manager Prestashop',\n",
       " 'Jorge Llorente': 'Analista Digital en El Arte de Medir y Exalumno de KSchool',\n",
       " 'Jorge Muñoz': 'Digital Performance Director en Viva! Conversion',\n",
       " 'Jorge Ordovás': 'Co-responsable del equipo de Blockchain en el área de Innovación en Telefónica',\n",
       " 'Jorge Romeo': 'Magento Developer en Flat 101',\n",
       " 'Jose A. Rodríguez': 'Data Science Program Manager en BBVA Data & Analytics',\n",
       " 'José Braulio Moreno': 'Freelance',\n",
       " 'José Carlos Cortizo': 'CMO en Product Hackers',\n",
       " 'José Carlos Rodríguez': 'Head of Art en Publicis/Wysiwyg',\n",
       " 'José Castro': 'Co-Fundador y CTO en FLOSSystems',\n",
       " 'José de la Peña': 'Consultor de comunicación en interacso y Exalumno de KSchool',\n",
       " 'José Emeterio Vicente': 'Responsable departamento SEO en Human Level Communications',\n",
       " 'José Javier Díaz García': 'Head of CRM, CX, Omnichannel Orchestration and Marketing Automation en Ogilvy',\n",
       " 'Jose Juan Mora': ' CTO y fundador de Kolokium',\n",
       " 'José Luis Blanco': 'Lead Data Scientist Nombre de la en Shazura',\n",
       " 'José Luis Manzano': 'Director Comercial y Desarrollo de Negocio para el Sur de Europa en eBay Marketplaces',\n",
       " 'José Luis Pérez': 'Digital Marketing Specialist',\n",
       " 'Jose Manuel Ausin': 'Brand proyect Manager en Quatechnion, SL.',\n",
       " 'José Manuel Valdeolmillos': 'Senior Consultant Business Analytics & Big Data en Minsait y Exlaumno de KSchool',\n",
       " 'José Manuel Vega': 'Socio Director de Estrategia Digital en EL EQUIPO E',\n",
       " 'Jose María Estebanez': 'Senior Director of Marketing en Kyocera Document Solutions Europe',\n",
       " 'José Ramón Cajide': 'Senior Data Scientist en Ryanair y Exalumno de KSchool',\n",
       " 'José Ramón Padrón': 'Spain Country Manager en SiteGround Spain S.L. ',\n",
       " 'José Ramón Pérez': 'Partner Manager en Jellyfish',\n",
       " 'José Rodríguez Masa': 'Analista digital / UX en El Arte de Medir y Exalumno de KSchool',\n",
       " 'Joseba Alonso': 'Front End Architect & Chapter Lead at Vodafone',\n",
       " 'Josep Bardallo': 'CIO & CISO en Recoletas Red Hospitalaria',\n",
       " 'Juan Antonio Velasco': 'Investigador en Ciberseguridad',\n",
       " 'Juan Arévalo': 'Senior Data Scientist en Cepsa',\n",
       " 'Juan Armesto': 'CRO (UK&US Markets) en Santander Digital en Banco Santander y Exalumno KSchool',\n",
       " 'Juan Daniel Fuentes': 'Responsable Departamento Publicidad Online en Human Level',\n",
       " 'Juan Manuel Martínez': 'Especialista Forense en Telefónica',\n",
       " 'Juan Manuel Pulido': 'UX/UI Visual Design Lead en Accenture Interactive',\n",
       " 'Juan Moyano': 'Founder & CEO en Cresol.club',\n",
       " 'Juan Pablo Alberca': 'COO en Santafixie Group S.L',\n",
       " 'Juan Pablo Costanzo': 'Head of Product Design en Mr Jeff',\n",
       " 'Juan Pedro Bretti': 'Digital transformation engineer en Repsol',\n",
       " 'Juan Pedro Marreiros-Neto': 'Director Comercial en NubIT Consulting',\n",
       " 'Juan Ramón Duque': 'Senior Data Scientist en Vodafone',\n",
       " 'Juan Turrión': 'Cloud Consultant en Google',\n",
       " 'Judit Sáez': 'Communications Strategist',\n",
       " 'Julián Sánchez': 'Head of SEO & Web Analytics at DigitasLBi',\n",
       " 'Julián Santamaría': 'Cofundador y Director Técnico en SANTACONCHA - Exalumno KSchool',\n",
       " 'Julien Cojan': 'Data Scientist en Amadeus IT Group',\n",
       " 'Julien Hennico': 'B2B Marketing & Lead Generation consultant',\n",
       " 'Julio Pomar': 'Responsable de Analítica en ABC.es y Exalumno de KSchool',\n",
       " 'Karina Ibarra': 'Design Lead en Fjord',\n",
       " 'Lander Muruaga': 'UX lead for B2B en UEFA ',\n",
       " 'Lasse Rouhiainen': 'Advisory Board Member en 1MillionBot ',\n",
       " 'Laura Castro': 'Public Relations Manager en Platamomelón',\n",
       " 'Laura Cloquell': 'Analista Digital en Sportmaniacs y Exalumna de KSchool',\n",
       " 'Laura Fernández': 'Analista Digital en El Arte de Medir',\n",
       " 'Laura Garrido': 'Inbound Marketing Specialist',\n",
       " 'Laura Hueso': 'Social Media Strategist en Grey Social y Exalumna de KSchool',\n",
       " 'Laura López': 'Account Executive en iProspect',\n",
       " 'Laura Morales': 'Senior Product and Service Designer en Secuoyas',\n",
       " 'Leonardo Baldassini': 'Data Scientist en BBVA Data & Analytics',\n",
       " 'Leonel Francisco Pérez': 'Neuroscience Research, EEG and and Biometrics R&D en Ipsos',\n",
       " 'Leticia Juristo': 'Digital Intelligence Manager en Mahou San Miguel',\n",
       " 'Lidia Serrano': 'Data & Martech Manager en IPG Mediabrands y Exalumna de KSchool',\n",
       " 'Llorenç Palomas': 'CMO & Growth en Doofinder',\n",
       " 'Lorena Castells': 'Directora en Lorena Merino Atelier',\n",
       " 'Lorena García': 'Digital Specialist en Havas Media Group ',\n",
       " 'Lorena Pérez': 'Directora Departamento Derecho de los Negocios, Salud y Tecnología en Jurand Abogados y Consultores Tributarios',\n",
       " 'Loreto Gómez': 'Fundadora en Lady Tools',\n",
       " 'Luca Brighenti': 'Founder & CEO en B4Bind SL',\n",
       " 'Lucía Palacios': 'UX Lead in Research, Service Design & Innovation en Legridd',\n",
       " 'Lucía Verbo': 'Directora - Sector energía en Inteliens',\n",
       " 'Luis Calderón': 'Head of UX en El Confidenciall y Exalumno de KSchool',\n",
       " 'Luis Fantini': 'Vicepresidente de Marketing y Tecnologia en ROI UP Group',\n",
       " 'Luis Francisco Monge': 'Investigador en Ciberseguridad en INCIBE',\n",
       " 'Luis Herrero Jiménez': 'Visual Designer en Plex',\n",
       " 'Luz Calvo': 'UX & Data Visualization Designer en el Centro Nacional Supercomputación (BSC-CNS)',\n",
       " 'Magaly Pérez': 'IT Project Manager Dynamics 365 en FHIOS Smart Knowledge',\n",
       " 'Mai Molina': 'International Performance Specialist en Stradivarius - Inditex',\n",
       " 'Maika García': 'UX Researcher en Desigual',\n",
       " 'Majo Castillo': 'COO en Zeus',\n",
       " 'Malwine Steinbock': 'Managing Director en Food Republik',\n",
       " 'Manuel Carpio': 'Socio de SEA2SEE',\n",
       " 'Manuel de la Higuera': 'Responsable de UX en El Corte Inglés',\n",
       " 'Manuel González': 'UX/UI Design Associate Manager en Accenture Interactive',\n",
       " 'Manuel Guedes': 'COO & Co-Founder en Influniversity',\n",
       " 'Manuel Moreno': 'Periodista. Redactor Jefe en Kelisto.es y fundador de TreceBits.com',\n",
       " 'Manuel Polo': 'Fundador en Wualabs LTD',\n",
       " 'Manuel Proy': 'Data Officer en Pernod-Ricard',\n",
       " 'Manuel Romero': 'Consultor Data Science y Big Data en Tinámica',\n",
       " 'Manuel Sarmiento': 'Deep Learning Engineer en Vilynx',\n",
       " 'Mar Sierra': 'Conversion Specialist & Product design',\n",
       " 'Mar Villanueva': 'Business Development & IT Consultant en Retail Rocket',\n",
       " 'Marc Erra': 'CEO en Oct8ne',\n",
       " 'Marçal Orri': 'Consultor y Generente en BDM Consultoría',\n",
       " 'Marcela Machuca': 'Sr. Service Designer en Nordea',\n",
       " 'Marcelo Arnone': 'Digital Marketing & Commerce Practice Lead en Capgemini',\n",
       " 'Marco Laucelli': 'Hands-on digital thinking.',\n",
       " 'María Benavides': 'Co-Fundadora de Scrollup',\n",
       " 'María Hernández': 'Senior Data Scientist en BBVA Data & Analytics',\n",
       " 'María José Millán': 'Directora de Marketing y Estrategia de Visualfy',\n",
       " 'María José Peláez': 'Staff Data Scientist leading Insights Search & Discovery en Adevinta',\n",
       " 'María López': 'CEO en Britbrain',\n",
       " 'María Mainar': 'Growth Marketing & Digital Experimentation en ING Labs y Exalumna de KSchool',\n",
       " 'María Montesinos': 'Consultora SEO en Adesis y Exalumna de KSchool',\n",
       " 'Maria O’Neill García': 'Account Manager. LCS Spain at Google',\n",
       " 'María Pérez de Arrilucea': 'UX Designer & Researcheren InfoJobs',\n",
       " 'María Renilla': 'Project & Research Director | New Business en Redbility',\n",
       " 'María Rico': 'Client Services Manager en MDirector',\n",
       " 'María Teresa Nieto': 'Blockchain Technological Specialist en Telefónica I+D',\n",
       " 'María Velasco': 'Chief Strategy & Innovation Officer en Mr. Milú y Exalumna de KSchool',\n",
       " 'Mariel Pérez': 'Head of Branding & Nurture | CRM | Marketing en Lookiero',\n",
       " 'Marieva del Peral': 'Product Director and Brand Specialist en The Cocktail',\n",
       " 'Mariia Tiutiunnikova': 'SEM consultant',\n",
       " 'Mario Araque': 'Product Manager en Mr Jeff',\n",
       " 'Mario Arcos': 'Digital Creative Director & Brand Experience en M&C SAATCHI SPAIN',\n",
       " 'Mario Encinar': 'Data Scientist en Mapfre y Exalumno de KSchool',\n",
       " 'Mario Pérez-Montoro': 'Catedrático de la Facultad de Información y Medios Audiovisuales de la Universidad de Barcelona',\n",
       " 'Mario Sánchez': 'Creativity & User Experience Director de Redbility. Founding Partner',\n",
       " 'Mario Torija': 'Country Manager en S4M',\n",
       " 'Mariona Farell': 'Experta en Blockchain',\n",
       " 'Màrius Rossell': 'CEO en SOLUTIONS TRILOGI SL',\n",
       " 'Marta Armada': 'Web & Interface Designer, Copywriter y CoFundadora de Swwweet',\n",
       " 'Marta Gil': 'Growth Market Manager en Airbnb',\n",
       " 'Marta Salvador': 'UX Research and UX Consultant en The Cocktail',\n",
       " 'Marta Sánchez': 'Client Service Director en ELOGIA (Viko Group)',\n",
       " 'Marta Solsona': 'Product Designer en Mr Jeff',\n",
       " 'Maties Ramos': 'Consumer Intelligence Manager en Rebold',\n",
       " 'Meritxell Fonseca': 'SEO Engagement Manager en Improove Inc.',\n",
       " 'Miguel Ángel Regalado': 'Consultor de Analítica Web en Digital Business Intelligence',\n",
       " 'Miguel López Peñalver': 'Fundador y CEO en Ziclotech Distribution',\n",
       " 'Miguel Martínez': 'Full Stack Blockchain Developer en UST Global',\n",
       " 'Miguel Monreal': 'COO & Founder en Flat 101',\n",
       " 'Miguel Rego': 'CEO de iHackLabs',\n",
       " 'Miguel Signes': 'Consultor de Marketing digital para Hoteles en Hoteles.marketing',\n",
       " 'Miguel Vidal': 'Socio fundador y CEO de FLOSSystems',\n",
       " 'Mireia Ramos': 'Lead of Digital Product Design and UX en Allfunds',\n",
       " 'Mónica Casal': 'CEO en Tandem Up',\n",
       " 'Mónica Fitiila': 'Process Analyst Manager en Japan Tobacco International',\n",
       " 'Mónica Zapata': 'Responsable del Área de Experiencia de Paciente en el Hospital Sant Joan de Déu de Barcelona',\n",
       " 'Montse Labiaga': 'Sin Cargo',\n",
       " 'Mª José Cachón': 'Country Manager (SISTRIX) | Consultora SEO (mjcachon.com) y Exalumna de KSchool',\n",
       " 'Nacho Carnés': 'Marketing Director, EU & UK en Elixinol Europe',\n",
       " 'Nacho García': 'Big Data Architect en Openbank ',\n",
       " 'Nacho Ortega': 'UX / UI Expert en Tendam (Grupo Cortefiel)',\n",
       " 'Nacho Somalo': 'Founder at Lonesome Digital',\n",
       " 'Nadia Fankhauser': 'InfoVis & Data Visualization Designer en El Arte de Medir y Exalumna de KSchool',\n",
       " 'Nasser Hantout': 'Head of Growth-hacking en Hawkers',\n",
       " 'Natxo Alonso': 'Investigador en DETEDUCA',\n",
       " 'Natzir Turrado': 'Consultor Independiente SEO y CRO',\n",
       " 'Nicolás D’Angelo': \"Head of Digital Analytics & SEO en L'Oréal\",\n",
       " 'Nicolas Leconte': 'Security Monitoring & Analytics Manager - Advanced Cyber Defence Unit',\n",
       " 'Nicolás Opazo': 'Product Manager Open banking en CaixaBank Digital Business',\n",
       " 'Nieves Ábalos': 'Conversational Interfaces Engineer en Monoceros.xyz',\n",
       " 'Noelia Martín': 'Arquitecto API Management en Paradigma Digital',\n",
       " 'Odilo Montero': 'Senior creative copywriter | Freelance',\n",
       " 'Olivier Nuñez': 'Investigador en el Instituto de Salud Carlos III',\n",
       " 'Oriol Farré': 'Responsable de datos online en Bershka',\n",
       " 'Oriol Morell': 'Marketing Director en Carnovo',\n",
       " 'Óscar de la Torre': 'Experto en Tecnología y Ciberseguridad en AEDAS Home',\n",
       " 'Óscar Picallo': 'Cofundador en ITB',\n",
       " 'Pablo Galiana': 'Global Industry Director, CPG en Teads.tv',\n",
       " 'Pablo López': \"Ecommerce Key Account Manager Amazon en L'Oréal \",\n",
       " 'Pablo Monge': 'DMP & Digital Analytics Sr. Analyst en Accenture Interactive',\n",
       " 'Pablo Ortiz': 'Analista Programador en Paradigma Digital',\n",
       " 'Pablo Renaud': 'Head of Ecommerce Strategy en Ebolution',\n",
       " 'Pablo Varela': 'Co-fundador y CEO en Tiempo relativo ',\n",
       " 'Paco Calatayud': 'Senior PPC en Quirumed, Grupo Bunzl y Exalumno de KSchool',\n",
       " 'Paloma García Delgado': 'Técnico. Marketing Digital, Analista y Consultora de Marketing en AndaluciaLab y Exalumna de KSchool',\n",
       " 'Pascual Crespo': 'Digital Manager at Universal Music Spain',\n",
       " 'Patricia de Andrés': 'CEO en Wide Marketing',\n",
       " 'Patricia Salgado': 'Dirección de proyectos de investigación en El viaje de Walker',\n",
       " 'Patrik Petöcz': 'Responsable Canal Online en Juguetrónica SL y Exalumno KSchool',\n",
       " 'Paula Haro': 'CEO y Fundadora de Mcreif',\n",
       " 'Paulino Matas': 'Growth Marketing Lead en The Cocktail',\n",
       " 'Paulo García': 'Senior Manager en Accenture',\n",
       " 'Pedro Abad': 'CEO en Elogia México',\n",
       " 'Pedro Antonio Seco de Herrera': 'CTO en Vidibond S.L.',\n",
       " 'Pedro Jesús González': 'Director Estrategia Digital en Good Rebels',\n",
       " 'Pedro Martínez': 'Marketing Product Owner at Zara.com',\n",
       " 'Pedro Palomera': 'Full Stack Developer en Mr. Milú',\n",
       " 'Pepe Martín': 'Co-CEO en Minimalism Brand',\n",
       " 'Pepe Serrano': 'Product Manager en Product Hackers',\n",
       " 'Pere Rovira': 'Chief Strategy Officer en OneTandem',\n",
       " 'Pilar de Terán': 'UX Especialist en el Digital Hub de Ferrovial',\n",
       " 'Pilar Gallo': 'Display & Video Media Manager en Google',\n",
       " 'Pilar Martínez': 'Consultora de Mobile Marketing en Mindshare',\n",
       " 'Rafael García del Poyo': 'Abogado. Socio Director Departamento de Derecho de IT/IP en Osborne Clarke',\n",
       " 'Rafael Hernández': 'Data Science Manager en BBVA Data & Analytics',\n",
       " 'Rafael Manera': 'Experimentation Program Manager en Mphasis - Hewlett Packard',\n",
       " 'Rafael Martínez': 'Business Director en Reskyt Online SL ',\n",
       " 'Ramon Fabregat': 'CEO y Consultor WebManagerService',\n",
       " 'Ramón Montanera': 'Market Intelligence Director at Elogia',\n",
       " 'Ramón Suso': 'Engagement Account Director en Havas Programmatic Hub',\n",
       " 'Raúl Arrabales': 'Director Inteligencia Artificial en Psicobótica',\n",
       " 'Raúl Carrión': 'Especialista en Marketing Digital',\n",
       " 'Raül Cruz': 'Head of Experience & Production Buzz Marketing Networks y Exalumno de KSchool',\n",
       " 'Ricardo Guerrero': 'Lead Data Scientist en BBVA Next Technologies',\n",
       " 'Ricardo Tayar': 'CEO & Founder en Flat101',\n",
       " 'Roberto Ballester': 'Senior Digital Analyst en Divisadero y Exalumno de KSchool',\n",
       " 'Roberto Díaz': 'Blockchain CoE Lead en UST Global',\n",
       " 'Roberto Díaz Morales': 'Senior Researcher en Treelogic',\n",
       " 'Roberto Otero': 'Data Scientist en El Arte de Medir',\n",
       " 'Roberto Palencia': 'Director de Observatorio eCommerce',\n",
       " 'Roberto Santiago': 'Cloud & Data Architect en BBVA Next Techonologies',\n",
       " 'Rocío Baamonde': 'Digital Manager en Importaciones y Exportaciones VARMA',\n",
       " 'Rocío García Ramos': 'CEO & Innovation Manager Dinngo',\n",
       " 'Roger Tella': 'Responsable e-commerce en bonÀrea',\n",
       " 'Rosa Ramos': \"Directora de Comunicación y Social Media en L'Oréal Productos Profesionales\",\n",
       " 'Rubén Bastón': 'Director de Marketing4eCommerce',\n",
       " 'Rubén Casado': 'Senior Manager en Accenture Digital',\n",
       " 'Rubén Gallardo': 'Chief Data Officer (CDO) en Savia',\n",
       " 'Rubén Gutiérrez': 'Senior Security Analyst en Deloitte España',\n",
       " 'Rubén Menarguez': 'UX Designer en PcComponentes',\n",
       " 'Rubén Merino': 'SEO Consultant en The Cocktail y Exalumno KSchool',\n",
       " 'Rubén Orta': 'CTO del Grupo Antevenio',\n",
       " 'Rubén Ortiz': 'Product Owner & PM Lead en Tribal WW',\n",
       " 'Rude Ayelo': 'Team Lead Engineering en XING',\n",
       " 'Rus María Mesas': 'Data scientist en Telefónica',\n",
       " 'Sandra Navarro': 'Socia fundadora de Flat101',\n",
       " 'Santiago Rodríguez': 'Expert Data Scientist en LUCA Consulting & Analytics',\n",
       " 'Santiago Román': 'Fundador de L^3- Lifelong Learning',\n",
       " 'Santiago Sánchez': 'CEO en Etailers Ecommerce',\n",
       " 'Santos Núñez': 'Research Associate in Machine Learning and AI en University of Leicester',\n",
       " 'Sara Agapito': 'UX Consultant en The Cocktail',\n",
       " 'Sara Werner': 'CEO y Fundadora en Cocunat',\n",
       " 'Sebastian Pérez': 'Travel Intelligence Data Scientist en AMADEUS IT GROUP y Exalumno de KSchool',\n",
       " 'Sergio de la Casa': 'CEO y Responsable de UX en Unexpendables',\n",
       " 'Sergio Hugo Flórez': 'Sin Cargo',\n",
       " 'Sergio Romero': 'Security Architect - Penetration Tester en CyberSOC Deloitte España',\n",
       " 'Sergio Ruiz': 'Experience Team Leader en Banco Santander',\n",
       " 'Sergio Simarro': 'Chief Revenue Officer',\n",
       " 'Sico de Andrés': 'CEO EN FuSEOnPro Tool S.L.',\n",
       " 'Silvia Calvet': 'Product & Design management',\n",
       " 'Silvia Viñuales': 'Senior Marketing Executive en Techedge',\n",
       " 'Sonia Fernández': 'Lead Data Science en Altadis',\n",
       " 'Tamara Martín': 'COO and Head of Artificial Intelligence en Phonr App Spain S.L',\n",
       " 'Teresa López': 'UX Consultant en The Cocktail',\n",
       " 'Tomás Santoro': 'Fundador en sumacrm.com',\n",
       " 'Toño Guerrero': 'Líder de equipo de Freelancers, Senior UI & IxD - Exalumno de KSchool',\n",
       " 'Toño Ramírez': 'Director de Marketing Digital en Tendam',\n",
       " 'Txema Fernandez Fiaño': 'Big Data & Data Engineer en El Arte de Medir y Exalumno de KSchool',\n",
       " 'Valentín Hernández': 'Head of Consumer Marketing en Costa Cruceros',\n",
       " 'Verónica López Burgos': 'CDO en Totto',\n",
       " 'Verónica Parrilla': 'CRO & Digital Analyst (Fashion E-commerce) en Improving Metrics',\n",
       " 'Verónica Rodríguez de Gortázar': 'COO en ROI UP Agency',\n",
       " 'Vicente Martínez': 'ASO | CRO Specialist en Telefónica',\n",
       " 'Vicente Ramírez': 'Técnico de concienciación en Ciberseguridad',\n",
       " 'Víctor Baroli': 'Digital Product Designer',\n",
       " 'Victor Hernández': 'IT & Search Manager en Casa Batlló',\n",
       " 'Víctor Orizaola': 'Gestor de proyectos SEO / PPC / Analítica Web en MOV Marketing y Exalumno de KSchool',\n",
       " 'Víctor Pascual Cid': 'Especialista en  Visualización de Datos Co-fundador  de OneTandem',\n",
       " 'Víctor Peinado': 'Senior NLP/ML Engineer en Reply.ai',\n",
       " 'Víctor Recio': 'SEO & Search Specialist en Vodafone',\n",
       " 'Víctor Rodado': 'Co-founder de Minimalism Brand',\n",
       " 'Víctor Sola': 'UX Director en Adevinta Spain en Adevinta Spain',\n",
       " 'Violeta Yeguas': 'Senior Data Scientist en Accenture',\n",
       " 'Virginia Peón': 'Data Scientist & BI Analyst en Indigitall',\n",
       " 'Xavier Clavería': 'Fundador/CEO en www.santafixie.com',\n",
       " 'Xavier Colomés': 'Director de Marketing de Aparca&Go',\n",
       " 'Yago López': 'Strategic designer en InnoCells'}"
      ]
     },
     "execution_count": 36,
     "metadata": {},
     "output_type": "execute_result"
    }
   ],
   "source": [
    "import pandas as pd\n",
    "import numpy as np\n",
    "import requests\n",
    "from bs4 import BeautifulSoup\n",
    "\n",
    "\n",
    "url = 'https://kschool.com/profesores/'\n",
    "\n",
    "ks = requests.get(url)\n",
    "\n",
    "webpage = ks.content   #Lo transformo a bytes\n",
    "\n",
    "soup=BeautifulSoup(webpage, 'html5lib')\n",
    "\n",
    "\n",
    "rule_p = soup.find_all('div', attrs={\"class\" : \"name\"})\n",
    "\n",
    "nombres=[]\n",
    "puesto=[]\n",
    "diccionario={}\n",
    "\n",
    "\n",
    "for i in range(len(rule_p)):\n",
    "    nombres.append((rule_p[i].find('h5').get_text()))\n",
    "    if (rule_p[i].find('span'))==None:    #Chequeamos si no exíste el cargo para rellenarlo\n",
    "        puesto.append('Sin Cargo')\n",
    "        #df['KSchool'].iloc[i]='NO'\n",
    "    else:\n",
    "        puesto.append((rule_p[i].find('span').get_text()))\n",
    "#        if (df['Cargo'].str.lower().str.contains('kschool').iloc[i])==True:\n",
    "#            df['KSchool'].iloc[i]='SI'\n",
    "#        else:\n",
    "#            df['KSchool'].iloc[i]='NO'\n",
    "\n",
    "\n",
    "for x in range(len(nombres)):\n",
    "    diccionario[nombres[x]]=puesto[x]\n",
    "\n",
    "    \n",
    "diccionario\n",
    "\n"
   ]
  },
  {
   "cell_type": "code",
   "execution_count": 29,
   "metadata": {},
   "outputs": [
    {
     "ename": "TypeError",
     "evalue": "unhashable type: 'slice'",
     "output_type": "error",
     "traceback": [
      "\u001b[0;31m---------------------------------------------------------------------------\u001b[0m",
      "\u001b[0;31mTypeError\u001b[0m                                 Traceback (most recent call last)",
      "\u001b[0;32m<ipython-input-29-6d39976703ca>\u001b[0m in \u001b[0;36m<module>\u001b[0;34m\u001b[0m\n\u001b[1;32m      1\u001b[0m \u001b[0mdiccionario\u001b[0m\u001b[0;34m=\u001b[0m\u001b[0;34m{\u001b[0m\u001b[0;34m'Edgar'\u001b[0m \u001b[0;34m:\u001b[0m \u001b[0;34m'Responsable'\u001b[0m\u001b[0;34m}\u001b[0m\u001b[0;34m\u001b[0m\u001b[0;34m\u001b[0m\u001b[0m\n\u001b[0;32m----> 2\u001b[0;31m \u001b[0mdiccionario\u001b[0m\u001b[0;34m[\u001b[0m\u001b[0;34m'feo'\u001b[0m\u001b[0;34m:\u001b[0m\u001b[0;34m'kaka'\u001b[0m\u001b[0;34m]\u001b[0m\u001b[0;34m\u001b[0m\u001b[0;34m\u001b[0m\u001b[0m\n\u001b[0m\u001b[1;32m      3\u001b[0m \u001b[0;34m\u001b[0m\u001b[0m\n\u001b[1;32m      4\u001b[0m \u001b[0mnombres\u001b[0m\u001b[0;34m=\u001b[0m\u001b[0;34m[\u001b[0m\u001b[0;34m]\u001b[0m\u001b[0;34m\u001b[0m\u001b[0;34m\u001b[0m\u001b[0m\n\u001b[1;32m      5\u001b[0m \u001b[0mpuesto\u001b[0m\u001b[0;34m=\u001b[0m\u001b[0;34m[\u001b[0m\u001b[0;34m]\u001b[0m\u001b[0;34m\u001b[0m\u001b[0;34m\u001b[0m\u001b[0m\n",
      "\u001b[0;31mTypeError\u001b[0m: unhashable type: 'slice'"
     ]
    }
   ],
   "source": [
    "diccionario={'Edgar' : 'Responsable'}\n",
    "diccionario['feo':'kaka']\n",
    "\n",
    "nombres=[]\n",
    "puesto=[]\n",
    "print(type(nombres))\n"
   ]
  },
  {
   "cell_type": "markdown",
   "metadata": {
    "heading_collapsed": true
   },
   "source": [
    "# MODULE 2: Interacting with web APIs"
   ]
  },
  {
   "cell_type": "code",
   "execution_count": null,
   "metadata": {},
   "outputs": [],
   "source": []
  },
  {
   "cell_type": "markdown",
   "metadata": {
    "hidden": true
   },
   "source": [
    "## 1. Introduction to APIs"
   ]
  },
  {
   "cell_type": "markdown",
   "metadata": {
    "hidden": true
   },
   "source": [
    "An **API**, or aplication programming interface, is the way **programs communicate with one another**. \n",
    "\n",
    "**Web APIs** are the way programs communicate with one another **over the internet**\n",
    "\n",
    "[RESTful](https://en.wikipedia.org/wiki/Representational_state_transfer) APIs respect a series of design principles that make them simple to use.\n",
    "\n",
    "\n",
    "<img src=\"data:image/png;base64,iVBORw0KGgoAAAANSUhEUgAAAZAAAAFbCAYAAAD7kNi7AAAfRHpUWHRSYXcgcHJvZmlsZSB0eXBl\n",
    "IGV4aWYAAHjarZtpdlw5coX/YxVeAuZhORjP8Q68fH8XL5MiJbJb1bZUYrIy3wRExB0CSLP/57+P\n",
    "+S/+lFqtianU3HK2/IktNt/5pdrnT78/nY335/3T3r+5r++bNF6/el4Dr+H5oObn1b3ff53wfnWd\n",
    "39KnC9X5+mB8/aDF59XX3y7kn5egJ9Lv63Wh9rpQ8M8H7nWB/gzL5lbL5yGM/by+zn+mgX9GP2L9\n",
    "+th//H9h9lbiPsH7HVyw/PQhPg8Q9M+Z0Pkl8dOHwoE2NH6Pod533kNlQr6bJ/vpqczvUbE/RGXt\n",
    "jzn6EpSQnyMMb3ydzPzx+u37Lv32/uuC5k7xpzuH+ZEOX96v2a3fh/P+d86q5pz9jK7HzJTm16De\n",
    "Q7y/ceBgysM9LfO38C/xe7l/G3+rIXsnIV922sHf6ZrzhOW46Jbr7rh9X6ebPGL02xMS7/0kUHqv\n",
    "EqLmZ7CGYEb9dccXIraIlw+T8Abe9R/P4u59273ddJUbL8eR3nExxxne6Mf/x98fL3SOUt45TSah\n",
    "dzc+zqsoeAxFTj85ioC4886jdCf4/ff3P4prIILpTnNlgN2O5xIjuVduKY/CDXTgwMTrU2uurNcF\n",
    "mCLunXgYF4iAzS4kl50t3hfnmMdKfDoXqhSNH4TApeQXT+ljCJngVK97c05x91if/PM2mEUgUsih\n",
    "EBpKilhFgI38KbGSQz2FFFNKOZVUU0s9hxxzyjmXLPDrJZRYUsmllFpa6TXUWFPNFYg0tdXefAuA\n",
    "Y2q5lVZba71z086VO2d3Duh9+BFGHGnkUUYdbfRJ+sw408yzzGpmm335FRY4sfIqq662+nabVNpx\n",
    "p5132XW33Q+pdsKJJ518yqmnnf4RNWeesP7x9++j5t5R8zdSOrB8RI1TS3lfwglOkmJGxHx0RLwo\n",
    "AiS0V8xsdTF6o9ApZrZ5qiJ5njIpOMspYkQwbufTcR+x+xW5L3EzMf6f4ubfkTMK3f9H5IxC90Pk\n",
    "/ozbN1FbYptpg7kRUhlqUm2g/Dio+8p/4qR6es/tuDXHGmGdNPzctae2meheM/QAHjK9pnGFudLo\n",
    "m4fxo9cR24onjrIC6cRzReZlD+JDwc3QSk5hjNCmwCkH12xZo3XyiBvEMUapKZQ5CCvV2PLye2dS\n",
    "IANjvLu4cY5nLCqYMfYc+wASmbzVQ205muNzYA59W/tUT3A2V5nkkVvF+gHn2dr3SGF5csiuliZn\n",
    "Lt93X4fLtZEqszyM25BDgYjPTgw2txZyPzl0Hnhu5su3uvcchHF3G2Mh2jVNP3xNyYZaVo9ulmQI\n",
    "8WB0dZ1RVz48ccyLAfa22vRrVM1SWylucm8WX/omHZo/WVNaNAC/s4um5ug7mc98uFSHiEEPWGCJ\n",
    "zRxurj1GJDEOeXdGSe00ZWRKh2SNKTQ3YmzTMAtnwR2zntxXoBY6Mw0W+kQMimPil2vUZix6OorJ\n",
    "M2jojcwqEDaJkmc+2xCMfkZqKtJiIahYFvfpyqJ3Nv3Nq/mnJ1RInaH7XGb2Kw5obXtEj7FUIcFc\n",
    "ZE1OdaUdSzsl5O3XJC7geBiZ9DtlE/lWzvRnHDfPkdgaISf9hhhlWlQWIH84ZHUuTJVd5Pw5gbob\n",
    "+jQ6UtCNDNlxW9IETAyfr8kVzb0kFMyJR6Il/njPX7c8Me+Zzt71TFK7DsJlHNFkmue+hyMRzyyc\n",
    "Ef1c3HPbEO/pMyVo9eNjnvLzAWJajijLjeHKGT0cMEgjsPY9hs3JTqAR+lqn1AFkMvI0l/Oru0oV\n",
    "ZDSnM0zoQri0NXIf2VEPFOcqYy2eEvwImpCh0iBlA7+u4e6g3c5j19GloME+Myun1pQPMtiDuB5I\n",
    "6iVJJyf+++tX89cnlHnC9jcEoL0Ce/bolOXZNaRjIPF/c0gM3172jnscwBhhBkLq9LT8LESqNPLF\n",
    "b0o2ntrWOdIb2zUd03fLhKuHCaa7AvvNBkKBjxPYdGQ2fOLDrgXsKodj7mkg/TiNN6o75P2wK4Fj\n",
    "h5yMsASwlRpApwolhyP/ofwpIkBZGhOIL4B9SiCY5RQoCoxpFI0KhWreLgpkkasR8AJlvN3R7UqR\n",
    "WUNF5OwzSFQDkEUpbDeQfWfjj6Sp4oytoWcTQBg4sbdtyWjfDsNLd870at6//PNX2KJUiDufOk83\n",
    "TAP47cQ+fm09MtS5J0AaK1QSSoLwAsjWZmb4GAuAgGu5emsTbbBUft2cmQkxQqOmbnN3ZdycF8jk\n",
    "MBALqdbh+9HYqLIm0KXm/MFoFcq+Qb5UXDN9B67Vb32hI8IO4mELOV4EUcgtNYgkISX0XrQkmT6a\n",
    "r6cSyvt08wjhUY5rHF7jueE/lnpz3PWiyhxMQ3tqvtzEhQLzeAbXKfLaiuEJpLAgitFxNIecmgly\n",
    "JWpJ2VAbfoQLg3R29h25Xj81SLCJEBneM1DzdaTPQLnV7w8prHo9ZPKCwj42kAe8UV9IimpaSSgo\n",
    "uDROLBOM7M4cbrdRGU1XOstyM6LC6Tw8jyljRkntG7s6LM8dpkncOFJ1p29SFQxbkejVfPwixWNc\n",
    "IUNhIUL3SSMhmVEgyD3VZVNdMhaiZJ4wCZ3fgXqFijqlBIC4jUrjlsXZAf7ZMSjyeTLc2ZlKQKxu\n",
    "KzyiTvbsKISUGs6iOawDvAt2NLKJsiFN0RPVM2gPLEt0IS0orSLVBawOh/gyk/hBEbHOgIqVSgCd\n",
    "W65SccUjB/ycRNhHrFaAjYgMQ9mWxETlcEuH1gWgzJDoQh2AUahWDBqikec6KDNKt2pC/a33TsWO\n",
    "NksMPBFXo9ipnRjBf2KeTEF/NDScCj7CkQyGnHIlDJBkuyBZNZFeG6l10CYQXkoVnGH2s5iCvEZa\n",
    "FAPD8nTkDTL7wbxUnlsDUEoIAGfFiRJFkUt3YILDrDnUbMOqKLGpyWCyGxqa5wDxIuHJ8Cj8hgGG\n",
    "svcOEuD/Ulcwn30htgwY3hNRxD6iwCtKl49BhDAPoHGnuLr1ekWJhYL0BGkLiIO4GBFTcbJv6CPc\n",
    "CqCJWVhEvRMtRhX3revg6iaACMruB34AqFrEFVVySAnSdqL8klvkqCEHEP8reg+uOfj1Gnnk5gHy\n",
    "T+LJSX0GOSJ6bU8Gu+DuDWFvJF3DfFjSFRaRNOXkW6FU2KPoOH9hp1DCuwviGoNFKnpxCIGiDncm\n",
    "e+qa/NgRgRsNihc+ioOH2RgQpL90yiTvUyRD0fMr7058AA0EoWb5sj0SvF63E1tH+GTTBc0tq0tB\n",
    "/sGauLcsRze7RZWuxVNh1SA+t0FHdEtMGfGPM1qTZ8LEoZ8xx3CfdN4GtixKdzHZ3BkPhC7JveON\n",
    "BrlieaK6YMlOHHh+CB0LhiXz4GcG15uRnpHtb+iRUkm1gN0CjpkMCgvSwWl0pCVXgWk67AKaHo/A\n",
    "P6th8LB2IIArRs0tZmkXmwdyATOHwUFIcDwuKkuhey9HB82PYAW8qDHU84QsG3GfjaHHYsCKXhDW\n",
    "3uEvUQG5YVXBAow0z0Suk/Ri6meG6+dX5MFqY47ZRim4I9Xp/lXxQeb4ViXTj8Bs6DX5rnBwPhtA\n",
    "DXtR274XNU1QI6AfOGJQvSg0VMTO/ro5WDUcQGwjBoQhYzKlJLkaGOQQqiU6Dx9kKV68/9xYz0Zm\n",
    "A1dhOLeqRMxhhjuevx7rSQWQUZEEJmELvAg/qHeyFQe+gFOgBp0CooZm7AVDuHkzu0gSRtGxYLgT\n",
    "dI+dMGWNLtc1hiCckZBDYALmG36mXKhCP+ELM/vRARvHmjvBLvtynpWVRpI3njEBmiWgmpL6erwE\n",
    "bFbnQDRGV9Ovzj0MoSWR1C3Bad5L4MyOJvYqdDWwr5RHzMGWKDghCLKTDzN0Cr0V/OU+hnmgzpeT\n",
    "E6V23te7V7u9YvgTq9An5g0yq34ze8ge8BaW3BT2vEdgIQ4pBEkvjOhGvcMBOaPwG5DddAJlv1af\n",
    "Z6I6naulI9qo1ArEdyiVzKM2oWywEE2LWs0AYtlwE/KTZEQ0UCF2rViATxCIXyjCNoTnCIPQmmug\n",
    "hredHOOJKG0LF1GPR0N2/tE8qBIQBB06naWe9mo2TyoXFxMolZTAuEEJdEkMxJdByQJaWFkCDN+g\n",
    "PzLQDdtBjhpt1n1Jlq6mz95+HLB5cpuGXiW38EJIuRLMwLZ74F99osrlIl7XKwd3c9x0RQbYq3cM\n",
    "NI00piuNSb4AUQLIMFDbYMAwasRi6gO6ksqZSM1EyhByWQgnDYOpViZMG3B46LyzCXR9BAd1x6yj\n",
    "c5yRE0TrdnxZxAAE+CETYyoGzTEwtuqMjbxLAfCHBHePG4HMgU2yxZE7duZsKIpQ5fqxyokARKZs\n",
    "Z8Cmq8kG72SXTgioxo74pYQdqbCYSkwaANMButCALQMrFvDfe56cDMc0StVgXDh59iY+xyy2CbZ3\n",
    "pv0wX0HrD+8ek8f8wLUI9gy0cX/XEdoLbXcGSpuA54D1RA44hGVh6AcBtC7/EuKEKpxY6EJggEvn\n",
    "nCHloV6YeC/wVJ3xjskX5s80pNqbSg2jRKglU3wZTeCbt8tamdg2lzlsNKJ3JAe3lWfm9iPeeFzf\n",
    "+0hAxW6KuUFC1MiEMieZniNzRuyJAVNjokWzdM7nqkWno+KFxY4sGLtD4xFu4SEhE6QbE1cF6ToH\n",
    "REUqR/A172YY10yAGTcNOJ0mJwls72vpr0ytS3gyIbUkc6Gj1XIgkbawmMTVWWZLpg5AcGTUAX6z\n",
    "AR5aW3AkJSkAcBZ0Ot4QJYuHo/4OA5THhOQmDoERIK0MmVV4UqbYo8pRNkwaiQc+Sj8J8N4PqtWI\n",
    "T4/6PKh9P6qRwn6eVgT08bzEuuyRUA+b9O5UfT9qrMKNIFfdO/kIEZXbq+3YXnNazGeAi4OyRJxr\n",
    "JVGdNo9kym1SKEk6A+EwHIKJ4iG7C6l/ViYY+82Y5i1SsIrjdtKGWmbNIZrwupKReAPlOkoXJkBJ\n",
    "jUzxw9kBVOgTM5IONzJobcCBSYMMSoYsN/o+wn4LIEwMbx0LJuGqqAHqrF6dqTtZ1AAFFSlG1K2h\n",
    "5KkC0LU+nbeZ8YfO+knietVsbKSedBmmvYWbqJAfKV2asho74tKw3cThq9rmt4EIHzNSwAzthXrX\n",
    "fV0FL+ZeKK0ANXaH70ti2331wfZkBvoqobNHFVIXyX5EBFN4I+huefQzytNNujBGHaFux9GHz0f6\n",
    "gGRww1Rs5Y5ADloEKbwn8RAyMm3uIsU4WuTaltLHinGsVmEQ9evgjKB/1BhnwP0D/4v6xTkJKh7v\n",
    "dpSBuFlpStyFBzWz+oXXkoKSlN2lz2XV0dmxb2/g0q6OKwm8kZuozSRT0AGRJUuwyH9uwoNIdaG/\n",
    "KS6Idijo616Y66L0rl0vXauDiDjkAnRBdquhAIlWIZEaJhVk74D3RKYj6zHBszpCh7E6AvHSDBnP\n",
    "GNsgx9QmAH2r40pgBSac9GJkT02Jixg02KB2z86SCRDgLa2cj9EDAA5wVpUGIZzUs5dh59N7gcfx\n",
    "PgdIVuzLxToImI/qB25ErnEyKvisOvBx/DIDOWLhVrIfcVBUncgXgqr2aArxaVTZoOtinedND4SW\n",
    "yDvyEEQTtAe63VlbfgRjQomUYoVHk3rP6h0hGZpseMY4M98pZ5hJhsw8XcV+yn1wiF0utrwl8EFE\n",
    "T4TtIWFdJ3yL2s7PYNWGJBCvI8zPh/yprE9DEyBVj/S7OpzqDmqIKDGj/iBmkGeIWjIZJfsZSEM/\n",
    "Neg1fjpR56WlzjJaindMgUtuLu347h9nFA5Jv4e9E4sKuhOKlH1VarQotQ1PigSeyuzGdRgcbi5a\n",
    "k+r6DS3kblsA5emlEmSfmcZyMhNvMXmobKjCM+agdZ6MgRwG4c/DeCaBS1EDwqTggNaNakOYQSkW\n",
    "KORu1UkhIie6C4C5+qMSYFrwkRqZ+Vpoteiz5IO8FdW1fe5oIZwvN1FnKt0l2xIAhym5Lv0Q4Mmz\n",
    "5o232WeoNFTegIC6UudmP9pVx1Y0xulUDy4VdwNT5YpDxDziuqlOMCUraacB5OAH8I8KxwqlK/yv\n",
    "7KcMHuG//E+OAIYASGYdWzbroH8Wlz/qJOG/pX4Yn0sEdMpZNyBaB4NLE2QBqbdGCAe2lIR8GSY1\n",
    "RMW3MrX3gILbQzbmZDR9QqChV3kuKqwurRegqTa2cVC4Y4RYENkothYUHrNfWKlC/ASW1JZWt1AD\n",
    "WNGg1au4b6RJ1SPP1SWF7riIINhtkh6QGdW6JSoNmZACfgvi37AQyBOSA9wGgRdV3nlijuMiJFDL\n",
    "syJRYJGCgtvq+wzKyB88TMXjwuZbHaRRBO9oNNIhIz6YPulsvKSnHv1FWzUv1axTbV+s1coCaIvH\n",
    "gWAb6vaAFI9mW1baQmVDfd94ynXc5Zai3mlA1nBR8kh7kMKVT6/lFCSNetnIvqgjJpZfNhQFyWSn\n",
    "gsNMWf8o4c0dW0Jnk9BQKcgX4TwGwhO+ANDaFwR2KvZURrlPWOQTin2px5ioXGGBbBY27na54UQI\n",
    "V9bQ5VDgArL3VLUSyXerReyGEy0+q8uoHjtJ8CyS1SG1YaDoTnFwn06qrj2xPQmnvzJEA1oXTAo6\n",
    "uOexqmSvthvcp8hoeugGsyj3Vg01rg6p5tIRV+zBxZ654bG2tWLuG/QFvON+UXSy92ShfVydcDrp\n",
    "ssW0JSKV+8lXSo/x67ZaDP5147uaFVUcj54k5+5NOX3MaCgP5JHNeCG8dkX7qYGp7vlz8SGPNaRY\n",
    "I1LHYYZAzuh2ROn6Twxnnj45ee5wAMSHq6pTR77f5vpST/yhhIlaFsogNHAlCDT3Gt6iaKxBEXi8\n",
    "SYYWIzrSatGfiqoBZkVzIhFdSlcN3Bv6h7TCRHSRJfeJrltCjYSiFeMpsxjWEVVBp8RILW0oOftG\n",
    "1VFOoSDKQHIQHMrNBB9jL+2CPysQZAHOtI8hJfR4DPLRR8wmQBvzKZGixjg8VQAUfP0qtz9P6UHE\n",
    "WjI/t6GZtTAxISkmbyhhidoj38ujSm7FY+gFkXcFENfYJZ5iwHBM3A/YaKSWq7B/gcxF7SOtfWO3\n",
    "hHb3EohRfvHPYmdHkYHnx3bZqyy5RsL34oy6w0DQBug9T3jUNPHxPEu7Q3IwDZRlSbI9bTEcdQKa\n",
    "21peRYCh6osbBSs6OW5o7Qu5rJ0eWxsX0P9roQ4sYgeeWcA2DxavwvT50iZPhxPfIAMWY3pDRLwP\n",
    "ug3Z37S+urURAP+Po+JvxzCHzpRUbBgiJlJI+NkwYaeKj8c4b7XODaZr76rdIgsNisXfWJkuOQHI\n",
    "NDw5Z3JHlAB4Q1kw5+cIAqABuDqA/0xOxtOGUbkZQq2EE7LWfEKb6e6DytdaWR41DvK1oO19RSws\n",
    "BuPxEsxuQSdoWqvJPeIg1XhQCxQAYUISTohhqnuSZBO69NJVHQseSEPNCeQjxVeFUU4bNExWSxAV\n",
    "YPH2bWPxMGY6SDtLEn5SSgE7SlJqk45qXxIMu6x1pQLnEWCBtGkdjHu9mV9vtpeSuV1kBge+kRaI\n",
    "eeQvPgz4hQH22OrXgvgT+RWNtk/MhxnuJzz+89nE8zzE6agI0oZbDvTQ0XIU6gamQiMNZgDUaTAt\n",
    "YQ7ovBSyQ9iMKjZdEGRAKHFBRA9BzmUg3LS5BeQrHmOFmYXFln8bHfOd0/lidNbEzBYkeOI97Uaq\n",
    "VTJokECt4a8YpDauGKkjpIcWl/Fi0m44sXK5+Sszi5eLtkmAI6Bj/ljdxga2DdNeuf2n2k6C30KZ\n",
    "iFpxMF1Lc2PtIMNxZR9IGYaWzWSvYNqJzJ6oHsrdCQUQT8UzBowLqJMXZRmkDrXmXUDZRB3c9fUW\n",
    "n7WTsEr1w4DOvau7oIq8FvSS+fPplw/F9OrYroSrT3kFojig8MJh2PWh5uBetjWMhySnFsGgcG1v\n",
    "0m2fpsYPl/10z2+eiJtiyRb2DOgmIlLCIHicZBGWnvxIlAzuoBH/fkSaVL6YNlCxh+QCohtC0YHf\n",
    "6G0xi7Y14bFuEVOyP4z53t78mxkh6zDpaB7Us1YTkpexxedmpoAbCrwcsqqbhjRj9sJeAJO8ZR2L\n",
    "/MuOIO6kVOrau6Ltn6hU1LMEiCQVgDYmWYJkT+G2fSyJdlmjydedBV6oi4kswSBk/ILvFBMoP7SH\n",
    "CcbWllxc3+7R7rspT/IGUyMyBVC9Nl3hFayEnbaO/Lj5IxEuUDxlmCWofUPFOHO08ru1IaVJOzDd\n",
    "CKqj3pK9W1YvHgT1mGSieXQG5g81PysyFzbmqezMzmjLxF3pXoKwhYOhxCFTp3TTkqvoGcyEA5uT\n",
    "VsL5wcoX6LRxdSEgAfJm3Dce45P5+OpKPpuP37yHuebjqsgNzigOvXxW9I+gz3eB4Jv1gfT0Apa/\n",
    "LQ2nHckkFI+9q7pbX7oeX5seV4YD7RhRJAYwuQEe67IBnlGwGLwSJCK0pKy2vlZzrGhswMAQ/1zb\n",
    "euT5dKihqCzSeptv02l1dE9ghALSVpwHrQo2G2G7sBQYVApukoKrB7hzoCpQQycz/9A9BzEBC02j\n",
    "DXCboe2gjSza8+g2VowLCCJIJLR+9FzOaXvlBsq5ld9Tqw8Qyc44FG0ZoFQTCAr3o5jyDVwWyfi7\n",
    "IwLsnem1LwNGcY9eCh8KSWMQwP7CV/M7wKKimGo7x2S4Uw371f3WmhliDyEDvqY58T/ULSjsJxyD\n",
    "5HQGZ4klO1lrlBZxkQcCroMkVfsBnIRTvjtMPtbBGQPChKfBEUSIByHObBj1J5EIvnkxDg+80RoZ\n",
    "xiVvJhJAQgxzH1CGqdgnWZgAVwkHWkFCAfcUFwi5VmQmb1vKa3sLYLu10A9XSgA07SZT/4f7qN8M\n",
    "AqoGIMKu9dapxZEcvJmC70AQkc1afFS5Re1/4qGr03bmwTnVKyhJm3t8hHFdul+X2A5NqwbzLDez\n",
    "8YU5x6fTH+9OvCwXUNe6u3rVv5zaSpu1qpUgcvIV7IL0ouZ8Y4uycYjsqV1a0HW3gdpGNgvoV+Sh\n",
    "0OewfRJ1I5MaZ9bKaJhOH4EJ7RXR4hQFY5IWE7GRacgQF4wD7IRFIHhEKWrJo3JhchR9WpAXS2vs\n",
    "FAt4iXLT6h9JkYZRa9YW5L82QiXOXJvKB5asyBU467vfNrZUijzG1YFaZtJqEC4CXVvximYixxuD\n",
    "lpwhqcEo3M6k3JEdHQmWnXIhkr3MuVNzKAbQregrL1r8Pa9NW+bT7i2RLICfyUeEkRS+FArocpdX\n",
    "HLcYE2m8BhBdLu11rTHgvvCfZq3hqQcG6FsIABkXmcjAMoTB+Mt6yQHBJXi9dKQOXJOjHFr2mht9\n",
    "5jayxpEI5HSyHQbTxnOth3HiSASl36obDEkWB3vIRcBSaURuKBUNEDL7SVCrlgrVNfFZ3GIIl3mC\n",
    "9GzVw5y66/CY74y3IM1BbggcbUCaadVnhpqO6dz8TPX4knYZeu8vRwzcP+MDP2cj6vBYJuuDNuXJ\n",
    "j1l1lPu620mQTLhFU2rvcVfSr1GDkKrvaDwiCowcAtnds9aIjW+gDSx10JTp0buAhmaUGigGm6LN\n",
    "dkfyngngYogV4AopfBhIL3CyA1PVEIZbjlbiskpGHZJIARMVNHIxDq8h4VO1hMtEQTTL4SFqImiT\n",
    "8txaj59qPBatyjbQL7iFnQRjBA0PmRczcH8/7w0sVauh/rZ4/N1mK8X/tH6kSctgVPcY8/NB6jar\n",
    "EidWYK3UBHPPwj3+WCmk3c98nKX4g0HA43tXvejggGwwj1LScttxkvqIWa0Fk9ye8FEU8tJHa0Hh\n",
    "c4vIfOkRjXa35EKWTCocoH0nUf1x+HTj8AtliT70olSPLVRPDHIa/DN2q6k2g9xASRVjwKSFpq8Y\n",
    "tK4vTST1XdCBR4ZzQtdw9tb3dUgPkF1NRjXDTVBzZFntHbRQlbgiQiloZq3VaCBNW8/0Lb3U893F\n",
    "hXNuS1WsnYUkskOnehM7FtNjBadWI6sK0mnRgkxpqAbtppMl19etMIuMpmo/HJpCPOG02R6k9/UY\n",
    "1TwljgVyW+piiwSAWES2s2rZ4BuGE5xsfZchoUhClzBlziY3dfFBe3NSJTOl/Lz2eVaRRoza9GrV\n",
    "u+HWcqiMQou5FFvOWx3JSjYDn3UKCAc3Q0QQPFJCW+2r9lOpgd3rtI8wFVAEvHbwTDBAjq7x0Wsp\n",
    "iYmtt9lYj76jYNT1jv988/Mfr8ZpUUnlKVdm4T8twfX29GDluxCq//KIuxg7uvnW1mHqenmK5euH\n",
    "T/HwMVWF3hxTS0u+YD2N789eZ60zn66vR+wTPjJOhfWRc+Hpx31NuitQCA0X0iRrsZ+sU2zVW7+7\n",
    "A7t2fXrMG1onDwxLQx4j2FrVN0sRmmRPvHuWtJxg9iz2fr3PNURTtiPcq91ta0HaB5e/tPmOek7z\n",
    "mZcjytQatCKo/iLzZDA38ZAUC8uz63dbsf7u1fx8gGT0eXYy6MuvuabHIajXpobxWMDSxzHm+4PU\n",
    "bG3lp0U54Y3I+nPD2vyGRkLXUKpTz3qnMhGDh3p+Qq/9bqRB/hr4J+7mU+CVWif8x5n9T0/8Ic+v\n",
    "9Iv2KQVx7cJr4FL1ReCMdUB7FlQMPO3cmmAa8yfFiWcNU6BxKjwCW5nt1b2CHcGzpD5r1lcOh8wj\n",
    "YuHZQ2LvgvRdvfWPJjjaISifwInPsrXBTIwpTlJ3/nEAVV+e+NXeEEa79EjVPJ7Vv/ducXW/9BPM\n",
    "1qby56RyN4X08ax7ZG0R13dAuteChTyb026bSfoOfeesde3NRMxpP+COprk6QpAuFbfsuMq6i8X1\n",
    "br9nNEju5/neu6S1hrdkTd3Rbhh91Q2pasi6QYFx1UJlIlqHKk/lSAiu9Ac3/2Lzv/kPvy2gOj3a\n",
    "pGn+F+1DmJDjCY2gAAANGmlUWHRYTUw6Y29tLmFkb2JlLnhtcAAAAAAAPD94cGFja2V0IGJlZ2lu\n",
    "PSLvu78iIGlkPSJXNU0wTXBDZWhpSHpyZVN6TlRjemtjOWQiPz4KPHg6eG1wbWV0YSB4bWxuczp4\n",
    "PSJhZG9iZTpuczptZXRhLyIgeDp4bXB0az0iWE1QIENvcmUgNC40LjAtRXhpdjIiPgogPHJkZjpS\n",
    "REYgeG1sbnM6cmRmPSJodHRwOi8vd3d3LnczLm9yZy8xOTk5LzAyLzIyLXJkZi1zeW50YXgtbnMj\n",
    "Ij4KICA8cmRmOkRlc2NyaXB0aW9uIHJkZjphYm91dD0iIgogICAgeG1sbnM6eG1wTU09Imh0dHA6\n",
    "Ly9ucy5hZG9iZS5jb20veGFwLzEuMC9tbS8iCiAgICB4bWxuczpzdEV2dD0iaHR0cDovL25zLmFk\n",
    "b2JlLmNvbS94YXAvMS4wL3NUeXBlL1Jlc291cmNlRXZlbnQjIgogICAgeG1sbnM6ZGM9Imh0dHA6\n",
    "Ly9wdXJsLm9yZy9kYy9lbGVtZW50cy8xLjEvIgogICAgeG1sbnM6R0lNUD0iaHR0cDovL3d3dy5n\n",
    "aW1wLm9yZy94bXAvIgogICAgeG1sbnM6dGlmZj0iaHR0cDovL25zLmFkb2JlLmNvbS90aWZmLzEu\n",
    "MC8iCiAgICB4bWxuczp4bXA9Imh0dHA6Ly9ucy5hZG9iZS5jb20veGFwLzEuMC8iCiAgIHhtcE1N\n",
    "OkRvY3VtZW50SUQ9ImdpbXA6ZG9jaWQ6Z2ltcDo2YjU3NThlNy02YTExLTQ1NTctYTA1ZS0yM2Fm\n",
    "MWIwN2U4YWQiCiAgIHhtcE1NOkluc3RhbmNlSUQ9InhtcC5paWQ6MDQ2NGJkN2EtYTU5My00ZTA3\n",
    "LTkyYTEtZDRjMDk0OWViNTMyIgogICB4bXBNTTpPcmlnaW5hbERvY3VtZW50SUQ9InhtcC5kaWQ6\n",
    "M2NlYWEyZGItM2ZkZS00MjNmLTk1OTMtMzYwMzRjYTY3NjBhIgogICBkYzpGb3JtYXQ9ImltYWdl\n",
    "L3BuZyIKICAgR0lNUDpBUEk9IjIuMCIKICAgR0lNUDpQbGF0Zm9ybT0iTGludXgiCiAgIEdJTVA6\n",
    "VGltZVN0YW1wPSIxNjIyMTAxNzEwNjU3MzE2IgogICBHSU1QOlZlcnNpb249IjIuMTAuMjQiCiAg\n",
    "IHRpZmY6T3JpZW50YXRpb249IjEiCiAgIHhtcDpDcmVhdG9yVG9vbD0iR0lNUCAyLjEwIj4KICAg\n",
    "PHhtcE1NOkhpc3Rvcnk+CiAgICA8cmRmOkJhZz4KICAgICA8cmRmOmxpCiAgICAgIHN0RXZ0OmFj\n",
    "dGlvbj0ic2F2ZWQiCiAgICAgIHN0RXZ0OmNoYW5nZWQ9Ii8iCiAgICAgIHN0RXZ0Omluc3RhbmNl\n",
    "SUQ9InhtcC5paWQ6YmVlYWFiZDgtMGZiZC00MTc1LWE1NDUtZDdmOWI5ZTNmNTdlIgogICAgICBz\n",
    "dEV2dDpzb2Z0d2FyZUFnZW50PSJHaW1wIDIuMTAgKExpbnV4KSIKICAgICAgc3RFdnQ6d2hlbj0i\n",
    "MjAyMS0wNS0yN1QwOTo0ODozMCswMjowMCIvPgogICAgPC9yZGY6QmFnPgogICA8L3htcE1NOkhp\n",
    "c3Rvcnk+CiAgPC9yZGY6RGVzY3JpcHRpb24+CiA8L3JkZjpSREY+CjwveDp4bXBtZXRhPgogICAg\n",
    "ICAgICAgICAgICAgICAgICAgICAgICAgICAgICAgICAgICAgICAgICAgICAgICAgICAgICAgICAg\n",
    "ICAgICAgICAgICAgICAgICAgICAgICAgICAgICAgICAgICAgICAgCiAgICAgICAgICAgICAgICAg\n",
    "ICAgICAgICAgICAgICAgICAgICAgICAgICAgICAgICAgICAgICAgICAgICAgICAgICAgICAgICAg\n",
    "ICAgICAgICAgICAgICAgICAgICAgICAgICAKICAgICAgICAgICAgICAgICAgICAgICAgICAgICAg\n",
    "ICAgICAgICAgICAgICAgICAgICAgICAgICAgICAgICAgICAgICAgICAgICAgICAgICAgICAgICAg\n",
    "ICAgICAgICAgICAgIAogICAgICAgICAgICAgICAgICAgICAgICAgICAgICAgICAgICAgICAgICAg\n",
    "ICAgICAgICAgICAgICAgICAgICAgICAgICAgICAgICAgICAgICAgICAgICAgICAgICAgICAgICAg\n",
    "CiAgICAgICAgICAgICAgICAgICAgICAgICAgICAgICAgICAgICAgICAgICAgICAgICAgICAgICAg\n",
    "ICAgICAgICAgICAgICAgICAgICAgICAgICAgICAgICAgICAgICAgICAgICAKICAgICAgICAgICAg\n",
    "ICAgICAgICAgICAgICAgICAgICAgICAgICAgICAgICAgICAgICAgICAgICAgICAgICAgICAgICAg\n",
    "ICAgICAgICAgICAgICAgICAgICAgICAgICAgICAgIAogICAgICAgICAgICAgICAgICAgICAgICAg\n",
    "ICAgICAgICAgICAgICAgICAgICAgICAgICAgICAgICAgICAgICAgICAgICAgICAgICAgICAgICAg\n",
    "ICAgICAgICAgICAgICAgICAgCiAgICAgICAgICAgICAgICAgICAgICAgICAgICAgICAgICAgICAg\n",
    "ICAgICAgICAgICAgICAgICAgICAgICAgICAgICAgICAgICAgICAgICAgICAgICAgICAgICAgICAg\n",
    "ICAgICAKICAgICAgICAgICAgICAgICAgICAgICAgICAgICAgICAgICAgICAgICAgICAgICAgICAg\n",
    "ICAgICAgICAgICAgICAgICAgICAgICAgICAgICAgICAgICAgICAgICAgICAgICAgIAogICAgICAg\n",
    "ICAgICAgICAgICAgICAgICAgICAgICAgICAgICAgICAgICAgICAgICAgICAgICAgICAgICAgICAg\n",
    "ICAgICAgICAgICAgICAgICAgICAgICAgICAgICAgICAgICAgCiAgICAgICAgICAgICAgICAgICAg\n",
    "ICAgICAgICAgICAgICAgICAgICAgICAgICAgICAgICAgICAgICAgICAgICAgICAgICAgICAgICAg\n",
    "ICAgICAgICAgICAgICAgICAgICAgICAKICAgICAgICAgICAgICAgICAgICAgICAgICAgICAgICAg\n",
    "ICAgICAgICAgICAgICAgICAgICAgICAgICAgICAgICAgICAgICAgICAgICAgICAgICAgICAgICAg\n",
    "ICAgICAgICAgIAogICAgICAgICAgICAgICAgICAgICAgICAgICAgICAgICAgICAgICAgICAgICAg\n",
    "ICAgICAgICAgICAgICAgICAgICAgICAgICAgICAgICAgICAgICAgICAgICAgICAgICAgICAgCiAg\n",
    "ICAgICAgICAgICAgICAgICAgICAgICAgICAgICAgICAgICAgICAgICAgICAgICAgICAgICAgICAg\n",
    "ICAgICAgICAgICAgICAgICAgICAgICAgICAgICAgICAgICAgICAgICAKICAgICAgICAgICAgICAg\n",
    "ICAgICAgICAgICAgICAgICAgICAgICAgICAgICAgICAgICAgICAgICAgICAgICAgICAgICAgICAg\n",
    "ICAgICAgICAgICAgICAgICAgICAgICAgICAgIAogICAgICAgICAgICAgICAgICAgICAgICAgICAg\n",
    "ICAgICAgICAgICAgICAgICAgICAgICAgICAgICAgICAgICAgICAgICAgICAgICAgICAgICAgICAg\n",
    "ICAgICAgICAgICAgICAgCiAgICAgICAgICAgICAgICAgICAgICAgICAgICAgICAgICAgICAgICAg\n",
    "ICAgICAgICAgICAgICAgICAgICAgICAgICAgICAgICAgICAgICAgICAgICAgICAgICAgICAgICAg\n",
    "ICAKICAgICAgICAgICAgICAgICAgICAgICAgICAgICAgICAgICAgICAgICAgICAgICAgICAgICAg\n",
    "ICAgICAgICAgICAgICAgICAgICAgICAgICAgICAgICAgICAgICAgICAgICAgIAogICAgICAgICAg\n",
    "ICAgICAgICAgICAgICAgICAgICAgICAgICAgICAgICAgICAgICAgICAgICAgICAgICAgICAgICAg\n",
    "ICAgICAgICAgICAgICAgICAgICAgICAgICAgICAgICAgCiAgICAgICAgICAgICAgICAgICAgICAg\n",
    "ICAgICAgICAgICAgICAgICAgICAgICAgICAgICAgICAgICAgICAgICAgICAgICAgICAgICAgICAg\n",
    "ICAgICAgICAgICAgICAgICAgICAKICAgICAgICAgICAgICAgICAgICAgICAgICAgCjw/eHBhY2tl\n",
    "dCBlbmQ9InciPz4pbhrAAAABhWlDQ1BJQ0MgcHJvZmlsZQAAKJF9kT1Iw0AcxV9TS0UqDnYQdchQ\n",
    "xcGKqIijVqEIFUKt0KqDyaVf0KQhSXFxFFwLDn4sVh1cnHV1cBUEwQ8QNzcnRRcp8X9JoUWsB8f9\n",
    "eHfvcfcOEGolplkd44Cm22YyHhPTmVUx+IoABhDECMZkZhlzkpRA2/F1Dx9f76I8q/25P0e3mrUY\n",
    "4BOJZ5lh2sQbxNObtsF5nzjMCrJKfE48atIFiR+5rnj8xjnvssAzw2YqOU8cJhbzLay0MCuYGvEU\n",
    "cUTVdMoX0h6rnLc4a6UKa9yTvzCU1VeWuU5zEHEsYgkSRCiooIgSbERp1UmxkKT9WBt/v+uXyKWQ\n",
    "qwhGjgWUoUF2/eB/8LtbKzc54SWFYkDgxXE+hoDgLlCvOs73sePUTwD/M3ClN/3lGjDzSXq1qUWO\n",
    "gJ5t4OK6qSl7wOUO0PdkyKbsSn6aQi4HvJ/RN2WA3luga83rrbGP0wcgRV0lboCDQ2A4T9nrbd7d\n",
    "2drbv2ca/f0ApOVyu9vhxTQAAAAGYktHRAAAAAAAAPlDu38AAAAJcEhZcwAACxMAAAsTAQCanBgA\n",
    "AAAHdElNRQflBRsHMB7lo2JqAAAgAElEQVR42uzdZXgUVx+G8Xt2N+4hwZ3g7hDcCRQJXqy0OBQp\n",
    "LsVdKhRKKfYWpw0WCFagFIq0ULRAKQQPEBIgrivzfkgI3gYIsJv8f9e1kLXZs2dm55kzZ+aMoqqq\n",
    "ihBCCPGKNFIFQgghJECEEEJIgAghhJAAEUIIIQEihBBCSIAIIYSQABFCCCEBIoQQQgJECCFE+qWz\n",
    "hEKqqgmj0ZRyX9Fo0GoeZZ+KwWB85rEn3msyYjSpaHU6lOTHjAYDLzr9/slpPHqNotWhVZ5+XdJz\n",
    "CjqdFqPRwL+fy5/0un/z6LOeLKMQQkgL5A3FR1xlwsCuFM7uiJWVFVZ2HjRo04MNx24kv+Ashays\n",
    "mLvzjxe+P8T/U6yy1yEiLjHpAZORyV1LJU3rmducgCPJa/R7tLRPemzYN9swPZVIRuYO/QDXerNJ\n",
    "BFaMb/DCaT265W01FqPpZclo4vSuFTSqmBsrqzJcSZQFUgghAZJG4XGNDlXKMm/HZeZtP8Pt27cJ\n",
    "unaGtoXjaVt5OPeTmicYARMvXkurBgOK1dPb9SaDHpsGswkOCeHevXspt/4NKqes2CP0YOfuydez\n",
    "Z3M20vD0+wE7U1Krod3wDdwNDiY4OJhrBzcDMH/tHwQnP3Zy+Si0L6hlVX+PLz7rQFmfoRhd8gMq\n",
    "MiiZEEICJE0ksnZER7ZFl+TgwX18ULEw2bNnJ0fOPPSdsZa7t7/B7Q2mrtg4kdnTk8yZM6fcnOys\n",
    "nnrNR22HUcT0OxMnr8L4krW7o2smsmbJQpYsWcji4Q6Ai5tH0v0sWcjs4frC9+kvbedX68bceniT\n",
    "4R9XkyVRCCEBklYSwu4zd8sxWrbuTonsjs89nzV7VrRvuQxOhYuyalpH/JfP41BwQppO27r4J2yb\n",
    "/Qk53ewxyYDIQggJkLQTFXOauyEmSvq0fK4TO00oyn92WBuNULr9LKp73GT8qAXoTbLACCGE2QeI\n",
    "IfIS0diTK7/dW5l+/LY+KIry+JZnDMYXvE7nkJUlc3px9KeF7L4SLUuMEEI8Wj+aa8EUrRUKicTH\n",
    "vZ3dO9Y1x3JsQXuU5N1HWgfPl+4SK9h4DM1LrOfzgVOot3UacqytEEKYcYBYOZbCVTFw6c8gKFUw\n",
    "7ZtezjkpVbJkqrJAa+PM13MGUrL+LDb//RmKBIgQQpjvLiwX58LkzeXIkYCFJJjefydzjmp96VQv\n",
    "CxN6jeJmpCSIEEKYbYBonTz5YkQHTmyez5AfDhGZ8LgHOzToClM+HUboE53ayis3C5RX2hOlWNkx\n",
    "ZeZQYo+vYMu6A2m6F+tRSaRlI4SwJGY8lIlC9Z5f89WtaAZ3r8nCno5Uql4Rw72LnPznLk37fMFg\n",
    "DTw6AW/VtLGc/J9Hysl4roXr8v2UviS94lkq+jNr6df/7OMgUE14f/gpnWoU5/FJfU+/061UR/p2\n",
    "XMy41UfweMNGkSk2kC/nriLapPDPyYPAPeZNnoS7xsQHXYdQsYCLLJ1CCAmQ144QawcGzVhD89Yf\n",
    "sWnfSWL1RrTWHzCzYRvql82dtPK3zcXIyRN4oD7dmNK6Ja2AbQrUYfKnxbB6dDq4olDOpz/jS0S9\n",
    "ILL0ye0yBzpMmYRr0TxPtzS0VoyavwTrwhvQFPDB5pn3W7l6MGHCBHLnSMXKXx9OgqpFo4GiFXyY\n",
    "VMEnpRRxUfGABIgQwrwpqipnsQkhhHh1Mpy7EEIICRAhhBASIEIIISRAhBBCSIAIIYQQyd77Ybxy\n",
    "ENirUeRsQyFERg+QoKAgVq5cya5du/jzzz/RaKQx9G8cHByoWrUqTZs2pVu3blhZWUmlCCHe7wbt\n",
    "+zgP5Ny5czRr1ozr16/LHHgNbdu2ZcWKFdjZ2UllCCHem/ey2d+rVy8Jjzfg5+fH5MmTpSKEEBmr\n",
    "BbJhwwbatm0rNf+GPDw8uHjxIpkyZZLKEEJkjBbI1atXpdbTQFhYGHq9XipCCJFxAiQxMVFqPQ0Y\n",
    "jUY5gk0IkbECRAghRPpgVsO5t23blh49eshcSRYdHU27du0wGo1SGUIICZB/kz9/fho2bChzJVl4\n",
    "eDg6nU4CRAhhlmQXlhBCCAkQIYQQEiBCCCEkQIQQQkiACCGEEBIgQgghJECEEEJIgIi3T4ZAEUJI\n",
    "gIjXcv/+fX744QdiYmKkMoQQEiAi9Tw9PenWrRshISGsXr2a8PBwqRQhhASISL18+fLRuXNn7t+/\n",
    "z48//khISIhUihBCAkSknpeXF+3btycsLIyNGzcSFBQklSKEkAARqVe4cGFat25NTEwM/v7+XLt2\n",
    "TSpFCCEBIl4tSFq0aIFer2fz5s0EBgZKpQghJEBE6hUqVAhfX18URWHjxo1cvnxZKkUIIQEiUq9A\n",
    "gQK0bt0aGxsb1q9fL0EihJAAEa8md+7cdOjQAQcHB1asWMHVq1elUoSQABEi9bJnz85HH32Ek5MT\n",
    "ixcv5vr163J2uxASIEKknqenJ7169cLV1ZUFCxZw48YNTCaTVIwQEiBCpI6rqysDBgzAzc2NefPm\n",
    "cePGDbmOuxASIEKknrOzM4MHDyZTpkx8/fXXXLt2TYJECAkQIVJHURQcHR0ZOnQonp6efPPNN1y6\n",
    "dEmCRAgJECFSz9HRkc8++4xs2bLx3XffcebMGQkSISRAhEg9JycnPv30U/Lly8fy5cv5/fffpbNd\n",
    "CAkQIVLP2dmZnj17UqRIEdasWcOBAwfk8F8hLJhOqkC8a66urnTp0oWHDx/i5+eHu7s79evXl4oR\n",
    "QgJEiNRxd3enXbt2PHz4EH9/f6ytrfHx8ZGKEUICRIjUB0mLFi0ICwtj+/btKIpCkyZNpGKEkAAR\n",
    "InXc3Nxo2rQpERER7Ny5E0BaJEJIgAiRei4uLvj4+BAdHc2uXbtQFIWGDRuiKIpUjhASIEL8N0dH\n",
    "Rxo3bkxcXBw7duzA1taWWrVqodPJYiuEBIgQqWBnZ0fTpk3R6/Xs2LEDJycnvL29sbGxkcoRQgJE\n",
    "vA+qqvLNN99w5syZlMcSExNZtmyZWa6craysaN68OUajka1bt5IpUyYqVqyInZ2dzEwhJEDEu6Qo\n",
    "Cr1796Z+/focPnwYgMWLF5v9lr1Wq8XX1xdVVdm8eTPu7u5UqFABR0dHmalCvENyJnoGZ2try3ff\n",
    "fZdyPzQ0lFOnTqHX6y0iAFu1akWtWrXYs2cP+/btIyoqSmaqENICEe9KyZIl8ff35+bNm3z66ac8\n",
    "fPiQOXPmUL9+fUqVKoWtra3ZB8mjFklAQABarZbq1avj7OwsM1cICRDxtjVv3hyDwQAkndg3ZswY\n",
    "oqKi+Oqrr6hUqRLe3t5m39egKArNmjVDVVX27NlDVFQUDRs2xMnJSWawEBIg4q0uDM8cHuvk5MTo\n",
    "0aOJjY3l22+/pVChQtSvXx97e3uzD5KGDRtiMpk4dOgQN27coFWrVjg4OMhMFkICRLxL9vb2DBs2\n",
    "jLi4OJYvX46rqyutWrUy+xaJRqOhZs2aGI1GTp48ycmTJ+nSpYvZB6AQEiCvwWAwEB8fL3MlWXx8\n",
    "vFkNd25nZ0f//v2Ji4vDz8+P2NhYunXrZvZ9JFqtlooVK1K2bFkuXLjA/v376dWrlxz+K8SbtvbV\n",
    "d7yGmjp1KuPGjZOaTwN37twhW7Zs7+3zY2Nj+fnnn7l69Sp9+/a1mBWywWAgMDCQgIAA+vXrJy0S\n",
    "IdJDC0RYFnt7e1q2bElsbCyHDx/mzz//ZMCAAWbf16DT6ShSpAheXl7cuHGDTZs20bdvXzmPRIhX\n",
    "JOeBiDQJkvr16zNo0CDOnDnD9OnTCQ8PN/+tJ52OAgUKMGTIEIKDg/nyyy8totxCSICIdMfOzg5v\n",
    "b2+GDh3KlStXmDFjBsHBwWZfbq1Wi5eXF4MHD+b+/fvMmzePkJAQmaFCSICId83Gxoby5cszfPhw\n",
    "goODmTlzJleuXDH/H4NGg5eXF4MGDSIsLIxvv/2WW7duyQwVQgJEvGs6nY4yZcowcuRIoqKimDVr\n",
    "FufPn7eIshcuXJj+/fsTFRXFokWLLCIAhUj3AfLobGfx5szpEN9/oyhKSpDo9XrmzJnDyZMnLaLs\n",
    "xYoVo0+fPsTFxbF48WIuXrwoC54Qj37bqqWshUS6cubMGfbs2UPNmjWpVKmSxZT77Nmz/P7771Sr\n",
    "Vo3ixYvLjBQSIFIN4n05f/48u3btonr16lSuXNmiguTw4cPUqFGDEiVKyIwUEiBCvC+BgYFs3boV\n",
    "b29vKlasiFartZgA/PXXX6ldu7a0SIQEiBDvU1BQED/++CPe3t6UL18ea2triyj3P//8w+7du2nQ\n",
    "oAFFixaVGSkkQF4mMTGR0NBQi/7izs7Orz3Md3BwMEaj0XJnuqKQLVs2FEUx2zLev3+fFStWULly\n",
    "ZcqXL28xw6RcvXqVzZs388EHH1CoUCGzrmMh3kuAXLx4kaJFi1rMboYXWb16NR06dHjl95lMJj78\n",
    "8EM2btxosd+9fPnyHDx40OwvXQsQFRXF999/T+nSpalatarFDDcSFBTE6tWradWqFQUKFLDo34oQ\n",
    "L/NGY2FZ8lb48ePHXytAEhMTuXHjhkV/d0vaa+nk5JQylPyiRYvIly8f9erVM/uLROXMmZORI0cS\n",
    "GhrKjBkzaNeuHfnz53/umitCZLgWyD///EORIkUs+4snX3ToVYciDwoK4sSJExb93StVqmQxLZBn\n",
    "JSQksHTpUpydnfH19bWIFomqqoSHhzN//nzatWuHl5eXBEk6YDTEc3LXD0z+ag2hsSZyl6zJuAkj\n",
    "KJHDDQUwxp3Ft2537pkUnlzL6mPsWf3HrxR3hPtXjtG04wBQVVQUtFY2lK7TlolDPyGrmwOqMYFB\n",
    "LWsSVHUGG8fU5bkdoqaHDKnfkLgPhrBwSEfuH5tP8wGrMT6zWrfybMKe7ROxBw5tms3gmRvRoIKi\n",
    "YG3nRoseQ+jbpi6Otq+2XL7WUlyoUCGLn/mqqrJ79+4MueDnyJHDIsMDkoZJ6d+/PwkJCaxdu5b4\n",
    "+Hi6dOli1kGiKApubm6MGzeOyMhIpk+fjq+vL0WLFpUgsVgGfhpWl49+iuCTD1tRO6sdF04dw7fj\n",
    "YP7a8wN21gqm2Gv88fuf+Hw+ibIeLo/X+Yo7WZO79KJj73Hs2DE+mTCPMpkgMuQGezZMpcRGf44e\n",
    "CaCgqzX5C2Vm/tSR3B50jJwOT0dIWOBlvtp/ggVDvVGAxCsn+P3CfWZO6I+t1ePdprrM5Xn0i7//\n",
    "8BInjkcy+Zv+uKp6bgeeZVHPRqzdNZGjKydg+yqnl6uvacyYMSogNwu76XQ6dd++fWp6ER8fr27Y\n",
    "sEGdPXu2GhUVZRFlNplMakREhDp16lT1xIkTql6vV4Vl0d88qQLqlKW/qKZH89VoUKMjwlRT8gOJ\n",
    "97eomdGqP129+9LpXDu7VQXUDVcNKY9FBB9Vizhq1JbTj6iqqqr3fv5KBdQdF4Kee//xdb1VdE3V\n",
    "68mLUNDaj1Ry1lMj4hNf+pmbl3RXwUe99cRjf+2eoALq0j/jXqkeXnsok5EjR1KwYEHZELGw3XY9\n",
    "evSgdu3a6eY72djY0Lp1awYMGMCRI0eYMmUKkZGRZt3PoygKzs7OjB07Fi8vL+bNm8eRI0csul8t\n",
    "o0mI0wPgYOeYsltJ0WhxcHblTQ+8c3AuRr68Djy8HIgJ8KzTiTZ5YfyaZ8eRi2T1+O9pOrY1ed6w\n",
    "IeuZvzkAobcevv1dWJB0GOyZM2cYM2YMfn5+hIWFyThXZrqrzs7ODk9PTyZPnkz79u3RaNLfGJq2\n",
    "trY0bNiQmjVrcvLkSXbt2sXgwYNxc3Mz60NpnZ2dGTp0KOHh4Xz33XcUKlSI+vXrp8t5lJ445MvN\n",
    "h9lhyrRhFCi8jg/KZkOjSZvlLC76b67fjKPGSO+kwQp1HjT4qA29J03k5piG5E6+gGb05QvMuwzL\n",
    "qzd8488MuxYAeFC0fOZX2xhKixMJw8PDSUxMRM5JNE9arRY7Ozuzv1JgWkpMTOTcuXNs2bKFvn37\n",
    "kjVrVos4JyMsLIxNmzaROXNmmjVrJguvGYu4dowGNX04HhRNi2796TVgKD5lc6S0QPQP/Mnp0RLv\n",
    "foMo4ebIo7Wjd+tuNCnrBcD1v7aRr1Rzhn33E1U8FcLuXmHL4q+5nb0Z+/y/w90mqR/j4cElZKrV\n",
    "i51/3aRxiVwAHNsymsqt/iEocRM5kpsCt9d1I+cnexk2uCs2Wk1yi1dLv89Gks09KXm2LO2Bb88T\n",
    "LN4wHjdTAkH/nGTBxDnUn7yOb8d04FUOOE+THjxXV1dZmoRZsba2ply5cpQsWZJ//vmHRYsW0aVL\n",
    "F7y8vMy63G5ubnTv3p2HDx+yZs0a7O3t8fX1lRlqhlzyVeLwP1c4tX89HbsOpukPX9Fnxg98M+Ij\n",
    "rDRPb8BpHp0HpKo42Nk/N625/dqjqCoqULJxH/ZvWpASHgDu1VvROX8vpm7+OzlA4tgxZyYtZ6xL\n",
    "CY/HzQINWo0W7aMA0Vij1T0bC6fp3bZ1ykZ/j+nrmT+6Pa98tpJ0h4mMwGg0qufPn1cnTZqknjlz\n",
    "xmLK/eDBA3XDhg2qn5+fzERz7lSPfaBunuSjgrP61cHQpzrR/VLRib7xukk1GRLUK2d+UQu7on48\n",
    "a5tqeOa1q2d1UaGWej1OVeOvHlYBdf3Bp6f9qBM9MkH/H53oTdTbqqomxkWq+/1mqeCgrjp465W/\n",
    "t+xoFRmCRqOhWLFijBs3Dp1Ox7Rp0zh27JjZl9vd3Z3WrVtTr149/P392bhxo+wqNkM6O3d8Bi2j\n",
    "XPYYDm8/zpNzKDVzSzWZULTW5C9Vk6/6+rBu4VSCohOeek2TWo2BA1z4O4jTfx0AbTtqemd9WcPg\n",
    "vz4RE2Bl60Ttlr3oXySGGd8twfiKi5YEiMhQFEWhWLFijB07FkdHR2bNmsWhQ4fMvtxubm60aNGC\n",
    "+vXrExAQwJYtW+Sorfco+mEwkc8cM2RICCYyyoirVwFev7dNS+2h0/CK+JMpGy4/vQxU9qFnIZi3\n",
    "7xS/rxxDuy87ky0tRsjRuTJw4SwurFuAf2D8q71VFgWRURUrVoxixYpx8eJFvvjiCypUqECtWrXM\n",
    "e7+7iwvNmjUjJiaGnTt3YjKZ8PHxwcrK6v0WLOIExNwHgyl1m9zvtPkJWGnBtQjY5k6TSf5z5nuq\n",
    "DD7O8kmfktvdAWNcGMtHdCI4d0PGdsz/xCuNXD51gj9CPJ7Y9reiePlyOL1k7WvnWpRGNcry4/wJ\n",
    "RH64AWebR3HkRpMBvfAd3ZHfomH9iJdcPyc+nD+PHcPB+vEHKNaZKF/W66V9HPlKtyUPI9n4w1pa\n",
    "Tv2E1B5QJsO5C5EsMDCQgIAAypYtS40aNSziUNqEhAR27dqFTqejbt2673bUYtUAwfvgWktIjAdz\n",
    "P8hNBVxaQ/6J4PJmFwFLCL/LpvXLmT72c84lnzrRddgcPhvQhzK5k0ZFMEQeILNLbcJe8P4D10zU\n",
    "zKtw89xO8pRswtZbRprlfLy83fllJjnqjWbv3TDqZX18kFLE2QBcSzeDLJ9w784yMj+ziN7dPZLs\n",
    "jWe/4BPrEGr4BQ8tbFvWi+Y97nFX9efxDjATW0d50+KbbEREbcRZm7plXwJEiGfcunWLzZs3U6pU\n",
    "Kby9vS3imiQGg4Ft27ZhbW1NrVq13v7QLsY4OP8phC23vBmsAvlXQO6usrC/IQkQIV4iNDSUdevW\n",
    "UaJECapWrWoR1yRRVZWNGzdiY2NDzZo1cXFxwWg0snDhQgYMGJA2H2JKgNNtICrAcmeuCuRbCnm6\n",
    "y4IuASLE2xMREcHKlSspUKAANWrUMPuh5B/56aef0Gq1GI1G2rdvz7Zt2/jggw/efMKXv4I7Qyx/\n",
    "xqpAqd/BvbIs5BIgQrxd8fHxLF26lOzZs1OvXj1cXFwsokWSLVs27t27B8Dt27fJnj37608w9hoc\n",
    "z59+Zqp9c6i4BfPvwJEAESJdSExMZNmyZTg4ONC8eXOzHolh165d+Pj4pNxv2LBhSl/JawnaBlea\n",
    "p5+ZqQJV74BNNlmwJUCEeHf0ej2rVq0iPj6ejh07mmWQmEym504q02g0rz8u2Km6ELk/fc3I/Ish\n",
    "V09ZoCVAhHg/QbJp0yZu3LhB7969LWLX1ms7pEB6O38x8wwoOkoW5NcgJxIK8YasrKxo3749iYmJ\n",
    "7Nu3jz/++IPBgwfj4uJiESMAvxID6a+7QC+XoXhdMpSJEGnE2toaHx8fxowZw/nz5xk7diwPHjyQ\n",
    "savMncweCRAhzClIqlWrxsSJE7l58yajRo3i7t27EiQi3ZFdWEK8xSApW7YsJUqUIDAwkHnz5tGj\n",
    "Rw8KFCiQ/nZtZfRGjKoSHx+Pn58fN2/eNOuNBQ8PDypVqkTZsmXfeLgei+lEf6qYivLUblhVVZ97\n",
    "7Mn2adLTyoun9VRtPJ7Go9e86If+5HOpqb5/W1k8+X5ZqaRvRqORq1ev8r///Y/27dtTunRpy/sS\n",
    "vyrprw/EdQqU/vy1337z5k1mzJjBokWLLOpr58uXjzFjxtCjR4/XnobZ78LSxwQxb9IAimTWoNFo\n",
    "0GgcaPnJcHb/dSfpBQlnyaPRMHv70Re+/96W/mhsvQmPS0x6wGRkUqeiydN6+jbDP3lYb2MIrZMf\n",
    "G7N039O7SFUjswc1RFNrFonA8jE1XjitRzdd05EYTc+XKzH0HHNG96FQpuTXWudl0OTlhMsI3emW\n",
    "VqulYMGCTJs2DQcHByZMmMDRo0elYizY9u3byZMnj8WFB8C1a9fo2bMnHTt2JCEh4bWmYda7sBKi\n",
    "g/jYuzg/3c3O6p+OUy6HCyZjAtsWjqZxqcHcV38ik8mEApgwvXgLX69H8Xh6qGujwYhN3an8vbwz\n",
    "SkoLQMU5U7aUkLgP6JwdmTFtBl0+rE1Rh8cDIZsULR6qHhVoNXg9dXomhVN84DGKN/qQuf/bj2/N\n",
    "pGGjtdb2PN9KNLFu3lxWBmZh7a8XcLHRsPt/nzNwQnfsChRmZqdq8stMxxRFwcvLi0mTJnH58mWm\n",
    "TZuGt7c3derUkcqxIOfPn0+boWHes3Xr1mFra8vy5a8+MKYZB4iezeM6si6kMEf+2EPV/I+PrS8y\n",
    "fxttBl7jTY62V+wzkTdPnn9tjXdrO4Zf/Mcyfpof66d1QPuCF7tlyYlb8t9xCUEAZM6am/z58/9r\n",
    "w893wHQ6Zc6OLnmahSbOZMusDcxaeYQZnarJwAoZRMGCBRk7diyBgYHMmTOH0qVL07BhQ6kYMxcX\n",
    "F5euAv9///sfzZs3p2XLlq/0PrPdhZUYfp+p64/SvE13KuV7PiryFcz31tPPrXhxVkxoy4ZlX3Li\n",
    "fmKaTts5y+PwAMDWk3zukOoruYh0xcvLi+HDh+Pl5cW8efPYvXs3JpNJKsZMnThxgtDQ0HT1nebP\n",
    "n//Knf9mGyCR0X9xJ9hAaZ82L9zyT4P9CP+5lW80KlTs9iWVHf5hzJil6N/i79kUfJ4ND6F90+LS\n",
    "+sjA8ufPz6BBgyhWrBiLFi1i165d6PV6qRgzs2nTpnT3nX755ZeUQTctPkAMUX8ThT25Czq8lenH\n",
    "b+uDoiiPbwXHvXCEBmvH7Hw/tRsH1n3Db7di3tr3DfhpLRFoGeBTXX6dgly5ctGvXz/KlSvHsmXL\n",
    "2LFjB3FxcVIxZmLNmjXp8ntdunTplV5vvn0gihYFPfrEt3OUsbX3MH6Z2yqlE13nnP0l1wtWKN5q\n",
    "Ek3mbGTEwDkc2vh5mh/GePe0Hy0GLWDEst+oVsBJfp0iRebMmenTpw8RERGsWrWKbNmypVwoSrw/\n",
    "Wq32pc+VL1+eVatWmeWVLA8ePMgnn3zy0ueDgoLSR4BYOZXABT2XTgZDiXxpPn2NewG8q1ZNVRbo\n",
    "bF2ZN60PpVp8x64r/dI0PyJvn+TjGu1oPvhbxn0srQ/xYi4uLvTq1YvY2FhWr16Ni4sLDRo0wN3d\n",
    "XSrHzNjb21OgQAGzDJDAwMC0XY+a7Q/GqSh5ctrzR8AiEk3v/1zH3PWH0KGGM6N7TuBOXNpESOz9\n",
    "y/TxKU9smwksm9kPR+n8EKlYOfXq1QtfX182bdrEDz/8wP3796VixHthtgGic/ZkRv8W/O43n8/9\n",
    "ThH7RA92xINgvho1nvtPdWq/+tr3Vd6hsbZn+rSBPDiyGP/1h9+4FZIYcZtBbatxqegw/L6dgIeN\n",
    "LIwi9aytrenRowedO3cmICCABQsWSJCId7+eNudsq/fZIsZfi2RSh/JsKFKKIoULYAi7zdlTJyjs\n",
    "8zmfaODRUJp+X0/nyqYsKWeNuxSoxtzRSfv6XtR+0Z/fxMhR1+GJEwkr+/agVZVCgPrC92Sq1J2e\n",
    "bX5g+o/H8HyTr6Ya+XLMRyw98JB2nSOYOnLg4+dM0HnoTCrnd5ClU/z3D1ino1u3bhiNRjZs2MCN\n",
    "Gzfo3r07mTJlksoRGTlAQGPjzITvtvBhxy0s33KQyHgDVvkL03fmGppVLpBUeNvsdO/Tk7vPdIHr\n",
    "E5PO27DOWZ6+bTzRPTodXFEoVLUtPTOFERkR8eRanXtR4ckfbEfDfr3xyJ31qZaGorVmwoLvSMi0\n",
    "BE3JOjy7h1Pn5EzPnj3I7PnfHeGZ85anT++CABgMT1yPQDUQFREHSICI1NNqtbRv3x6DwcCuXbs4\n",
    "fvw4AwcOxN3dXcZYE2+NXJFQiHTIYDBw5MgRduzYwdChQ/Hw8EibIJHBFAHInj07d+/efeFzNWrU\n",
    "YO/evWbZib57924aN2780ufXrFlDx44dU7+RLz81IdLhrgWdjpo1azJ16lSCgoIYNmwYd+7ckbPb\n",
    "RZqSABEinQdJ2bJlmTVrFlFRUQwbNoyrV69KkAgJECFE6oOkcOHCzJkzB4ARI0Zw9uxZqRjxZsuV\n",
    "VIEQGYdWqyV//vzMmTOH8PBwqRAhASKEeDWKouDm5iYV8RZER0dz/vx5rKyszK5s169flwARQghz\n",
    "derUKcqVKyctkLdJr9cTEBDAzp07uXXrlhyr/h80Gg1ly5alfv361KpVSypECJExAyQoKIg+ffqw\n",
    "fft2mQOvYPv27UydOpWZM2cyZMgQs2wiCyEy0Ibt+/jQoUOHSni8gVGjRrFy5UqpCCFExgqQgwcP\n",
    "8tNPP0nNv6GJE4zXi1kAACAASURBVCcSGRkpFSGEyDgBcuzYMan1NBAcHExsbKxUhBAi4wRIfHy8\n",
    "1HoaMBgMyDBmQoj3SQ7jFUKINJQvXz5GjBiBTmd+q9dz584xb9689BkgderUoWXLlrJlnSwuLo6x\n",
    "Y8fKuEXAgxsnKFG6FsERMYATvv1G8vXkoeTOZGsW5VNNBpbNnUbTXqPI5ipXB8vIcubMySeffGK2\n",
    "o/Gm2wCpVKkSAwcOlCUwWXh4OBMnTiQhISHD14XeGEV8hZ4k7JqLoo/g+9GdaN4lmCPb5mOvNYcS\n",
    "mji64StqdxoMEiAig5DBFIXlUBQ0Gg1Wdu58POxDIoKvYkhMaq1G3j5F39YN8Pb2pv+cDcTojUnv\n",
    "Meo59ON0qlWuRLshX3Lx75/oM2EFJiD21o80aTeM2OQGnvHyJspU/YxHlxmLuHmS3r718fb2ZsDc\n",
    "dcQkJr3QEBvKjH7tqF69Bh0GzCQ6NoZ+zWqw4XQkrZrWpULlHsjFZYUEiBDmxJBIVFQU4fdvMn7A\n",
    "Amp98DH2dgrG6HP4eren7bRV/PrrL1SMXEuvZb8BcO7gYlp+dZ4lAb8ypYU7HZsP5n50JCqgJkYS\n",
    "dP9ByuWL1fgYzvx+DwNgDD1BjTxt8J24kgO/7qHq/RUMW7gJgEMz2xOYrRt7f9nL3O5lQWPD1xv2\n",
    "4lvKifWbd3Hkt4XIBWWFBIgQZiT+dACfdOtK45qVuVpgKN9PaI0OOL16FYG1x1MlrysmE/g278Ta\n",
    "wT8SBRxe8ClTRw6jmKc9hWt1w2+qT6o+6/ff9qOO+II6RdwxmrTU7DSeRZv/wAioaAkPu43RpJCz\n",
    "TCMcbXVYW1uj1ShYWVtjbW2NDMwjMgI5CktYDNsKrfDb+AUJYUE0r1WXzX2a0MHLkcC7Ydw+sIC2\n",
    "bdaBCpiM1GhUBYV4Lh6FKoNzpUzD2iZ1i3x49BVu+P9E6/NLUVVQTSbq5asOQM3R6zk2rA+1aq+h\n",
    "dqs+TBvWHmuZPUICRAjz55ApJxM7lmbMxCW0WjWEbK5O5K4/lIClbZ/Z8jeRowhEhwUDHgAY9IaU\n",
    "ZxVrG0yGBFRTUlvcZHp89J+9XXYKtG1GwJQmzxfALhMjv/2Jfg+D6d26PksbNaZfCbvkJ+UIQpFx\n",
    "yC4sYYEUKvQZTcTRHwmJiqdqx6bYrR7Lzr/uoJpMxD64xsZ95wENNfsPZ+7SpdyONXLt9x9pP2BV\n",
    "yipe614Nx6AznL8XhSHiCkPGzAe7pAiqWr46p6eOZMepW0nTfHiDLbuPAnGs/34FYQkm7BzssVa0\n",
    "2NorKIoWt0wOHLwdTmTofQwyk4QEiBBmsqAq1rjbP95RZOtSnPqlFBafjMYqS112H5vP9594Y2Vn\n",
    "T7km/dE4OQBQ4YPxfF7+HjkddIzYHMq3szultFJs7POx9NtedC6elZLNJ9Dzi/EUtbJDC9jmr8Ot\n",
    "U1+ysHs1dDb2lPXph8HZE7ChYOYQquZxxzNHSbJ9+CVdCziDRkufEROZVS8fRdp9jQwyIzIC2YUl\n",
    "LELmfN5c8fd+3AbR2vLl5t9T7ucs1Qj/49efDx4bRzpNWEenCesAuLWl9xMNGQ0lfAZxOXxQykMX\n",
    "Ipo9nmaZBgScvPncNMv7Duei7/DnHveq05NLUT1lZglpgQghhHg95nqBvLQul7RARIbiXmUQ4wvZ\n",
    "Zdgtp4MHD1KzZk1ZEN6iU6dO0bJlSzQa81vKQkJCJEDEq0lISODEiRMA/zrO2H+NQaYoCkry2eCP\n",
    "/n72/ov+ftH/L/v7ycdedP/Zx7TaVxvHxCFrMUplzbjLQq1atfD19WXEiBFUqVJFfhxvQXR0NDt2\n",
    "7MgQ31UCJAOwsbHB29s7TaZlNBoxmUyvdFNV9bn7er3+qede9H9q/34y+F5lIM7UvPbZ1yiKgl6v\n",
    "x2g0oqpqyv/PfteXlfPR9F72/7O7GZ4MaiBlq/ZFIf2yANZqteh0upRLIG/evJnNmzfTvHlz5s2b\n",
    "R968eeVHIiRAxNun1WpfeatfmJ+PPvqI3r17S3gICRAhROr07duXHj16UK5cOakMIQEihEi9hQsX\n",
    "SiWINCOH8QohhJAAEUII8e7ILiwhxLulrQZ2FcF0G2L9XvwaJQc4tAWU5Js+6fUJe8EY+cxmcHmw\n",
    "94a4dWCUS3lJgAgh0q/cMyF3dTCFwtGfwRDx/Guch0GZwSSNbqwmhYhqAlMEXOoLIT898dquUHoA\n",
    "/PMPBP8s9fsOyS4sIcQ7lAWyVQNTNGg8IWf9l7RAkgfOvDYVjjSFoy0gcDkoLlB0FbgXfuK1j86b\n",
    "kct4SYAIIdIv1wlgpcD1/kkNiywTngiAFzBGgH4XJG6DO73g79WANeRZJHUpASKEyFAyVwHTLbi9\n",
    "Eu7fAJs8YJUr9e9/8H3S/9aeUpcSIEKIDEMpBJ5lIfICmIC7W0FxhtwNXmEaybu2VKPUpwSIECLD\n",
    "cJ+QdNhO6NSk+5E7kjrGPUeBkspVkUffpP9jT0t9SoAIITKMLOXBdAOCDyXdN+6C0BtglR1si77k\n",
    "TcmDTGrsIPv/oFArUEPhSg+pTwkQIUSGoFSETIUh4nzS7qtH7viBYg95G7/4fV5fQC0VasRCwW5J\n",
    "/Sdn+0KcXurUDMh5IEKId9D6+Dxpc9U6LxQ9+cQmrFVSK8N9EGi+AdMzwXBvC4TfBTUa4o9C5OaU\n",
    "RomQABFCZASZSwP6pKOnrJ95zqgHXWawrwDRR59+LuoQBH8h9ScBIoTIkLQNwCUPROyGk42fP9/P\n",
    "eQqU+xzyNYG/jkp9WRDpAxFCvF1ZRyWtae6vSvpfeeYWexCMBnDpDVo7qS8JECGESJa5OPAAQta8\n",
    "+HnjHnhwF7Ru4FQz6TEZlUQCRAghiL0DN1dCwr+85tpEeHARrJI7SOKOwYOzEH3hv6cffwEenIHo\n",
    "YKnrd0z6QDKYhIQEjh8/TmRkJE2aNJEKEW/fP+X+u1URvxzOLX/i/go4tyJ1049bBOdkbCwJEPHW\n",
    "JCYmcurUKTp06MD169fZvHkzACZT0kH5qqo+dXv2sSfvv+jvf3ssNf+/7O8nH0vN/bRgMBjQ6/UY\n",
    "DAaMRiMmkwmj0fjU7d8ee/L/Z/9+0U1V1ef+f9Ht3+oFQEkelFBRFLRaLaqqoigKGo0GjUaDVqt9\n",
    "7mZnZ0fLli3RarXyIxESIOJ5er2ecePGMXv27JTH/Pz8uHTpEoqipKxknv370Yrnyb8f3ddqtU89\n",
    "9uTtyece/f3sY88+/uRKLbX3dTodNjY2KStOS/am3yE91IGQABFmyMrKipkzZzJ8+HAmTZrEqlWr\n",
    "aNGiBe3atZPKEUK8NulEzyAURcHDw4NvvvmG27dvky9fPrMur2pIJDo6OuUWExsvJyALIQEi3neQ\n",
    "ODg4ULFiRbMuZ+jpX3FyKk7nrl3p1KENlctX4mu/0xIiQpgR2YUlzLMFogJ5WuK3aR5WqolLxxdT\n",
    "etgS+rdegLUm6frYeoMBVQWNRodO92hbSEWvNyR1IGu0WOm0qCYTBqMJnVbBYDCiKgo6nRWaJ7oN\n",
    "DHo9JlUFRUGn06FRlKRpJerRWllhTP4srU6H9tEbnyyDVodOq0l+2IjBaHzucSEkQN7qSuPxUSji\n",
    "8RFS0mzSYGNrj4ONDQqgGuL4emx/Vu37h0z2BiIdi7B+1Xfky2TPqe1L6TF6IVlyenInKh+7fvse\n",
    "2ytnKDn4Gzpni+Lw1UjCbl2l6adfM23gB2gVlb82L6DP5EUkWNkT/TCciq3Gsnh2N+yIpK+NK05T\n",
    "RvDn7t/Rh90mZ7Nh/Di9D1rFwKbpg5m46SQ53XWYcjRj8w/DsTNF8fWgrqw8HoabVQwG17IsX/M9\n",
    "Xs7SyS0kQN6qH374gd9++00CJJnRaCQhISHjVkDQUaZNnQrxEWxf+TPLAn7GSqNwd99cNl3JwoHf\n",
    "l+Gkg1/mDqDTF79xZHojDv44ltkrT1CvTC7iYqKxBiJRCdqxg3JnzjKjVBai7pynSq0+9OnZkJya\n",
    "Wwwc+Q3zdhymgldmEqLu8GnVHOzoUIvW5dzBHmw8qrP311nooq5S1K0++4f3pI5NFAs2nmHHgV/J\n",
    "6WRNVEQ0tsDBH+awSNeZv460xlpjxH9hNxZt28/cTnVlgRYSIG9TSEgIISEhMldEEs9idOrcnkOr\n",
    "pkC5htQokQUwsmvlDoyaBmxYvQIFSLwfyvkdPxMzvRFFvLsxfMZMPu/Xl5a1Sjzu5CvTDt9SWQBw\n",
    "ypST/C532R9ioN0dP264VKNw/swA2Dhlp+4n7dhwNiQpQGKhVvUm2GgBV3eqeFzjxm0j2uJ2NCyg\n",
    "p9+4OQzt2Z2axbOiqCp/ntpLSVcH1q78AYAb17RsMz5gbieZnUICRIh3x8aFvHkLUnDMQq5Ud2Le\n",
    "qnZM+qgMETEGcpSqinfV/Emvq1qV4z0csQMa9Z5K4Zon+HJMZ2YuaMjm1bOxf3a6ioJWA4mJKqbw\n",
    "KDRWDk/1h+js7EnUP3FS4xNd91pt0lVY0dgycu1e/j51kM9aFWBxm69YMrknxtgoijcsj3ehXKhA\n",
    "1apV6WTvLvNSpEvSuyfMn9aRHl/PZ/XmnzCoOmp65yDm3k28ChemcPKtkFeOpIVZsSZvsap8s+UI\n",
    "1c/O4eSZsKRpXD3HmbuJAMTHhnI11J1aOaywLlcZ0+0TREUbkj8skQs/b6RVSbf/LJZi5UixSk3Y\n",
    "efoyIX5fEB6RSOYC5Tl7y55CT5TNK5enzEMhLRAh3hU15Z8kOQu3AP+KbLkylea95hJVuiqTFjpS\n",
    "IacjEUHnOOrUnoVd8jCgeTe8u7XHNvYKX13yoW8RN7h3DWxv0bWOD6On9OHU8sHkbDkdLztrtHY+\n",
    "9K/zJbV7fM7UDlW48utqpulGcq9sYSDiicI8LS78Lu0/W8DHLSsTH7SfC5mb4+RkQ9uu/ViWqzKz\n",
    "dGsomtWBkCvHMBT1pU/jCjJThQSIEO+CS96i7FvtyaMRmnSu2dlyaD16QzTWzl78cvo0x84Eojep\n",
    "uJdpSLNyeQEdY74axaVbD1AzlefqvR7kc4awe0DOphzZPYjT526SZ/xWplcpj04BsGLo/3ZS+/c/\n",
    "iUowkrndSB5WrICjNYA9fX7dR+acj0phT/8f9+OSW4edS2bmDGrO3fA4FPe2nO1eGScrIGcldgRf\n",
    "5dTFGxhVyFS1NSXKlpUZKiRAhHhX7DxzUdcz1xOPaClZrXbKPSuXHFSrmeO592UrUJJsBV4wQZMJ\n",
    "B4/81Kqd//nnFDvKV63xgjdZUaHWk0dPWVOh1uMyFC5TmcIveJdjlnzUyJJPZqKQAElr9erVo2TJ\n",
    "klLzacDBwUEqIRU0ChAj59QIYfEBUrVqVal18U65eJVDvVROKkKItN44kyoQQgghASKEEEICRAgh\n",
    "hHl7rT6QGzdu0LdvX6ysrCz2i/fr149GjRq98vtMJhMjRozg8uXLFvvd3dzcWLx4MdbW1vILEEK8\n",
    "2wCJi4tj586dFv3FW7du/VrvU1WVq1evsnXrVov97hUrVpQBK4UQ7ydA0oNx48ZRu3ZtPDw8Xul9\n",
    "e/bsISAgQJYcIYQEyOu8KVOmTBb/xW/evEmePHky5Ex3cHBAq9XK0i+EmdJqtZQtW5b8+fOj0WiI\n",
    "jIzk7NmzBAUFWX6AeHp6UqZMGU6fPi1z2gJVr14dnU4GIRDCHJUvX55169aRO3dubGxsUh6PjIxk\n",
    "2bJlDBs2zGwuNvfaa5EZM2bg4+Mjc9vCFC5cmOHDh0tFZDAREREEBwcTEhJCaGgoJpOJ1q1boyhy\n",
    "pURzUrduXTZs2ICb2/OjQTs7O/PZZ5+RO3du2rRpYxblfe3DeBs3boyfn5/McQvi5eXFnj17cHZ2\n",
    "lsrIYL799luKFClCzZo1ad26NTY2NhIeZmjJkiUvDI8ntW7dmpEjR1p2CwSgTZs23L17l/Pnz7Nx\n",
    "40ZZIM2Uq6srbdu2JX/+/BIeGVSLFi0YO3YsAKNGjaJZs2ZSKWbm448/Jl++1A3C2aZNG2bNmmXZ\n",
    "AQKQNWtWsmbNSr169WQJEMLMxMTEsHnzZipXroyfnx+jRo1KCRJhXvLnz5/qjfCyZnKJAOlJFSId\n",
    "UlWVrVu3kiVLFjp16oSiKGTPnp18+fLh6OgoFWSG8ubNm+rXmstRlBIgQqQzv/32GwkJCfj4+Dw1\n",
    "2oCDgwPly5eXCjJT169fT/VrY2NjJUCEEGnn5MmT3L59m3r16mFvby8VYmHOnj2LyWRCo9Gk6rXm\n",
    "QAZTFMLCXb58mR9//JHcuXPTrFkzCQ8L5efnl6pz61RVZfny5RIgQojXFxoayrp16zAajbRv3/6V\n",
    "h+UR5ufjjz/m1q1bL33eZDLx/fffs2TJErMor+zCEsLCxMTEcPjwYezs7Pjwww+lQtKRs2fPUrBg\n",
    "Qfz9/SlXrhyenp4AJCYmcufOHaZNm8bSpUvNprwSIEJYiISEBE6dOsWDBw9o2rSpVEg6ns+NGzcG\n",
    "kk6TyJ07N8eOHTPLskqACGHmjEYj58+f5/Tp03Tp0kVO2M1AgoODCQ4ONtvySYAIYaZUVeXWrVts\n",
    "2rSJPn36UKpUKakUYVakE10IMxQREcHcuXOxt7dn0KBB2NraSqUICRAhxMvFxcWxaNEiwsPDGTp0\n",
    "KB4eHrLLSrwzrzpKgQSIEGYgMTGRVatWERgYSM+ePcmTJ0+qTigT70fdunXT5fd6leFUQPpAhHiv\n",
    "jEYju3btwsbGhvbt2z819IgwXx07dmTNmjXp6jsVLlyYkiVLSoAIYe5UVeWvv/7i9OnT+Pr64uTk\n",
    "JJViQSpUqJDuvlPv3r1feXeptJGFeMeCgoJYvnw52bJlo2vXrhIeFihz5sz4+/unm+9TqFAh+vTp\n",
    "88rvkwAR4h15+PBhyhAU3bt3TznLWFimpk2bMnv27HTxXfbu3YudnZ0EiBDmJi4ujuXLlxMcHEzP\n",
    "nj3JmTOnVEo6oNVqGTJkCAEBARb7HVq3bs29e/fIlSvXa73fIvpAEh9e4+cDJ4hOMKBorchboiqV\n",
    "i2ZPetIYwsYf95KjXA2qFHm+EqIu72f7qXBa+DbHzkoLqsrhn7dw82H8c6/NW9qbqsXyAAn8smEz\n",
    "9/QKJeu1okRmqydeZeLonm3cjMtK2+aVOXXAn0t3Xj42v9YxC20+qIvmBbsWI29f5Nff/yI20YjG\n",
    "ypYKNeuTP7Nc7Ce9UFWVTZs2kTlzZj766COzuQiQSNsQadq0KWFhYVy8eJHvv/+egwcPYjKZzLbM\n",
    "pUqVokmTJlSvXp1ixYq90WHiZh4gRn73X0rDln2IAgqWKk/02RPcBTpPWsfS8R2wSbzNZ5060Tfg\n",
    "0AsDJOb0Wj787CJhzZomB4iJncuGM+OgC21rF3zi126iea4yVAUwPGB82w85DFTvNJH9K8eje5QA\n",
    "qsqvAQv58kR1WjavzJ3zv7Fm5z8ogDHqATsPHKVUpbrkzpw0pLZ70Ya0+eDZQ/5Uzm79htItBpOt\n",
    "TG2q57HGz/9noASHL/+Kt1cm+WVauIMHDxIZGUmTJk1ea9eAsCyurq5UqVKFKlWqZKjvbdYBcu+E\n",
    "H018+1Br7CqWjO5AVoek4gaePsTsmZuJowM2KPxXfj77CgUF60q9WL++90vfoQFKVWjN72u+YeXg\n",
    "/nxSweOp5x9Nslm/uTTrl/R3/MVD2BWtwYgpy+jUMO+/likqwZkDZ25Qs1RuAB5c2kXBwj5M2nSE\n",
    "3SOayS/SQp0+fZorV65Qt25d3NzcpEKEBMh7oY9kVI/huNfqzNqJHXHSPe6u8SpTncXrq7/p/gVU\n",
    "+NfwadS0KZWMh5g3cTwd/b/FVqv8xySTmq3/3XxVqNb246ceyVSoCi1sYP+tWFkqLVBgYCBHjx6l\n",
    "Tp06lClTRipEZAhm24ke9fAu+y8FUbdpXxx176eYJqfMTFs+l6Ady/n6QNBb/ayIK8dYlwAf18ot\n",
    "S6UFCQ0NZeXKlURHR9OlSxez7yB/+PAhBoPh9SdglQ5noo2cDpfuWiBxsccIiYUitcryNkYCMkbe\n",
    "4e+//wZVTXpA60ixwrmfa1F4lvCld+OpLJ4wjL7V1+GShj+gW1f/ISoukaun9jC892Q+GbeQ/i2q\n",
    "ylJpAWJjYzlw4AA6nY6uXbuafXmjoqLYu3cvjo6ONGjQ4PUnZFcHovanr5lp7y4LdHoLEFN0CIk4\n",
    "4Or+dgaSM/y1geHDTjx+IEdjti4ewHPHyegcGP3tXNaW9GXStkC+aFUgbQqgqhzwm8+mP24THnyV\n",
    "i7ER5A6OICYqBg93B1kyzZRer+fkyZPcvHmTNm3amP1Ah/Hx8Rw4cICrV6/Ss2dPdLo3/MlnHZb+\n",
    "AiRba1mw01uAaBw9sSaG0LsGKJD207epNpCAbX0et0CUl3fGO+VpwIDWlZgxsT8jGweQJk0iRaHz\n",
    "yAV0Sv780H9+o7tvLfLWu8v9P+eRSY74NCtGo5GLFy9y+PBhevToQeXKlc2+vGfPnsXf358hQ4bQ\n",
    "qFGjtJmwR3kIBNR0MmNdeoOVHPX42utpcy2YrX0lPO3h/N7f3uqyqihK0u1fa8mGfnPnkD34ICPX\n",
    "nMOUhludjz4/c5GaDJs2Fk5/w5EzMbJkmglVVblx4wZffPEFefLkoVevXmY/Su6tW7eYMGECWbNm\n",
    "ZeLEiTg7O6fdxK2zQJF96WPmagtCsUmykKfHAHF2z0adEjnZtnkRwZGJzz0fExXNuzxVx86jEp91\n",
    "9mHTjC4cP/fmK3ij6flYNBmSvqeVnYzIag7Cw8OZNWsWOp2O4cOHv/K1Et61sLAwxo8fT1xcHFOm\n",
    "TCFbtmxv54My14XsEy175ipAsWVJgSjSX4Bg5cKcZbNwurqD2s07cyTwHjExMURHR7Jp/ijKFWlF\n",
    "8BMHkyTGxxMbE0NM8i02Lv7ftyyNicTFxxEbG5tyS9Qb/2WB09FpyixKGwMJ2HfojfZiqUY9Y7u1\n",
    "Y+fpG8Qkf/a9C3sZ1nsObnVGUa2olSyZ71F8fDxLlizh9u3bjBgxghw5cph1X0d0dDQzZszg3Llz\n",
    "TJgwgUKFCr398hYcDzlngmKBV0rUFoMSh8C9hizsb8isj1/zLP4hh/dBj4EzaFwyN1p7ZxSTiZxF\n",
    "yjBs1bdk0wEGBTtgdo/2LHV8fMavbdnO/O0/AzSa535MilZHwt5JlC61ICUIVNVIi6lLmNu+bkqy\n",
    "Pvs+a8eCjBvQkw9GLsTazuYFIZL0yH/9eBWNhsJemRjRpjoP9VY4WKncD4ulcIUuHFwzERmb9f1I\n",
    "TExk06ZN5M6dm48//vjNO5zfQXlXrlyJtbU1Q4YMwcbG5t1uwhcYATm6wt9DIeYUmK6DGm+e28mK\n",
    "A2iLQJYWkG8oaOUSwWmyFKiqavbdYfqEWOISDKiqiqIoWNnYY5dy7LaRqIjnd2cpGi3OTo4YE6KJ\n",
    "TjDh5OSEJnnFHhMdicH4/NfW2tjiaGsDmIiKjELR2eJo//SPUjUlEhUdB1pbnB2eec6QSGRMHNa2\n",
    "jtjZ/FcvuEpcTAx6oyn5e2mwtXfAWifjW75rRqORvXv3EhUVRbNmzd7xivjVmUwm9u/fz5kzZ+jV\n",
    "q5cZ7FpTwRgHRsPjg1LMai2XPHKE1gY0NrLAZ7QAEeKtrPZUlXPnznHgwAG6du2atp3Nb6m8Fy5c\n",
    "YNOmTXz66acyVIqQABHifbh37x5r167lww8/JGvWrGZf3ps3b7J06VJ69+5Njhw5ZAYKCRAh3rWo\n",
    "qChWrFhBs2bNyJMnj9mXNywsjHnz5uHr60vJkiXN/hBiIQEiRLqTkJDAihUrqFq1KiVKlDD7M8j1\n",
    "ej1Lly6lYMGC1KxZE2trObRbSIAI8U6pqoqfnx8eHh7UqFEDKyvzP0R68+bNmEwmGjVqZPbnnoiM\n",
    "TYahFOnWgQMHCAkJoVGjRri4uJh9eX/99VcCAwNp2bIlHh4eMgOFtECEeNf++usv/vrrL+rVq0eW\n",
    "LOZ/pvHp06fZuXMnbdu2xcvLS2agkAB5myIjI7lx4waWnH1ZsmSxiJWbJbl27RoHDx6kevXqFChQ\n",
    "wOzLe+PGDdavX0+dOnWoVKmSzEAhAfK23bt3j0KFChEZGWnxlX/y5EnKli0rS+EbCg0NZfv27RQt\n",
    "WtTsR8mFpDG2/P39yZYtGw0bNpQZKCyWxfWBLFq0KF2EB0CXLl04d+6cLIWvKS4ujn379qGqKt26\n",
    "dbOI8v7yyy9ER0fz0UcfyQwUEiDvWmJiYrqp/Js3b8oS+BoMBgOnTp3iwoULdO7cGa3WvC+eotfr\n",
    "+eOPPzhx4gS9e/fG1lbGYRISIOmKg8O/XwUwJkau0fG+mUwmLl26xL59++jZsycVK1Y06/KqqsrF\n",
    "ixdZu3YtAwcOpHr16jITRbqS4U9rnTFjBgkJCURGRv7rzWAwsHLlStzd5frJ72NFfOvWLWbOnEmW\n",
    "LFno37+/2Z9YFxwczMSJE9HpdEyePBlPT0+ZkUICJD0pVKgQo0aNwtraGo1G8683rVZLly5dZN/1\n",
    "OxYWFpYS8qNHjzb7AQQjIyOZPXs2QUFBTJw4kYIFC5r9We9CvK4MvQurVKlSr/weSxh4Lz2Ij49n\n",
    "xYoVlC5dmpEjR5p9P0dsbCwrV64kV65cDB061OzLK4QEyBvasGEDgYGBqT55Kzo6Gn9/f1lq3iK9\n",
    "Xs+2bduwt7ene/fuZn9RJ71ez9atWwkODqZ79+7SQS4kQDKSJk2aUK9evf/cp24ymTh8+DCnTp2S\n",
    "peYtMBqNHDx4kOvXr9OxY0eLuKjTqVOnCAgI4LPPPjP7a4kIIQHyFly+fJnLly/LkvCePLpI0rZt\n",
    "2+jTpw916tQx+/IGBQWxZMkSBg4cyIQJE2QmigxLLi4g3pvQ0FCmTZuGq6sro0aNwtXV1azL++DB\n",
    "AyZOnIjRaGTSpEky4KGQAJEqEO9abGwsX3/9NREREYwdO9bsr7AXGxvLzJkzuXLlCuPGjSNv3rxy\n",
    "ZJUQpKNdWI6OjhQsWNAsB1i8c+cOISEhGX5hS0xM5IcffqB8+fIMHDjQ7K+uZzKZWLFiBZkyZWLg\n",
    "wIHY29vLGkOI9BggDRs2ZOPGjWZZtvHjxzNlypQMu5CZTCY2btyInZ0dXbp0wc7OzuzLvGvXLkJD\n",
    "Q2nZsqXZbnZjuwAABkVJREFUn3sihARIOpaRL7ly4MABrl69SrNmzSyiz+DYsWMcP34cX19fsmfP\n",
    "LguvEBIg4l27cOECR48epUGDBtSqVcvsy3vx4kX8/f1p1qwZ/fv3lxkohASIeNdu3rzJzz//jLe3\n",
    "N927dzf78oaEhLB27VrKly/PyJEjZQYKIQEi3rX79+8TEBBA/vz56dGjh9mXNzY2lu3bt2NjY2MR\n",
    "HfpCSICIdCcuLo49e/aQkJBA165dzX5FbDAYOHToEDdv3qRjx45mP1SKEBIgIt0xmUz8+eefnDlz\n",
    "ho8++sjsh1c3mUycPn2a/fv306tXL2rXri0zUYg3JO128UpUVeXSpUvMmzeP4sWL07NnT7MPjytX\n",
    "rjBx4kQ8PT0ZOnQoTk5OMiOFkAAR79KtW7eYOnUqzs7OfPbZZ/95Fcf37f79+0yfPp3IyEgmT55M\n",
    "rly5ZCYKkYZkF5b4Tw8fPmTRokX4+Pjw+eefm/0wHtHR0axevZqCBQsyevRoGXZECAkQ8a7Fx8ez\n",
    "cuVK8uTJYxEXdYqPj2fr1q0kJCTQq1cvObJKCAkQ8a7p9Xp2795NVFQUH3/8MVZWVmZdXoPBwMGD\n",
    "Bzl+/DgDBw60iKFShJAAEemK0Wjkjz/+4Pjx4/Tp08ciLuoUGBjI//73P0aMGEHdunVlJgrxDkkb\n",
    "X6CqKn///TeTJk2iSJEiDBo0yKzDQ1VVHjx4wPjx43FycmL69Oky4KEQEiDiXQsNDeXzzz/H3t6e\n",
    "SZMm4e7ubtbljYmJYerUqYSGhjJ58mSyZcsmneRCvCeyCyuDSkhIYP78+fj4+DB58mSz7yBPTEzk\n",
    "u+++o3Tp0owcOdLszz0R/2/vfl5s3uM4jr+uH5MfE2Zi1CmxsLKzUFOk1GgWSlFolMVYKKn5YTFW\n",
    "U5OlIv4BsZlmshoiUpKkbEQNC1YjSiywYMzpe3zv4nZv3a45rmScM/N4/AXf8/5869n38znnexAQ\n",
    "5p1arZaLFy9my5Yt6e/vb/gD8iQZHx9PURTp7e3NqlWrLCIICHPt7t27efPmTXp6etLa2trw13v/\n",
    "/v1MTk5m//796ejosIAgIPwu27dvb4onjqdPn+b27dvZt29fduzYYeGgQTlEX0AaPR4vX77MuXPn\n",
    "UhRFBgYGsnHjRosGnkBgdh8/fszY2Fg2b96cwcFB36oCAYH6/v7F+5cvX3L06NGm2F4DBITfqCzL\n",
    "PHz4MM+ePUtPT49Xj4CAwPdNTk7mxo0b6e3tTWdnp4FAE3OIzpyYmprK6dOns2jRogwNDWXdunWG\n",
    "Ap5AYHbv37/P5cuXs3Xr1gwPDzsgBwGB+j5//pxr166lpaUl/f39wgECAvVVq9Xcu3cvL168yLFj\n",
    "xxr+HVuAgPCb1Wq1PH78OFevXs3Q0FC6uroMBeY5h+j8lLIs8/r165w6dSobNmzIyMhIVq5caTAg\n",
    "IDC7T58+ZWRkJNVqNWfOnElHR4ezDlhAbGHxw2ZmZnLhwoXs3r07w8PDWbLEbQQCAnUURZFLly5l\n",
    "/fr16evry7JlywwFBATqu379el69epWDBw/6/3FAQPi+J0+e5M6dOzl06FD27NljIMA/HKLzTVNT\n",
    "Uzl//nxaW1szODiYSqViKIAnEGb37t27jI+Pp7OzMwMDAwYCCAj/devWrWzbti3t7e2Znp7OlStX\n",
    "snbt2hw/ftwvyAEB4ds+fPiQvr6+7N27N93d3Xn79m0OHDjgvzmA/80ZyAL09evXnDhxIs+fP8/Z\n",
    "s2ezadOmHD58WDwAAaG+mzdvZnR0NMlfryI5efJkyrI0GOCH2MJaYGq1WpYvX54HDx5k9erVWbNm\n",
    "Tdra2ryCBBAQ6lu8eHF27dplEMBPs4UFgIAAICAACAgAAgIAAgKAgAAgIAAICAACAgACAoCAACAg\n",
    "AAgIAAICAAICgIAAICAACAgAAgIAAgKAgAAgIAAICAACAgACAsCvsmS+fJCJiYmsWLGiIa+tKAp3\n",
    "GiAgjapWq2V6etqKAswRW1gACAgAAgKAgAAgIAAgIAAICAACAoCAACAgjaO9vX3eDH/nzp3uQKBp\n",
    "/VGWZdlMF1ytVnPkyJE8evQoTXbp/1KpVDI2NpZKpeIuBARkrhRFkZmZmaYe/NKlS9PS0uIOBAQE\n",
    "gIXFIToAAgKAgAAgIAAICAAICAA/409W/ZclkPG4BwAAAABJRU5ErkJggg==\">"
   ]
  },
  {
   "cell_type": "markdown",
   "metadata": {
    "hidden": true
   },
   "source": [
    "### HTTP Methods\n",
    "\n",
    "Since we are communicating over the internet we have to use the defined http protocols. For our APIs we will mainly use the following methods:\n",
    "\n",
    "<table class=\"wikitable sortable jquery-tablesorter\" style=\"text-align: center; width: auto; table-layout: fixed;\">\n",
    "<thead><tr>\n",
    "<th scope=\"col\" class=\"headerSort\" tabindex=\"0\" role=\"columnheader button\" title=\"Sort ascending\">HTTP method\n",
    "</th>\n",
    "<th scope=\"col\" class=\"headerSort\" tabindex=\"0\" role=\"columnheader button\" title=\"Sort ascending\">Request has Body\n",
    "</th>\n",
    "<th scope=\"col\" class=\"headerSort\" tabindex=\"0\" role=\"columnheader button\" title=\"Sort ascending\">Response has Body\n",
    "</th>\n",
    "<th scope=\"col\" class=\"headerSort\" tabindex=\"0\" role=\"columnheader button\" title=\"Sort ascending\">Safe\n",
    "</th>\n",
    "<th scope=\"col\" class=\"headerSort\" tabindex=\"0\" role=\"columnheader button\" title=\"Sort ascending\">Idempotent\n",
    "</th>\n",
    "</tr></thead><tbody>\n",
    "<tr>\n",
    "<th scope=\"row\">GET\n",
    "</th>\n",
    "<td style=\"background:#F99;vertical-align:middle;text-align:center;\" class=\"table-no\">No\n",
    "</td>\n",
    "<td style=\"background:#9F9;vertical-align:middle;text-align:center;\" class=\"table-yes\">Yes\n",
    "</td>\n",
    "<td style=\"background:#9F9;vertical-align:middle;text-align:center;\" class=\"table-yes\">Yes\n",
    "</td>\n",
    "<td style=\"background:#9F9;vertical-align:middle;text-align:center;\" class=\"table-yes\">Yes\n",
    "</td>\n",
    "</tr>\n",
    "<tr>\n",
    "<tr>\n",
    "<th scope=\"row\">POST\n",
    "</th>\n",
    "<td style=\"background:#9F9;vertical-align:middle;text-align:center;\" class=\"table-yes\">Yes\n",
    "</td>\n",
    "<td style=\"background:#9F9;vertical-align:middle;text-align:center;\" class=\"table-yes\">Yes\n",
    "</td>\n",
    "<td style=\"background:#F99;vertical-align:middle;text-align:center;\" class=\"table-no\">No\n",
    "</td>\n",
    "<td style=\"background:#F99;vertical-align:middle;text-align:center;\" class=\"table-no\">No\n",
    "</td>\n",
    "</tr>\n",
    "<tr>\n",
    "<th scope=\"row\">PUT\n",
    "</th>\n",
    "<td style=\"background:#9F9;vertical-align:middle;text-align:center;\" class=\"table-yes\">Yes\n",
    "</td>\n",
    "<td style=\"background:#9F9;vertical-align:middle;text-align:center;\" class=\"table-yes\">Yes\n",
    "</td>\n",
    "<td style=\"background:#F99;vertical-align:middle;text-align:center;\" class=\"table-no\">No\n",
    "</td>\n",
    "<td style=\"background:#9F9;vertical-align:middle;text-align:center;\" class=\"table-yes\">Yes\n",
    "</td>\n",
    "</tr>\n",
    "<tr>\n",
    "<th scope=\"row\">DELETE\n",
    "</th>\n",
    "<td style=\"background: #ddffdd; color: black; vertical-align: middle; text-align: center;\">Optional\n",
    "</td>\n",
    "<td style=\"background:#9F9;vertical-align:middle;text-align:center;\" class=\"table-yes\">Yes\n",
    "</td>\n",
    "<td style=\"background:#F99;vertical-align:middle;text-align:center;\" class=\"table-no\">No\n",
    "</td>\n",
    "<td style=\"background:#9F9;vertical-align:middle;text-align:center;\" class=\"table-yes\">Yes\n",
    "</td></tr>\n",
    "</tbody><tfoot></tfoot></table>"
   ]
  },
  {
   "cell_type": "markdown",
   "metadata": {
    "heading_collapsed": true,
    "hidden": true
   },
   "source": [
    "### Why are APIs relevant for a DataScientist?\n",
    "\n",
    "- **Extracting features**: You may need to use web APIs to extract features. For example using geolocation APIs to translate location names into latitude-longitude data.\n",
    "- **Deployment of models**: The model you have trained can be consumed in two ways:\n",
    "   1. Batch Process\n",
    "   2. Real time Process\n",
    "   \n",
    "   In the second case, the easiest way is to deploy your model via a web API so different programs can make use of it."
   ]
  },
  {
   "cell_type": "markdown",
   "metadata": {
    "hidden": true
   },
   "source": [
    "## 2. Interacting with a web API using Requests"
   ]
  },
  {
   "cell_type": "markdown",
   "metadata": {
    "hidden": true
   },
   "source": [
    "We can easily use different HTTP methods using the `requests` library.\n",
    "\n",
    "This is an API that returns the current position of the ISS:\n",
    "http://api.open-notify.org/iss-now.json'"
   ]
  },
  {
   "cell_type": "code",
   "execution_count": null,
   "metadata": {
    "hidden": true
   },
   "outputs": [],
   "source": [
    "r = requests.get('http://api.open-notify.org/iss-now.json')\n",
    "r.status_code"
   ]
  },
  {
   "cell_type": "code",
   "execution_count": null,
   "metadata": {
    "hidden": true
   },
   "outputs": [],
   "source": [
    "r.content"
   ]
  },
  {
   "cell_type": "markdown",
   "metadata": {
    "hidden": true
   },
   "source": [
    "We get back something that looks-like a python dictionary, but it is not.\n",
    "\n",
    "### JSON\n",
    "\n",
    "JSON (JavaScript Object Notation) is an open standard file format, and data interchange format to store and transmit data objects consisting of attribute–value pairs and array data types (or any other serializable value). It is a very common data format, with a diverse range of applications, such as serving as a replacement for XML.\n",
    "\n",
    "There is an interesting interview where **Douglas Crockford** explains how they discovered JSON and make it a 'standard': https://www.youtube.com/watch?v=EfEm0g-bMPc\n",
    "\n",
    "Check the website that made JSON a 'standard' for more information:https://www.json.org/json-en.html"
   ]
  },
  {
   "cell_type": "markdown",
   "metadata": {
    "hidden": true
   },
   "source": [
    "We can convert a json-formatted string such as the one we get in the response into a Python object:"
   ]
  },
  {
   "cell_type": "code",
   "execution_count": null,
   "metadata": {
    "hidden": true
   },
   "outputs": [],
   "source": [
    "pos = r.json()\n",
    "pos"
   ]
  },
  {
   "cell_type": "code",
   "execution_count": null,
   "metadata": {
    "hidden": true
   },
   "outputs": [],
   "source": [
    "pos['iss_position']['latitude']"
   ]
  },
  {
   "cell_type": "code",
   "execution_count": null,
   "metadata": {
    "hidden": true
   },
   "outputs": [],
   "source": [
    "type(pos)"
   ]
  },
  {
   "cell_type": "markdown",
   "metadata": {
    "hidden": true
   },
   "source": [
    "We can also convert a json-formatted string such as the one we get in the response into a Python object, and vice versa, with the json library:"
   ]
  },
  {
   "cell_type": "code",
   "execution_count": null,
   "metadata": {
    "hidden": true
   },
   "outputs": [],
   "source": [
    "import json \n",
    "\n",
    "pos = json.loads(r.content)\n",
    "pos"
   ]
  },
  {
   "cell_type": "markdown",
   "metadata": {
    "hidden": true
   },
   "source": [
    "We also can go in the other direction and generate json-formatted strings from Python objects:"
   ]
  },
  {
   "cell_type": "code",
   "execution_count": null,
   "metadata": {
    "hidden": true
   },
   "outputs": [],
   "source": [
    "my_dictionary = {'Chicago' : \"Illinois\", \"Kansas City\" : [\"Kansas\", \"Missouri\"]}"
   ]
  },
  {
   "cell_type": "code",
   "execution_count": null,
   "metadata": {
    "hidden": true
   },
   "outputs": [],
   "source": [
    "my_dictionary"
   ]
  },
  {
   "cell_type": "code",
   "execution_count": null,
   "metadata": {
    "hidden": true
   },
   "outputs": [],
   "source": [
    "json.dumps(my_dictionary)"
   ]
  },
  {
   "cell_type": "markdown",
   "metadata": {
    "hidden": true
   },
   "source": [
    "#### Exercise:\n",
    "Write a function that returns the time and duration of the next 5 overhead passes of the ISS for your latitude and longitude. Use the documentation in https://open-notify-api.readthedocs.io/en/latest/iss_pass.html. We are going to need to encode the parameters in the url as per the specification.\n",
    "\n",
    "For example, for Madrid:\n",
    "\n",
    "http://api.open-notify.org/iss-pass.json?lat=40.4&lon=-3.7"
   ]
  },
  {
   "cell_type": "markdown",
   "metadata": {
    "hidden": true
   },
   "source": [
    "Hint: To include parameters into a string you may want to use this method:"
   ]
  },
  {
   "cell_type": "code",
   "execution_count": null,
   "metadata": {
    "hidden": true
   },
   "outputs": [],
   "source": [
    "name = 'Carlos'\n",
    "\"Hola {}!\".format(name)"
   ]
  },
  {
   "cell_type": "code",
   "execution_count": null,
   "metadata": {
    "hidden": true
   },
   "outputs": [],
   "source": []
  },
  {
   "cell_type": "markdown",
   "metadata": {
    "hidden": true
   },
   "source": [
    "Although we managed to get the response, more complicated sets of parameters will be a complicated and error-prone thing to encode. Thankfully, the `requests` library can do that work for us."
   ]
  },
  {
   "cell_type": "code",
   "execution_count": null,
   "metadata": {
    "hidden": true
   },
   "outputs": [],
   "source": []
  },
  {
   "cell_type": "markdown",
   "metadata": {
    "hidden": true
   },
   "source": [
    "Pandas also have a built-in function to read JSONs:"
   ]
  },
  {
   "cell_type": "code",
   "execution_count": null,
   "metadata": {
    "hidden": true
   },
   "outputs": [],
   "source": [
    "pd.read_json('http://api.open-notify.org/iss-now.json')"
   ]
  },
  {
   "cell_type": "markdown",
   "metadata": {
    "hidden": true
   },
   "source": [
    "### Testing HTTP methods with a toy API\n",
    "\n",
    "The creator of the requests library **Kenneth Reitz** has created a website/API where we can test the requests methods and parameters. It is a very useful tool: http://httpbin.org/\n",
    "\n",
    "Let's try it:"
   ]
  },
  {
   "cell_type": "code",
   "execution_count": null,
   "metadata": {
    "hidden": true
   },
   "outputs": [],
   "source": [
    "r = requests.get('https://httpbin.org/get')\n",
    "r.json()"
   ]
  },
  {
   "cell_type": "markdown",
   "metadata": {
    "hidden": true
   },
   "source": [
    "The response incluedes the arguments we've sent, a header, the origin IP and the url. Let's send some arguments:"
   ]
  },
  {
   "cell_type": "code",
   "execution_count": null,
   "metadata": {
    "hidden": true
   },
   "outputs": [],
   "source": [
    "my_name = {'Name': 'Beñat', 'Surname': 'San Sebastian'}\n",
    "\n",
    "r = requests.get('https://httpbin.org/get', params=my_name)\n",
    "r.json()"
   ]
  },
  {
   "cell_type": "markdown",
   "metadata": {
    "hidden": true
   },
   "source": [
    "We can test other parameters like timeout:"
   ]
  },
  {
   "cell_type": "code",
   "execution_count": null,
   "metadata": {
    "hidden": true
   },
   "outputs": [],
   "source": [
    "r = requests.get('https://httpbin.org/delay/5', params=my_name, timeout=6)\n",
    "r.json()"
   ]
  },
  {
   "cell_type": "code",
   "execution_count": null,
   "metadata": {
    "hidden": true
   },
   "outputs": [],
   "source": [
    "r = requests.get('https://httpbin.org/delay/5', params=my_name, timeout=3)\n",
    "r.json()"
   ]
  },
  {
   "cell_type": "markdown",
   "metadata": {
    "hidden": true
   },
   "source": [
    "Even more complicated sets of parameters or actions are sometimes required. When that is the case, API designers often decide to require them via different methods like `POST`, `PUT` or `DELETE`. They allow us to send data in json format."
   ]
  },
  {
   "cell_type": "code",
   "execution_count": null,
   "metadata": {
    "hidden": true
   },
   "outputs": [],
   "source": [
    "help(requests.post)"
   ]
  },
  {
   "cell_type": "code",
   "execution_count": null,
   "metadata": {
    "hidden": true
   },
   "outputs": [],
   "source": [
    "my_info = {\"message\":\"I am a student and I love cats\",\n",
    "           \"info\":{'age':35, 'gender':'male'}}"
   ]
  },
  {
   "cell_type": "code",
   "execution_count": null,
   "metadata": {
    "hidden": true
   },
   "outputs": [],
   "source": [
    "r = requests.post('https://httpbin.org/post', json=my_info, params=my_name)\n",
    "r.json()"
   ]
  },
  {
   "cell_type": "markdown",
   "metadata": {
    "hidden": true
   },
   "source": [
    "`PUT` or `DELETE` work in a similar way but are used for different actions that we will see in the next module."
   ]
  },
  {
   "cell_type": "code",
   "execution_count": null,
   "metadata": {
    "hidden": true
   },
   "outputs": [],
   "source": [
    "my_info = {\"message\":\"I am a data scientist and I love dogs\",\n",
    "           \"info\":{'age':35, 'gender':'male'}}"
   ]
  },
  {
   "cell_type": "code",
   "execution_count": null,
   "metadata": {
    "hidden": true
   },
   "outputs": [],
   "source": [
    "r = requests.put('https://httpbin.org/put', json=my_info, params=my_name)\n",
    "r.json()"
   ]
  },
  {
   "cell_type": "code",
   "execution_count": null,
   "metadata": {
    "hidden": true
   },
   "outputs": [],
   "source": [
    "r = requests.delete('https://httpbin.org/delete', params=my_name)\n",
    "r.json()"
   ]
  },
  {
   "cell_type": "markdown",
   "metadata": {
    "hidden": true
   },
   "source": [
    "The same service can admit various methods (GET, POST etc.)"
   ]
  },
  {
   "cell_type": "code",
   "execution_count": null,
   "metadata": {
    "hidden": true
   },
   "outputs": [],
   "source": [
    "print(requests.get('https://httpbin.org/status/400'))\n",
    "print(requests.post('https://httpbin.org/status/200'))\n",
    "print(requests.delete('https://httpbin.org/status/400'))\n",
    "print(requests.put('https://httpbin.org/status/200'))"
   ]
  },
  {
   "cell_type": "markdown",
   "metadata": {
    "heading_collapsed": true
   },
   "source": [
    "# HOMEWORK"
   ]
  },
  {
   "cell_type": "markdown",
   "metadata": {
    "hidden": true
   },
   "source": [
    "#### 1. Web Scraping Exercise\n",
    "\n",
    "Count the number of S&P companies that are in each sector. You can get de info from: http://en.wikipedia.org/wiki/List_of_S%26P_500_companies"
   ]
  },
  {
   "cell_type": "code",
   "execution_count": null,
   "metadata": {
    "hidden": true
   },
   "outputs": [],
   "source": []
  },
  {
   "cell_type": "markdown",
   "metadata": {
    "hidden": true
   },
   "source": [
    "#### 2. Web APIs Exercise\n",
    "\n",
    "Include credentials to `get` method using `request` to get a succesfull authentication in this urls:\n",
    "\n",
    "'https://httpbin.org/basic-auth/pepe/abcde'\n",
    "\n",
    "1. Try without authentication\n",
    "\n",
    "\n",
    "2. Try with the correct authentication:\n",
    "    - user: pepe\n",
    "    - pass: abcde\n",
    "\n",
    "\n",
    "3. Try with wrong authentication\n",
    "\n",
    "\n",
    "4. Repet the process with Digest form of authentication: 'https://httpbin.org/digest-auth/auth/pepe/abcde'\n",
    "\n",
    "**Hint**: Check the type of authentication required and how to use it in the requests documentation: https://docs.python-requests.org/en/master/user/authentication/"
   ]
  },
  {
   "cell_type": "code",
   "execution_count": null,
   "metadata": {
    "hidden": true
   },
   "outputs": [],
   "source": []
  },
  {
   "cell_type": "markdown",
   "metadata": {
    "hidden": true
   },
   "source": [
    "#### 3. Web APIs Exercise\n",
    "\n",
    "Using http://open-notify.org/ APIs:\n",
    "\n",
    "1. Get the number of people in space via an API call.\n",
    "\n",
    "2. Make a function that checks if a given person is in space.\n",
    "\n",
    "3. Plot in a map where is the ISS currently."
   ]
  },
  {
   "cell_type": "code",
   "execution_count": null,
   "metadata": {
    "hidden": true
   },
   "outputs": [],
   "source": []
  }
 ],
 "metadata": {
  "kernelspec": {
   "display_name": "Python 3",
   "language": "python",
   "name": "python3"
  },
  "language_info": {
   "codemirror_mode": {
    "name": "ipython",
    "version": 3
   },
   "file_extension": ".py",
   "mimetype": "text/x-python",
   "name": "python",
   "nbconvert_exporter": "python",
   "pygments_lexer": "ipython3",
   "version": "3.8.5"
  }
 },
 "nbformat": 4,
 "nbformat_minor": 1
}
